{
 "cells": [
  {
   "attachments": {},
   "cell_type": "markdown",
   "metadata": {},
   "source": [
    "# API City prices for living cost from numbeo.com"
   ]
  },
  {
   "cell_type": "code",
   "execution_count": null,
   "metadata": {},
   "outputs": [],
   "source": [
    "# import libraries\n",
    "import requests\n",
    "import os\n",
    "import pandas as pd\n",
    "import json\n",
    "import sql_functions as sf"
   ]
  },
  {
   "cell_type": "code",
   "execution_count": null,
   "metadata": {},
   "outputs": [],
   "source": [
    "# import load_dotenv to be able to pull the API key from the .env\n",
    "from dotenv import load_dotenv\n",
    "load_dotenv()"
   ]
  },
  {
   "attachments": {},
   "cell_type": "markdown",
   "metadata": {},
   "source": [
    "Info from API numbeo.com\n",
    "\n",
    "yearLastUpdate': 2023\n",
    "\n",
    "Our day_cost_bucket:\n",
    "'item_id': 1, 'item_name': 'Meal, Inexpensive Restaurant, Restaurants'\n",
    "'item_id': 3, 'item_name': 'McMeal at McDonalds (or Equivalent Combo Meal), Restaurants'\n",
    "'item_id': 4, 'item_name': 'Domestic Beer (0.5 liter draught), Restaurants'\n",
    "'item_id': 7, 'item_name': 'Water (0.33 liter bottle), Restaurants'\n",
    "'item_id': 114, 'item_name': 'Cappuccino (regular), Restaurants'\n",
    "\n",
    "'item_id': 13, 'item_name': 'Water (1.5 liter bottle), Markets'\n",
    "\n",
    "'item_id': 18, 'item_name': 'One-way Ticket (Local Transport), Transportation'\n",
    "\n",
    "'item_id': 108, 'item_name': 'Taxi 1km (Normal Tariff), Transportation'\n",
    "\n",
    "\n",
    "\n",
    "\n",
    "Selection list of items from numbeo.com for day_cost_bucket:\n",
    "'item_id': 1, 'item_name': 'Meal, Inexpensive Restaurant, Restaurants'\n",
    "'item_id': 2, 'item_name': 'Meal for 2 People, Mid-range Restaurant, Three-course, Restaurants'\n",
    "'item_id': 3, 'item_name': 'McMeal at McDonalds (or Equivalent Combo Meal), Restaurants'\n",
    "'item_id': 4, 'item_name': 'Domestic Beer (0.5 liter draught), Restaurants'\n",
    "'item_id': 6, 'item_name': 'Coke/Pepsi (0.33 liter bottle), Restaurants'\n",
    "'item_id': 7, 'item_name': 'Water (0.33 liter bottle), Restaurants'\n",
    "'item_id': 114, 'item_name': 'Cappuccino (regular), Restaurants'\n",
    "\n",
    "'item_id': 13, 'item_name': 'Water (1.5 liter bottle), Markets'\n",
    "\n",
    "'item_id': 18, 'item_name': 'One-way Ticket (Local Transport), Transportation'\n",
    "\n",
    "\n",
    "\n",
    "'item_id': 108, 'item_name': 'Taxi 1km (Normal Tariff), Transportation'\n",
    "\n"
   ]
  },
  {
   "cell_type": "code",
   "execution_count": null,
   "metadata": {},
   "outputs": [],
   "source": [
    "#Load city list from data/cities_numbeo excel file\n",
    "city_list = pd.read_excel('data/Cities_numbeo.xlsx')\n"
   ]
  },
  {
   "cell_type": "code",
   "execution_count": null,
   "metadata": {},
   "outputs": [],
   "source": [
    "city_list.head()"
   ]
  },
  {
   "cell_type": "code",
   "execution_count": null,
   "metadata": {},
   "outputs": [],
   "source": [
    "#Split the list in three columns on comma ' , ' \n",
    "city_list[['city', 'country', 'country_2']] = city_list['City'].str.split(', ', expand=True)"
   ]
  },
  {
   "cell_type": "code",
   "execution_count": null,
   "metadata": {},
   "outputs": [],
   "source": [
    "city_list.head()"
   ]
  },
  {
   "cell_type": "code",
   "execution_count": null,
   "metadata": {},
   "outputs": [],
   "source": [
    "# Update the 'country' column in the city_list df with values from the 'country_2' column, but only for rows where 'country_2' is not null\n",
    "city_list.loc[city_list['country_2'].notnull(), 'country'] = city_list['country_2']"
   ]
  },
  {
   "cell_type": "code",
   "execution_count": null,
   "metadata": {},
   "outputs": [],
   "source": [
    "city_list.head()"
   ]
  },
  {
   "cell_type": "code",
   "execution_count": null,
   "metadata": {},
   "outputs": [],
   "source": [
    "# Check for unique vvalues in country column\n",
    "city_list['country'].unique()"
   ]
  },
  {
   "cell_type": "code",
   "execution_count": null,
   "metadata": {},
   "outputs": [],
   "source": [
    "# drop the columns \"city\" and \"country_2\"\n",
    "city_list.drop(['City', 'country_2'], axis = 1, inplace = True)"
   ]
  },
  {
   "cell_type": "code",
   "execution_count": null,
   "metadata": {},
   "outputs": [],
   "source": [
    "city_list.head()"
   ]
  },
  {
   "cell_type": "code",
   "execution_count": null,
   "metadata": {},
   "outputs": [],
   "source": [
    "# extract the 'city' column from the city_list df, convert it to list and store it in the variable 'city'\n",
    "city = list(city_list['city'])"
   ]
  },
  {
   "cell_type": "code",
   "execution_count": null,
   "metadata": {},
   "outputs": [],
   "source": [
    "city"
   ]
  },
  {
   "cell_type": "code",
   "execution_count": null,
   "metadata": {},
   "outputs": [],
   "source": [
    "# extract the 'country' column from the city_list df, convert it to list and store it in the variable 'country'\n",
    "country = list(city_list['country'])"
   ]
  },
  {
   "cell_type": "code",
   "execution_count": null,
   "metadata": {},
   "outputs": [],
   "source": [
    "country"
   ]
  },
  {
   "cell_type": "code",
   "execution_count": null,
   "metadata": {},
   "outputs": [],
   "source": [
    "# create a dictionary with city and country for the API query\n",
    "city_count_dict = dict(zip(city, country))"
   ]
  },
  {
   "cell_type": "code",
   "execution_count": null,
   "metadata": {},
   "outputs": [],
   "source": [
    "city_count_dict"
   ]
  },
  {
   "cell_type": "code",
   "execution_count": 270,
   "metadata": {},
   "outputs": [
    {
     "data": {
      "text/html": [
       "<div>\n",
       "<style scoped>\n",
       "    .dataframe tbody tr th:only-of-type {\n",
       "        vertical-align: middle;\n",
       "    }\n",
       "\n",
       "    .dataframe tbody tr th {\n",
       "        vertical-align: top;\n",
       "    }\n",
       "\n",
       "    .dataframe thead th {\n",
       "        text-align: right;\n",
       "    }\n",
       "</style>\n",
       "<table border=\"1\" class=\"dataframe\">\n",
       "  <thead>\n",
       "    <tr style=\"text-align: right;\">\n",
       "      <th></th>\n",
       "      <th>data_points</th>\n",
       "      <th>item_id</th>\n",
       "      <th>lowest_price</th>\n",
       "      <th>average_price</th>\n",
       "      <th>highest_price</th>\n",
       "      <th>item_name</th>\n",
       "      <th>city</th>\n",
       "      <th>currency</th>\n",
       "    </tr>\n",
       "  </thead>\n",
       "  <tbody>\n",
       "    <tr>\n",
       "      <th>0</th>\n",
       "      <td>4</td>\n",
       "      <td>1</td>\n",
       "      <td>1.607828</td>\n",
       "      <td>2.572524</td>\n",
       "      <td>3.215656</td>\n",
       "      <td>Meal, Inexpensive Restaurant, Restaurants</td>\n",
       "      <td>W</td>\n",
       "      <td>EUR</td>\n",
       "    </tr>\n",
       "    <tr>\n",
       "      <th>1</th>\n",
       "      <td>4</td>\n",
       "      <td>3</td>\n",
       "      <td>3.858787</td>\n",
       "      <td>5.145049</td>\n",
       "      <td>6.431311</td>\n",
       "      <td>McMeal at McDonalds (or Equivalent Combo Meal)...</td>\n",
       "      <td>W</td>\n",
       "      <td>EUR</td>\n",
       "    </tr>\n",
       "    <tr>\n",
       "      <th>2</th>\n",
       "      <td>4</td>\n",
       "      <td>4</td>\n",
       "      <td>1.029010</td>\n",
       "      <td>1.157636</td>\n",
       "      <td>2.250959</td>\n",
       "      <td>Domestic Beer (0.5 liter draught), Restaurants</td>\n",
       "      <td>W</td>\n",
       "      <td>EUR</td>\n",
       "    </tr>\n",
       "    <tr>\n",
       "      <th>3</th>\n",
       "      <td>4</td>\n",
       "      <td>7</td>\n",
       "      <td>0.160783</td>\n",
       "      <td>0.192939</td>\n",
       "      <td>0.321566</td>\n",
       "      <td>Water (0.33 liter bottle) , Restaurants</td>\n",
       "      <td>W</td>\n",
       "      <td>EUR</td>\n",
       "    </tr>\n",
       "    <tr>\n",
       "      <th>4</th>\n",
       "      <td>4</td>\n",
       "      <td>13</td>\n",
       "      <td>0.321566</td>\n",
       "      <td>0.643131</td>\n",
       "      <td>0.964697</td>\n",
       "      <td>Water (1.5 liter bottle), Markets</td>\n",
       "      <td>W</td>\n",
       "      <td>EUR</td>\n",
       "    </tr>\n",
       "    <tr>\n",
       "      <th>5</th>\n",
       "      <td>2</td>\n",
       "      <td>26</td>\n",
       "      <td>64.313111</td>\n",
       "      <td>96.469667</td>\n",
       "      <td>128.626223</td>\n",
       "      <td>Apartment (1 bedroom) in City Centre, Rent Per...</td>\n",
       "      <td>W</td>\n",
       "      <td>EUR</td>\n",
       "    </tr>\n",
       "    <tr>\n",
       "      <th>6</th>\n",
       "      <td>4</td>\n",
       "      <td>108</td>\n",
       "      <td>1.286262</td>\n",
       "      <td>1.286262</td>\n",
       "      <td>1.286262</td>\n",
       "      <td>Taxi 1km (Normal Tariff), Transportation</td>\n",
       "      <td>W</td>\n",
       "      <td>EUR</td>\n",
       "    </tr>\n",
       "    <tr>\n",
       "      <th>7</th>\n",
       "      <td>4</td>\n",
       "      <td>114</td>\n",
       "      <td>0.964697</td>\n",
       "      <td>0.964697</td>\n",
       "      <td>1.607828</td>\n",
       "      <td>Cappuccino (regular), Restaurants</td>\n",
       "      <td>W</td>\n",
       "      <td>EUR</td>\n",
       "    </tr>\n",
       "    <tr>\n",
       "      <th>8</th>\n",
       "      <td>17</td>\n",
       "      <td>1</td>\n",
       "      <td>11.000000</td>\n",
       "      <td>15.000000</td>\n",
       "      <td>20.000000</td>\n",
       "      <td>Meal, Inexpensive Restaurant, Restaurants</td>\n",
       "      <td>s</td>\n",
       "      <td>EUR</td>\n",
       "    </tr>\n",
       "    <tr>\n",
       "      <th>9</th>\n",
       "      <td>8</td>\n",
       "      <td>3</td>\n",
       "      <td>9.000000</td>\n",
       "      <td>9.900000</td>\n",
       "      <td>12.000000</td>\n",
       "      <td>McMeal at McDonalds (or Equivalent Combo Meal)...</td>\n",
       "      <td>s</td>\n",
       "      <td>EUR</td>\n",
       "    </tr>\n",
       "    <tr>\n",
       "      <th>10</th>\n",
       "      <td>15</td>\n",
       "      <td>4</td>\n",
       "      <td>3.800000</td>\n",
       "      <td>4.400000</td>\n",
       "      <td>5.000000</td>\n",
       "      <td>Domestic Beer (0.5 liter draught), Restaurants</td>\n",
       "      <td>s</td>\n",
       "      <td>EUR</td>\n",
       "    </tr>\n",
       "    <tr>\n",
       "      <th>11</th>\n",
       "      <td>14</td>\n",
       "      <td>7</td>\n",
       "      <td>2.000000</td>\n",
       "      <td>2.711111</td>\n",
       "      <td>3.000000</td>\n",
       "      <td>Water (0.33 liter bottle) , Restaurants</td>\n",
       "      <td>s</td>\n",
       "      <td>EUR</td>\n",
       "    </tr>\n",
       "    <tr>\n",
       "      <th>12</th>\n",
       "      <td>13</td>\n",
       "      <td>13</td>\n",
       "      <td>0.390000</td>\n",
       "      <td>0.721111</td>\n",
       "      <td>1.000000</td>\n",
       "      <td>Water (1.5 liter bottle), Markets</td>\n",
       "      <td>s</td>\n",
       "      <td>EUR</td>\n",
       "    </tr>\n",
       "    <tr>\n",
       "      <th>13</th>\n",
       "      <td>17</td>\n",
       "      <td>18</td>\n",
       "      <td>2.200000</td>\n",
       "      <td>2.500000</td>\n",
       "      <td>4.000000</td>\n",
       "      <td>One-way Ticket (Local Transport), Transportation</td>\n",
       "      <td>s</td>\n",
       "      <td>EUR</td>\n",
       "    </tr>\n",
       "    <tr>\n",
       "      <th>14</th>\n",
       "      <td>21</td>\n",
       "      <td>26</td>\n",
       "      <td>780.000000</td>\n",
       "      <td>1042.142857</td>\n",
       "      <td>1200.000000</td>\n",
       "      <td>Apartment (1 bedroom) in City Centre, Rent Per...</td>\n",
       "      <td>s</td>\n",
       "      <td>EUR</td>\n",
       "    </tr>\n",
       "    <tr>\n",
       "      <th>15</th>\n",
       "      <td>4</td>\n",
       "      <td>108</td>\n",
       "      <td>1.000000</td>\n",
       "      <td>2.470000</td>\n",
       "      <td>4.000000</td>\n",
       "      <td>Taxi 1km (Normal Tariff), Transportation</td>\n",
       "      <td>s</td>\n",
       "      <td>EUR</td>\n",
       "    </tr>\n",
       "    <tr>\n",
       "      <th>16</th>\n",
       "      <td>17</td>\n",
       "      <td>114</td>\n",
       "      <td>3.000000</td>\n",
       "      <td>3.850000</td>\n",
       "      <td>4.900000</td>\n",
       "      <td>Cappuccino (regular), Restaurants</td>\n",
       "      <td>s</td>\n",
       "      <td>EUR</td>\n",
       "    </tr>\n",
       "    <tr>\n",
       "      <th>17</th>\n",
       "      <td>12</td>\n",
       "      <td>1</td>\n",
       "      <td>9.000000</td>\n",
       "      <td>14.500000</td>\n",
       "      <td>20.000000</td>\n",
       "      <td>Meal, Inexpensive Restaurant, Restaurants</td>\n",
       "      <td>h</td>\n",
       "      <td>EUR</td>\n",
       "    </tr>\n",
       "    <tr>\n",
       "      <th>18</th>\n",
       "      <td>12</td>\n",
       "      <td>3</td>\n",
       "      <td>4.000000</td>\n",
       "      <td>8.000000</td>\n",
       "      <td>9.000000</td>\n",
       "      <td>McMeal at McDonalds (or Equivalent Combo Meal)...</td>\n",
       "      <td>h</td>\n",
       "      <td>EUR</td>\n",
       "    </tr>\n",
       "    <tr>\n",
       "      <th>19</th>\n",
       "      <td>12</td>\n",
       "      <td>4</td>\n",
       "      <td>1.500000</td>\n",
       "      <td>2.500000</td>\n",
       "      <td>2.800000</td>\n",
       "      <td>Domestic Beer (0.5 liter draught), Restaurants</td>\n",
       "      <td>h</td>\n",
       "      <td>EUR</td>\n",
       "    </tr>\n",
       "    <tr>\n",
       "      <th>20</th>\n",
       "      <td>12</td>\n",
       "      <td>7</td>\n",
       "      <td>1.000000</td>\n",
       "      <td>1.325000</td>\n",
       "      <td>1.500000</td>\n",
       "      <td>Water (0.33 liter bottle) , Restaurants</td>\n",
       "      <td>h</td>\n",
       "      <td>EUR</td>\n",
       "    </tr>\n",
       "    <tr>\n",
       "      <th>21</th>\n",
       "      <td>12</td>\n",
       "      <td>13</td>\n",
       "      <td>0.200000</td>\n",
       "      <td>0.632500</td>\n",
       "      <td>1.000000</td>\n",
       "      <td>Water (1.5 liter bottle), Markets</td>\n",
       "      <td>h</td>\n",
       "      <td>EUR</td>\n",
       "    </tr>\n",
       "    <tr>\n",
       "      <th>22</th>\n",
       "      <td>1</td>\n",
       "      <td>18</td>\n",
       "      <td>NaN</td>\n",
       "      <td>2.000000</td>\n",
       "      <td>NaN</td>\n",
       "      <td>One-way Ticket (Local Transport), Transportation</td>\n",
       "      <td>h</td>\n",
       "      <td>EUR</td>\n",
       "    </tr>\n",
       "    <tr>\n",
       "      <th>23</th>\n",
       "      <td>3</td>\n",
       "      <td>26</td>\n",
       "      <td>600.000000</td>\n",
       "      <td>666.666667</td>\n",
       "      <td>700.000000</td>\n",
       "      <td>Apartment (1 bedroom) in City Centre, Rent Per...</td>\n",
       "      <td>h</td>\n",
       "      <td>EUR</td>\n",
       "    </tr>\n",
       "    <tr>\n",
       "      <th>24</th>\n",
       "      <td>12</td>\n",
       "      <td>108</td>\n",
       "      <td>0.750000</td>\n",
       "      <td>0.750000</td>\n",
       "      <td>3.000000</td>\n",
       "      <td>Taxi 1km (Normal Tariff), Transportation</td>\n",
       "      <td>h</td>\n",
       "      <td>EUR</td>\n",
       "    </tr>\n",
       "    <tr>\n",
       "      <th>25</th>\n",
       "      <td>12</td>\n",
       "      <td>114</td>\n",
       "      <td>1.200000</td>\n",
       "      <td>1.800000</td>\n",
       "      <td>2.500000</td>\n",
       "      <td>Cappuccino (regular), Restaurants</td>\n",
       "      <td>h</td>\n",
       "      <td>EUR</td>\n",
       "    </tr>\n",
       "    <tr>\n",
       "      <th>26</th>\n",
       "      <td>6</td>\n",
       "      <td>1</td>\n",
       "      <td>4.537290</td>\n",
       "      <td>7.259664</td>\n",
       "      <td>10.889496</td>\n",
       "      <td>Meal, Inexpensive Restaurant, Restaurants</td>\n",
       "      <td>n</td>\n",
       "      <td>EUR</td>\n",
       "    </tr>\n",
       "    <tr>\n",
       "      <th>27</th>\n",
       "      <td>6</td>\n",
       "      <td>3</td>\n",
       "      <td>9.074580</td>\n",
       "      <td>9.301445</td>\n",
       "      <td>9.528309</td>\n",
       "      <td>McMeal at McDonalds (or Equivalent Combo Meal)...</td>\n",
       "      <td>n</td>\n",
       "      <td>EUR</td>\n",
       "    </tr>\n",
       "    <tr>\n",
       "      <th>28</th>\n",
       "      <td>6</td>\n",
       "      <td>4</td>\n",
       "      <td>0.907458</td>\n",
       "      <td>1.134323</td>\n",
       "      <td>1.361187</td>\n",
       "      <td>Domestic Beer (0.5 liter draught), Restaurants</td>\n",
       "      <td>n</td>\n",
       "      <td>EUR</td>\n",
       "    </tr>\n",
       "    <tr>\n",
       "      <th>29</th>\n",
       "      <td>6</td>\n",
       "      <td>7</td>\n",
       "      <td>0.453729</td>\n",
       "      <td>1.300690</td>\n",
       "      <td>2.722374</td>\n",
       "      <td>Water (0.33 liter bottle) , Restaurants</td>\n",
       "      <td>n</td>\n",
       "      <td>EUR</td>\n",
       "    </tr>\n",
       "    <tr>\n",
       "      <th>30</th>\n",
       "      <td>6</td>\n",
       "      <td>13</td>\n",
       "      <td>1.361187</td>\n",
       "      <td>1.361187</td>\n",
       "      <td>1.361187</td>\n",
       "      <td>Water (1.5 liter bottle), Markets</td>\n",
       "      <td>n</td>\n",
       "      <td>EUR</td>\n",
       "    </tr>\n",
       "    <tr>\n",
       "      <th>31</th>\n",
       "      <td>1</td>\n",
       "      <td>26</td>\n",
       "      <td>NaN</td>\n",
       "      <td>90.745800</td>\n",
       "      <td>NaN</td>\n",
       "      <td>Apartment (1 bedroom) in City Centre, Rent Per...</td>\n",
       "      <td>n</td>\n",
       "      <td>EUR</td>\n",
       "    </tr>\n",
       "    <tr>\n",
       "      <th>32</th>\n",
       "      <td>6</td>\n",
       "      <td>108</td>\n",
       "      <td>2.722374</td>\n",
       "      <td>3.629832</td>\n",
       "      <td>4.537290</td>\n",
       "      <td>Taxi 1km (Normal Tariff), Transportation</td>\n",
       "      <td>n</td>\n",
       "      <td>EUR</td>\n",
       "    </tr>\n",
       "    <tr>\n",
       "      <th>33</th>\n",
       "      <td>6</td>\n",
       "      <td>114</td>\n",
       "      <td>0.453729</td>\n",
       "      <td>1.134323</td>\n",
       "      <td>4.537290</td>\n",
       "      <td>Cappuccino (regular), Restaurants</td>\n",
       "      <td>n</td>\n",
       "      <td>EUR</td>\n",
       "    </tr>\n",
       "    <tr>\n",
       "      <th>34</th>\n",
       "      <td>7</td>\n",
       "      <td>1</td>\n",
       "      <td>12.000000</td>\n",
       "      <td>13.000000</td>\n",
       "      <td>19.000000</td>\n",
       "      <td>Meal, Inexpensive Restaurant, Restaurants</td>\n",
       "      <td>o</td>\n",
       "      <td>EUR</td>\n",
       "    </tr>\n",
       "    <tr>\n",
       "      <th>35</th>\n",
       "      <td>7</td>\n",
       "      <td>3</td>\n",
       "      <td>10.000000</td>\n",
       "      <td>10.000000</td>\n",
       "      <td>10.000000</td>\n",
       "      <td>McMeal at McDonalds (or Equivalent Combo Meal)...</td>\n",
       "      <td>o</td>\n",
       "      <td>EUR</td>\n",
       "    </tr>\n",
       "    <tr>\n",
       "      <th>36</th>\n",
       "      <td>7</td>\n",
       "      <td>4</td>\n",
       "      <td>3.000000</td>\n",
       "      <td>5.500000</td>\n",
       "      <td>8.000000</td>\n",
       "      <td>Domestic Beer (0.5 liter draught), Restaurants</td>\n",
       "      <td>o</td>\n",
       "      <td>EUR</td>\n",
       "    </tr>\n",
       "    <tr>\n",
       "      <th>37</th>\n",
       "      <td>7</td>\n",
       "      <td>7</td>\n",
       "      <td>1.000000</td>\n",
       "      <td>1.000000</td>\n",
       "      <td>1.000000</td>\n",
       "      <td>Water (0.33 liter bottle) , Restaurants</td>\n",
       "      <td>o</td>\n",
       "      <td>EUR</td>\n",
       "    </tr>\n",
       "    <tr>\n",
       "      <th>38</th>\n",
       "      <td>7</td>\n",
       "      <td>13</td>\n",
       "      <td>NaN</td>\n",
       "      <td>NaN</td>\n",
       "      <td>NaN</td>\n",
       "      <td>Water (1.5 liter bottle), Markets</td>\n",
       "      <td>o</td>\n",
       "      <td>EUR</td>\n",
       "    </tr>\n",
       "    <tr>\n",
       "      <th>39</th>\n",
       "      <td>3</td>\n",
       "      <td>18</td>\n",
       "      <td>1.350000</td>\n",
       "      <td>1.350000</td>\n",
       "      <td>1.900000</td>\n",
       "      <td>One-way Ticket (Local Transport), Transportation</td>\n",
       "      <td>o</td>\n",
       "      <td>EUR</td>\n",
       "    </tr>\n",
       "    <tr>\n",
       "      <th>40</th>\n",
       "      <td>1</td>\n",
       "      <td>26</td>\n",
       "      <td>NaN</td>\n",
       "      <td>450.000000</td>\n",
       "      <td>NaN</td>\n",
       "      <td>Apartment (1 bedroom) in City Centre, Rent Per...</td>\n",
       "      <td>o</td>\n",
       "      <td>EUR</td>\n",
       "    </tr>\n",
       "    <tr>\n",
       "      <th>41</th>\n",
       "      <td>7</td>\n",
       "      <td>108</td>\n",
       "      <td>1.600000</td>\n",
       "      <td>1.600000</td>\n",
       "      <td>1.600000</td>\n",
       "      <td>Taxi 1km (Normal Tariff), Transportation</td>\n",
       "      <td>o</td>\n",
       "      <td>EUR</td>\n",
       "    </tr>\n",
       "    <tr>\n",
       "      <th>42</th>\n",
       "      <td>7</td>\n",
       "      <td>114</td>\n",
       "      <td>1.400000</td>\n",
       "      <td>1.800000</td>\n",
       "      <td>2.500000</td>\n",
       "      <td>Cappuccino (regular), Restaurants</td>\n",
       "      <td>o</td>\n",
       "      <td>EUR</td>\n",
       "    </tr>\n",
       "    <tr>\n",
       "      <th>43</th>\n",
       "      <td>6</td>\n",
       "      <td>1</td>\n",
       "      <td>4.537290</td>\n",
       "      <td>7.259664</td>\n",
       "      <td>10.889496</td>\n",
       "      <td>Meal, Inexpensive Restaurant, Restaurants</td>\n",
       "      <td>n</td>\n",
       "      <td>EUR</td>\n",
       "    </tr>\n",
       "    <tr>\n",
       "      <th>44</th>\n",
       "      <td>6</td>\n",
       "      <td>3</td>\n",
       "      <td>9.074580</td>\n",
       "      <td>9.301445</td>\n",
       "      <td>9.528309</td>\n",
       "      <td>McMeal at McDonalds (or Equivalent Combo Meal)...</td>\n",
       "      <td>n</td>\n",
       "      <td>EUR</td>\n",
       "    </tr>\n",
       "    <tr>\n",
       "      <th>45</th>\n",
       "      <td>6</td>\n",
       "      <td>4</td>\n",
       "      <td>0.907458</td>\n",
       "      <td>1.134323</td>\n",
       "      <td>1.361187</td>\n",
       "      <td>Domestic Beer (0.5 liter draught), Restaurants</td>\n",
       "      <td>n</td>\n",
       "      <td>EUR</td>\n",
       "    </tr>\n",
       "    <tr>\n",
       "      <th>46</th>\n",
       "      <td>6</td>\n",
       "      <td>7</td>\n",
       "      <td>0.453729</td>\n",
       "      <td>1.300690</td>\n",
       "      <td>2.722374</td>\n",
       "      <td>Water (0.33 liter bottle) , Restaurants</td>\n",
       "      <td>n</td>\n",
       "      <td>EUR</td>\n",
       "    </tr>\n",
       "    <tr>\n",
       "      <th>47</th>\n",
       "      <td>6</td>\n",
       "      <td>13</td>\n",
       "      <td>1.361187</td>\n",
       "      <td>1.361187</td>\n",
       "      <td>1.361187</td>\n",
       "      <td>Water (1.5 liter bottle), Markets</td>\n",
       "      <td>n</td>\n",
       "      <td>EUR</td>\n",
       "    </tr>\n",
       "    <tr>\n",
       "      <th>48</th>\n",
       "      <td>1</td>\n",
       "      <td>26</td>\n",
       "      <td>NaN</td>\n",
       "      <td>90.745800</td>\n",
       "      <td>NaN</td>\n",
       "      <td>Apartment (1 bedroom) in City Centre, Rent Per...</td>\n",
       "      <td>n</td>\n",
       "      <td>EUR</td>\n",
       "    </tr>\n",
       "    <tr>\n",
       "      <th>49</th>\n",
       "      <td>6</td>\n",
       "      <td>108</td>\n",
       "      <td>2.722374</td>\n",
       "      <td>3.629832</td>\n",
       "      <td>4.537290</td>\n",
       "      <td>Taxi 1km (Normal Tariff), Transportation</td>\n",
       "      <td>n</td>\n",
       "      <td>EUR</td>\n",
       "    </tr>\n",
       "    <tr>\n",
       "      <th>50</th>\n",
       "      <td>6</td>\n",
       "      <td>114</td>\n",
       "      <td>0.453729</td>\n",
       "      <td>1.134323</td>\n",
       "      <td>4.537290</td>\n",
       "      <td>Cappuccino (regular), Restaurants</td>\n",
       "      <td>n</td>\n",
       "      <td>EUR</td>\n",
       "    </tr>\n",
       "  </tbody>\n",
       "</table>\n",
       "</div>"
      ],
      "text/plain": [
       "    data_points  item_id  lowest_price  average_price  highest_price  \\\n",
       "0             4        1      1.607828       2.572524       3.215656   \n",
       "1             4        3      3.858787       5.145049       6.431311   \n",
       "2             4        4      1.029010       1.157636       2.250959   \n",
       "3             4        7      0.160783       0.192939       0.321566   \n",
       "4             4       13      0.321566       0.643131       0.964697   \n",
       "5             2       26     64.313111      96.469667     128.626223   \n",
       "6             4      108      1.286262       1.286262       1.286262   \n",
       "7             4      114      0.964697       0.964697       1.607828   \n",
       "8            17        1     11.000000      15.000000      20.000000   \n",
       "9             8        3      9.000000       9.900000      12.000000   \n",
       "10           15        4      3.800000       4.400000       5.000000   \n",
       "11           14        7      2.000000       2.711111       3.000000   \n",
       "12           13       13      0.390000       0.721111       1.000000   \n",
       "13           17       18      2.200000       2.500000       4.000000   \n",
       "14           21       26    780.000000    1042.142857    1200.000000   \n",
       "15            4      108      1.000000       2.470000       4.000000   \n",
       "16           17      114      3.000000       3.850000       4.900000   \n",
       "17           12        1      9.000000      14.500000      20.000000   \n",
       "18           12        3      4.000000       8.000000       9.000000   \n",
       "19           12        4      1.500000       2.500000       2.800000   \n",
       "20           12        7      1.000000       1.325000       1.500000   \n",
       "21           12       13      0.200000       0.632500       1.000000   \n",
       "22            1       18           NaN       2.000000            NaN   \n",
       "23            3       26    600.000000     666.666667     700.000000   \n",
       "24           12      108      0.750000       0.750000       3.000000   \n",
       "25           12      114      1.200000       1.800000       2.500000   \n",
       "26            6        1      4.537290       7.259664      10.889496   \n",
       "27            6        3      9.074580       9.301445       9.528309   \n",
       "28            6        4      0.907458       1.134323       1.361187   \n",
       "29            6        7      0.453729       1.300690       2.722374   \n",
       "30            6       13      1.361187       1.361187       1.361187   \n",
       "31            1       26           NaN      90.745800            NaN   \n",
       "32            6      108      2.722374       3.629832       4.537290   \n",
       "33            6      114      0.453729       1.134323       4.537290   \n",
       "34            7        1     12.000000      13.000000      19.000000   \n",
       "35            7        3     10.000000      10.000000      10.000000   \n",
       "36            7        4      3.000000       5.500000       8.000000   \n",
       "37            7        7      1.000000       1.000000       1.000000   \n",
       "38            7       13           NaN            NaN            NaN   \n",
       "39            3       18      1.350000       1.350000       1.900000   \n",
       "40            1       26           NaN     450.000000            NaN   \n",
       "41            7      108      1.600000       1.600000       1.600000   \n",
       "42            7      114      1.400000       1.800000       2.500000   \n",
       "43            6        1      4.537290       7.259664      10.889496   \n",
       "44            6        3      9.074580       9.301445       9.528309   \n",
       "45            6        4      0.907458       1.134323       1.361187   \n",
       "46            6        7      0.453729       1.300690       2.722374   \n",
       "47            6       13      1.361187       1.361187       1.361187   \n",
       "48            1       26           NaN      90.745800            NaN   \n",
       "49            6      108      2.722374       3.629832       4.537290   \n",
       "50            6      114      0.453729       1.134323       4.537290   \n",
       "\n",
       "                                            item_name city currency  \n",
       "0           Meal, Inexpensive Restaurant, Restaurants    W      EUR  \n",
       "1   McMeal at McDonalds (or Equivalent Combo Meal)...    W      EUR  \n",
       "2      Domestic Beer (0.5 liter draught), Restaurants    W      EUR  \n",
       "3             Water (0.33 liter bottle) , Restaurants    W      EUR  \n",
       "4                   Water (1.5 liter bottle), Markets    W      EUR  \n",
       "5   Apartment (1 bedroom) in City Centre, Rent Per...    W      EUR  \n",
       "6            Taxi 1km (Normal Tariff), Transportation    W      EUR  \n",
       "7                   Cappuccino (regular), Restaurants    W      EUR  \n",
       "8           Meal, Inexpensive Restaurant, Restaurants    s      EUR  \n",
       "9   McMeal at McDonalds (or Equivalent Combo Meal)...    s      EUR  \n",
       "10     Domestic Beer (0.5 liter draught), Restaurants    s      EUR  \n",
       "11            Water (0.33 liter bottle) , Restaurants    s      EUR  \n",
       "12                  Water (1.5 liter bottle), Markets    s      EUR  \n",
       "13   One-way Ticket (Local Transport), Transportation    s      EUR  \n",
       "14  Apartment (1 bedroom) in City Centre, Rent Per...    s      EUR  \n",
       "15           Taxi 1km (Normal Tariff), Transportation    s      EUR  \n",
       "16                  Cappuccino (regular), Restaurants    s      EUR  \n",
       "17          Meal, Inexpensive Restaurant, Restaurants    h      EUR  \n",
       "18  McMeal at McDonalds (or Equivalent Combo Meal)...    h      EUR  \n",
       "19     Domestic Beer (0.5 liter draught), Restaurants    h      EUR  \n",
       "20            Water (0.33 liter bottle) , Restaurants    h      EUR  \n",
       "21                  Water (1.5 liter bottle), Markets    h      EUR  \n",
       "22   One-way Ticket (Local Transport), Transportation    h      EUR  \n",
       "23  Apartment (1 bedroom) in City Centre, Rent Per...    h      EUR  \n",
       "24           Taxi 1km (Normal Tariff), Transportation    h      EUR  \n",
       "25                  Cappuccino (regular), Restaurants    h      EUR  \n",
       "26          Meal, Inexpensive Restaurant, Restaurants    n      EUR  \n",
       "27  McMeal at McDonalds (or Equivalent Combo Meal)...    n      EUR  \n",
       "28     Domestic Beer (0.5 liter draught), Restaurants    n      EUR  \n",
       "29            Water (0.33 liter bottle) , Restaurants    n      EUR  \n",
       "30                  Water (1.5 liter bottle), Markets    n      EUR  \n",
       "31  Apartment (1 bedroom) in City Centre, Rent Per...    n      EUR  \n",
       "32           Taxi 1km (Normal Tariff), Transportation    n      EUR  \n",
       "33                  Cappuccino (regular), Restaurants    n      EUR  \n",
       "34          Meal, Inexpensive Restaurant, Restaurants    o      EUR  \n",
       "35  McMeal at McDonalds (or Equivalent Combo Meal)...    o      EUR  \n",
       "36     Domestic Beer (0.5 liter draught), Restaurants    o      EUR  \n",
       "37            Water (0.33 liter bottle) , Restaurants    o      EUR  \n",
       "38                  Water (1.5 liter bottle), Markets    o      EUR  \n",
       "39   One-way Ticket (Local Transport), Transportation    o      EUR  \n",
       "40  Apartment (1 bedroom) in City Centre, Rent Per...    o      EUR  \n",
       "41           Taxi 1km (Normal Tariff), Transportation    o      EUR  \n",
       "42                  Cappuccino (regular), Restaurants    o      EUR  \n",
       "43          Meal, Inexpensive Restaurant, Restaurants    n      EUR  \n",
       "44  McMeal at McDonalds (or Equivalent Combo Meal)...    n      EUR  \n",
       "45     Domestic Beer (0.5 liter draught), Restaurants    n      EUR  \n",
       "46            Water (0.33 liter bottle) , Restaurants    n      EUR  \n",
       "47                  Water (1.5 liter bottle), Markets    n      EUR  \n",
       "48  Apartment (1 bedroom) in City Centre, Rent Per...    n      EUR  \n",
       "49           Taxi 1km (Normal Tariff), Transportation    n      EUR  \n",
       "50                  Cappuccino (regular), Restaurants    n      EUR  "
      ]
     },
     "execution_count": 270,
     "metadata": {},
     "output_type": "execute_result"
    }
   ],
   "source": [
    "# #API download from www.numbeo.com \n",
    "url = 'https://www.numbeo.com/api/city_prices'\n",
    "api_key = os.getenv('numbeo_api_key') # extract the value for the api key\n",
    "#country_list ' don`t need, we take the values for countries from country_list in cell above \n",
    "desired_item_ids = [1, 3, 4, 7, 114, 13, 18, 108, 26]\n",
    "currency = \"EUR\"\n",
    "\n",
    "data_list = []\n",
    "\n",
    "for city in city:\n",
    "    # Send the HTTP GET request for each country with currency parameter\n",
    "    response = requests.get(url, params={\"api_key\": api_key, \"query\": city, \"currency\": currency})\n",
    "    \n",
    "    # Check if the request was successful\n",
    "    if response.status_code == 200:\n",
    "        # Parse the JSON response\n",
    "        data = response.json()\n",
    "        \n",
    "        # Access the \"prices\" list from the response\n",
    "        prices = data.get(\"prices\", [])\n",
    "        \n",
    "        # Access the country's land information\n",
    "        city = city\n",
    "        \n",
    "        # Initialize a list to store the desired items for the country\n",
    "        desired_items = []\n",
    "        \n",
    "        # Iterate over the prices and check if the item_id matches the desired values\n",
    "        for price in prices:\n",
    "            item_id = price.get(\"item_id\")\n",
    "            if item_id in desired_item_ids:\n",
    "                desired_items.append(price)\n",
    "        \n",
    "        # Add the desired items, land information, and currency to the data list\n",
    "        for item in desired_items:\n",
    "            item[\"city\"] = city\n",
    "            item[\"currency\"] = currency\n",
    "        data_list.extend(desired_items)\n",
    "    else:\n",
    "        print(f\"Request for {city} failed with status code:\", response.status_code)\n",
    "\n",
    "# Create a DataFrame from the data list\n",
    "df = pd.DataFrame(data_list)\n",
    "\n",
    "# Print the DataFrame\n",
    "df"
   ]
  },
  {
   "cell_type": "code",
   "execution_count": null,
   "metadata": {},
   "outputs": [],
   "source": [
    "df.head(15)"
   ]
  },
  {
   "cell_type": "code",
   "execution_count": null,
   "metadata": {},
   "outputs": [],
   "source": [
    "# create a df backup for emergency cases\n",
    "df_backup = df"
   ]
  },
  {
   "cell_type": "code",
   "execution_count": null,
   "metadata": {},
   "outputs": [],
   "source": [
    "#drop column data_points, item_id, lowest_price and highest_price and store the data in a \"df_new\"\n",
    "df_new = df.drop([\"data_points\", 'lowest_price', 'highest_price', 'currency'], axis=1)"
   ]
  },
  {
   "cell_type": "code",
   "execution_count": null,
   "metadata": {},
   "outputs": [],
   "source": [
    "#add the column country by going though the city_count_dict \n",
    "df_new['country'] = df_new['city'].map(city_count_dict)"
   ]
  },
  {
   "cell_type": "code",
   "execution_count": null,
   "metadata": {},
   "outputs": [],
   "source": [
    "df_new.head(14)"
   ]
  },
  {
   "cell_type": "code",
   "execution_count": null,
   "metadata": {},
   "outputs": [],
   "source": [
    "df_new.info()"
   ]
  },
  {
   "cell_type": "code",
   "execution_count": null,
   "metadata": {},
   "outputs": [],
   "source": [
    "# # Display the entire df without truncation for all cells/dfs in this document\n",
    "# pd.set_option('display.max_rows', None)\n",
    "# pd.set_option('display.max_columns', None)"
   ]
  },
  {
   "cell_type": "code",
   "execution_count": null,
   "metadata": {},
   "outputs": [],
   "source": [
    "# Calculate price_per_day and calc_price for rows where the item_id = 26 and store them in the particular column\n",
    "df_new.loc[df_new['item_id'] == 26, 'price_per_day'] = df_new.loc[df_new['item_id'] == 26, 'average_price'] / 30\n",
    "df_new.loc[df_new['item_id'] == 26, 'calc_price'] = df_new.loc[df_new['item_id'] == 26, 'price_per_day'] * 3.89\n",
    "\n",
    "# for other rows where item_id is not 26, fill with NaN or any other default value\n",
    "df_new.loc[df_new['item_id'] != 26, ['price_per_day', 'calc_price']] = None\n",
    "\n",
    "df_new.head(20)"
   ]
  },
  {
   "cell_type": "code",
   "execution_count": null,
   "metadata": {},
   "outputs": [],
   "source": [
    "# create a new backup\n",
    "df_new_backup = df_new"
   ]
  },
  {
   "cell_type": "code",
   "execution_count": null,
   "metadata": {},
   "outputs": [],
   "source": [
    "# update the 'average_price' column in df_new with values from the 'calc_price' column, but only for rows where 'calc_price' is not null\n",
    "df_new.loc[df_new['calc_price'].notnull(), 'average_price'] = df_new['calc_price']\n",
    "\n",
    "df_new.head(20)"
   ]
  },
  {
   "cell_type": "code",
   "execution_count": null,
   "metadata": {},
   "outputs": [],
   "source": [
    "# create a new df named df_clean by dropping the columns \"price_per_day\" and \"calc_price\" (along the axis=1 (columns))\n",
    "df_clean = df_new.drop([\"price_per_day\", 'calc_price'], axis=1)\n",
    "\n",
    "df_clean.head(15)"
   ]
  },
  {
   "cell_type": "code",
   "execution_count": null,
   "metadata": {},
   "outputs": [],
   "source": [
    "# create another backup\n",
    "df_clean_backup = df_clean"
   ]
  },
  {
   "cell_type": "code",
   "execution_count": null,
   "metadata": {},
   "outputs": [],
   "source": [
    "# Calculate the tax_max(new taxi price for 3km) for items with 'item_id' equal to 108 (current 1 km taxi price)\n",
    "df_clean.loc[df_clean['item_id'] == 108, 'tax_max'] = df_clean.loc[df_clean['item_id'] == 108, 'average_price'] * 3\n",
    "df_clean.head(17)"
   ]
  },
  {
   "cell_type": "code",
   "execution_count": null,
   "metadata": {},
   "outputs": [],
   "source": [
    "# update the 'average_price' column in df_clean with values from the 'tax_max' column, but only for rows where 'tax_max' is not null\n",
    "df_clean.loc[df_clean['tax_max'].notnull(), 'average_price'] = df_clean['tax_max']\n",
    "df_clean.head(17)"
   ]
  },
  {
   "cell_type": "code",
   "execution_count": null,
   "metadata": {},
   "outputs": [],
   "source": [
    "# dropping the column \"tax_max\" (along the axis=1 (columns))\n",
    "df_clean = df_clean.drop(['tax_max'], axis=1)\n",
    "df_clean.head(17)"
   ]
  },
  {
   "cell_type": "code",
   "execution_count": null,
   "metadata": {},
   "outputs": [],
   "source": [
    "df_clean.head(17)"
   ]
  },
  {
   "cell_type": "code",
   "execution_count": null,
   "metadata": {},
   "outputs": [],
   "source": [
    "# create another backup\n",
    "df_clean_backup2 = df_clean"
   ]
  },
  {
   "cell_type": "code",
   "execution_count": null,
   "metadata": {},
   "outputs": [],
   "source": [
    "# Update the 'item_name' column in df_clean for rows where 'item_id' is 108 - replace 'Taxi 1km (Normal Tariff), Transportation' with 'Taxi 3km (Normal Tariff), Transportation'\n",
    "df_clean.loc[(df_clean['item_id'] == 108) & (df_clean['item_name'] == 'Taxi 1km (Normal Tariff), Transportation'), 'item_name'] = 'Taxi 3km (Normal Tariff), Transportation'\n",
    "\n",
    "df_clean.head(21)"
   ]
  },
  {
   "cell_type": "code",
   "execution_count": null,
   "metadata": {},
   "outputs": [],
   "source": [
    "from sql_functions import get_dataframe\n",
    "\n",
    "#Get the df with the airbnb prices from sql data base\n",
    "schema = 'capstone_travel_index'\n",
    "airbnb_df = get_dataframe(f'SELECT * FROM {schema}.airbnb_prices_all')\n"
   ]
  },
  {
   "cell_type": "code",
   "execution_count": null,
   "metadata": {},
   "outputs": [],
   "source": [
    "# create a backup for this file\n",
    "airbnb_df_backup = airbnb_df"
   ]
  },
  {
   "cell_type": "code",
   "execution_count": null,
   "metadata": {},
   "outputs": [],
   "source": [
    "# dropping the columns with the other room types\n",
    "airbnb_df_clean = airbnb_df.drop(['Hotel room','Private room','Shared room'], axis=1)\n",
    "airbnb_df_clean"
   ]
  },
  {
   "cell_type": "code",
   "execution_count": null,
   "metadata": {},
   "outputs": [],
   "source": [
    "airbnb_df_clean.info()"
   ]
  },
  {
   "cell_type": "code",
   "execution_count": null,
   "metadata": {},
   "outputs": [],
   "source": [
    "df_clean.info()"
   ]
  },
  {
   "cell_type": "code",
   "execution_count": null,
   "metadata": {},
   "outputs": [],
   "source": [
    "# update 'average_price' in df_clean with 'Entire home/apt' value from airbnb_df_clean,\n",
    "# for rows where 'item_id' is 26 and 'city' matches the current iteration city\n",
    "for city in list(airbnb_df_clean['city']):\n",
    "    df_clean.loc[(df_clean['item_id'] == 26) & (df_clean['city'] == city), 'average_price'] = airbnb_df_clean.query(f\"city == '{city}'\")['Entire home/apt'].values[0]"
   ]
  },
  {
   "cell_type": "code",
   "execution_count": null,
   "metadata": {},
   "outputs": [],
   "source": [
    "df_clean.info()"
   ]
  },
  {
   "cell_type": "code",
   "execution_count": null,
   "metadata": {},
   "outputs": [],
   "source": [
    "df_clean.head(17)"
   ]
  },
  {
   "cell_type": "code",
   "execution_count": null,
   "metadata": {},
   "outputs": [],
   "source": [
    "# create another backup\n",
    "df_backup5 = df_clean"
   ]
  },
  {
   "cell_type": "code",
   "execution_count": null,
   "metadata": {},
   "outputs": [],
   "source": [
    "from country_iso_dict import country_iso_dict\n",
    "\n",
    "# Add a new column \"iso3\" with ISO3 values pulled from the dict in country_iso_dict.py (mapping)\n",
    "df_clean['iso3'] = df_clean['country'].map(country_iso_dict)\n",
    "\n",
    "df_clean.head(17)"
   ]
  },
  {
   "cell_type": "code",
   "execution_count": null,
   "metadata": {},
   "outputs": [],
   "source": [
    "# create a new df df_isnull with unique countries from df_clean where the 'iso3' column is null - countries where mapping has failed\n",
    "df_isnull = df_clean[df_clean['iso3'].isnull()].country.unique()\n",
    "df_isnull"
   ]
  },
  {
   "cell_type": "code",
   "execution_count": null,
   "metadata": {},
   "outputs": [],
   "source": [
    "# array(['United Kingdom', 'Ivory Coast', 'United States',\n",
    "#        'Bosnia And Herzegovina', 'Venezuela', 'Moldova', 'Vietnam',\n",
    "#        'Syria', 'Tanzania', 'Isle Of Man', 'Hong Kong (China)', 'Iran',\n",
    "#        'Russia', 'Taiwan', 'Macao (China)', 'Trinidad And Tobago',\n",
    "#        'Kosovo (Disputed Territory)', 'Palestine', 'Bolivia',\n",
    "#        'South Korea'], dtype=object)"
   ]
  },
  {
   "cell_type": "code",
   "execution_count": null,
   "metadata": {},
   "outputs": [],
   "source": [
    "# create a new/complete dict for countries where mapping has failed\n",
    "missing_countries_dict = {\n",
    "    'United Kingdom': 'GBR',\n",
    "    'Ivory Coast': 'CIV',\n",
    "    'United States': 'USA',\n",
    "    'Bosnia And Herzegovina': 'BIH',\n",
    "    'Venezuela': 'VEN',\n",
    "    'Moldova': 'MDA',\n",
    "    'Vietnam': 'VNM',\n",
    "    'Syria': 'SYR',\n",
    "    'Tanzania': 'TZA',\n",
    "    'Isle Of Man': 'IMN',\n",
    "    'Hong Kong (China)': 'HKG',\n",
    "    'Iran': 'IRN',\n",
    "    'Russia': 'RUS',\n",
    "    'Taiwan': 'TWN',\n",
    "    'Macao (China)': 'MAC',\n",
    "    'Trinidad And Tobago': 'TTO',\n",
    "    'Kosovo (Disputed Territory)': 'XKX',\n",
    "    'Palestine': 'PSE',\n",
    "    'Bolivia': 'BOL',\n",
    "    'South Korea': 'KOR'\n",
    "}"
   ]
  },
  {
   "cell_type": "code",
   "execution_count": null,
   "metadata": {},
   "outputs": [],
   "source": [
    "# create another backup\n",
    "df_backup6 = df_clean"
   ]
  },
  {
   "cell_type": "code",
   "execution_count": null,
   "metadata": {},
   "outputs": [],
   "source": [
    "# replace the NaN values in the 'iso3' column with the corresponding ISO3 values from the new dictionary\n",
    "df_clean.loc[df_clean['iso3'].isnull(), 'iso3'] = df_clean.loc[df_clean['iso3'].isnull(), 'country'].map(missing_countries_dict)"
   ]
  },
  {
   "cell_type": "code",
   "execution_count": null,
   "metadata": {},
   "outputs": [],
   "source": [
    "# check again for unique countries where the 'iso3' column is null - should be empty now\n",
    "df_isnull = df_clean[df_clean['iso3'].isnull()].country.unique()\n",
    "df_isnull"
   ]
  },
  {
   "cell_type": "code",
   "execution_count": null,
   "metadata": {},
   "outputs": [],
   "source": [
    "df_clean.head(19)"
   ]
  },
  {
   "cell_type": "code",
   "execution_count": null,
   "metadata": {},
   "outputs": [],
   "source": [
    "# create another backup\n",
    "df_items_backup = df_items"
   ]
  },
  {
   "cell_type": "code",
   "execution_count": null,
   "metadata": {},
   "outputs": [],
   "source": [
    "# create a need df with item_id and item_name columns only - plus only the values of the first 9 rows of those columns\n",
    "df_items = df_clean[['item_id', 'item_name']]\n",
    "df_items.drop(df_items.index[9:], axis=0, inplace=True)\n",
    "df_items.head(10)"
   ]
  },
  {
   "cell_type": "code",
   "execution_count": null,
   "metadata": {},
   "outputs": [],
   "source": [
    "# create another backup\n",
    "df_backup_before_drop = df_clean"
   ]
  },
  {
   "cell_type": "code",
   "execution_count": null,
   "metadata": {},
   "outputs": [],
   "source": [
    "# drop of the column item_name\n",
    "df_clean.drop(['item_name'], axis=1, inplace=True)"
   ]
  },
  {
   "cell_type": "code",
   "execution_count": null,
   "metadata": {},
   "outputs": [],
   "source": [
    "df_clean.head(18)"
   ]
  },
  {
   "cell_type": "code",
   "execution_count": null,
   "metadata": {},
   "outputs": [],
   "source": [
    "# df_transposed = df_clean.pivot_table(index='city', columns=['iso3', 'country', 'item_id'], values='average_price', dropna=False).reset_index()"
   ]
  },
  {
   "cell_type": "code",
   "execution_count": null,
   "metadata": {},
   "outputs": [],
   "source": [
    "df_clean.info()"
   ]
  },
  {
   "cell_type": "code",
   "execution_count": null,
   "metadata": {},
   "outputs": [],
   "source": [
    "df_backup7 = df_clean"
   ]
  },
  {
   "cell_type": "code",
   "execution_count": null,
   "metadata": {},
   "outputs": [],
   "source": [
    "# drop duplicates which have the same values in all 3 columns ('item_id', 'city', 'country')\n",
    "df_clean_drop = df_clean.drop_duplicates(['item_id', 'city', 'country'])"
   ]
  },
  {
   "cell_type": "code",
   "execution_count": null,
   "metadata": {},
   "outputs": [],
   "source": [
    "df_clean_drop.head(17)"
   ]
  },
  {
   "cell_type": "code",
   "execution_count": null,
   "metadata": {},
   "outputs": [],
   "source": [
    "# check again for combination of the 3 columns having the same values - should be empty now\n",
    "df_clean_drop[df_clean_drop.duplicated(['item_id', 'city', 'country'])]"
   ]
  },
  {
   "cell_type": "code",
   "execution_count": null,
   "metadata": {},
   "outputs": [],
   "source": [
    "# create another backup\n",
    "df_clean_drop_backup = df_clean_drop"
   ]
  },
  {
   "cell_type": "code",
   "execution_count": null,
   "metadata": {},
   "outputs": [],
   "source": [
    "# # wrong solution with \"pivot_table\" instead of \"pivot\" \n",
    "# df_pivoted = df_clean_drop.pivot_table(index=['city', 'iso3', 'country'], columns=['item_id'], values='average_price', dropna=False).reset_index()"
   ]
  },
  {
   "cell_type": "code",
   "execution_count": null,
   "metadata": {},
   "outputs": [],
   "source": [
    "# create a pivot table df_pivoted from the df_clean_drop df, using 'city' and 'iso3' as index,\n",
    "# 'item_id' as columns, and 'average_price' as the values to populate the table\n",
    "df_pivoted = df_clean_drop.pivot(index=['city', 'iso3'], columns=['item_id'], values='average_price').reset_index()"
   ]
  },
  {
   "cell_type": "code",
   "execution_count": null,
   "metadata": {},
   "outputs": [],
   "source": [
    "df_pivoted.head(30)"
   ]
  },
  {
   "cell_type": "code",
   "execution_count": null,
   "metadata": {},
   "outputs": [],
   "source": [
    "df_pivoted.info()"
   ]
  },
  {
   "cell_type": "code",
   "execution_count": null,
   "metadata": {},
   "outputs": [],
   "source": [
    "# import function to check how many % of each column are NULL values\n",
    "from transform_esg import per_null"
   ]
  },
  {
   "cell_type": "code",
   "execution_count": null,
   "metadata": {},
   "outputs": [],
   "source": [
    "per_null(df_pivoted)"
   ]
  },
  {
   "cell_type": "code",
   "execution_count": null,
   "metadata": {},
   "outputs": [],
   "source": [
    "# a last backup and renaming of the final df\n",
    "df_city_prices_final = df_pivoted"
   ]
  },
  {
   "cell_type": "code",
   "execution_count": null,
   "metadata": {},
   "outputs": [],
   "source": [
    "df_city_prices_final.head(18)"
   ]
  },
  {
   "attachments": {},
   "cell_type": "markdown",
   "metadata": {},
   "source": [
    "## Push the DataFrame df to sql"
   ]
  },
  {
   "cell_type": "code",
   "execution_count": null,
   "metadata": {},
   "outputs": [],
   "source": [
    "#Define schema for DBeaver\n",
    "schema = 'capstone_travel_index'\n",
    "engine = sf.get_engine()"
   ]
  },
  {
   "cell_type": "code",
   "execution_count": null,
   "metadata": {},
   "outputs": [],
   "source": [
    "#Import dataset \"df_city_prices_final\" to DBeaver\n",
    "table_name = 'city_prices_final'\n",
    "if engine!=None:\n",
    "    try:\n",
    "        df_city_prices_final.to_sql(name=table_name, # Name of SQL table\n",
    "                        con=engine, # Engine or connection\n",
    "                        if_exists='replace', # Drop the table before inserting new values \n",
    "                        schema=schema, # Use schmea that was defined earlier\n",
    "                        index=False, # Write DataFrame index as a column\n",
    "                        chunksize=5000, # Specify the number of rows in each batch to be written at a time\n",
    "                        method='multi') # Pass multiple values in a single INSERT clause\n",
    "        print(f\"The {table_name} table was imported successfully.\")\n",
    "    # Error handling\n",
    "    except (Exception, psycopg2.DatabaseError) as error:\n",
    "        print(error)\n",
    "        engine = None"
   ]
  },
  {
   "cell_type": "code",
   "execution_count": null,
   "metadata": {},
   "outputs": [],
   "source": [
    "# short check before upload\n",
    "df_items"
   ]
  },
  {
   "cell_type": "code",
   "execution_count": null,
   "metadata": {},
   "outputs": [],
   "source": [
    "#Import dataset \"df_items\" to DBeaver\n",
    "table_name = 'df_items'\n",
    "if engine!=None:\n",
    "    try:\n",
    "        df_items.to_sql(name=table_name, # Name of SQL table\n",
    "                        con=engine, # Engine or connection\n",
    "                        if_exists='replace', # Drop the table before inserting new values \n",
    "                        schema=schema, # Use schmea that was defined earlier\n",
    "                        index=False, # Write DataFrame index as a column\n",
    "                        chunksize=5000, # Specify the number of rows in each batch to be written at a time\n",
    "                        method='multi') # Pass multiple values in a single INSERT clause\n",
    "        print(f\"The {table_name} table was imported successfully.\")\n",
    "    # Error handling\n",
    "    except (Exception, psycopg2.DatabaseError) as error:\n",
    "        print(error)\n",
    "        engine = None"
   ]
  },
  {
   "cell_type": "code",
   "execution_count": null,
   "metadata": {},
   "outputs": [],
   "source": [
    "#The city_living_prices table was imported successfully."
   ]
  }
 ],
 "metadata": {
  "kernelspec": {
   "display_name": "nf_sql",
   "language": "python",
   "name": "python3"
  },
  "language_info": {
   "codemirror_mode": {
    "name": "ipython",
    "version": 3
   },
   "file_extension": ".py",
   "mimetype": "text/x-python",
   "name": "python",
   "nbconvert_exporter": "python",
   "pygments_lexer": "ipython3",
   "version": "3.9.16"
  },
  "orig_nbformat": 4
 },
 "nbformat": 4,
 "nbformat_minor": 2
}
