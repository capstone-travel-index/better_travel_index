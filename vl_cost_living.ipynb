{
 "cells": [
  {
   "cell_type": "code",
   "execution_count": null,
   "metadata": {},
   "outputs": [],
   "source": [
    "####### Living Costs API Pull\n",
    "import requests\n",
    "import os\n",
    "import pandas as pd\n",
    "\n",
    "# To be able to pull the API key from the .env, we need to import and run the load_dotenv function from the dotenv module first.\n",
    "from dotenv import load_dotenv\n",
    "load_dotenv()\n",
    "\n",
    "\n",
    "# https://www.numbeo.com/api//city_prices?api_key=your_api_key&query=London,%20United%20Kingdom \n",
    "# get living cost data function\n",
    "def get_living_costs(city, country):\n",
    "    base_url = 'https://www.numbeo.com/api/city_prices'\n",
    "    api_key = os.getenv('numbeo_api_key') # extract the value for the api key\n",
    "    querystring = {\n",
    "        'api_key': api_key,\n",
    "        'query': city + ', ' + country\n",
    "    }\n",
    "    url = base_url + '?' + 'api_key=' + api_key + '&query=' + city + ',' + country.replace(' ', '%20')\n",
    "    response = requests.get(url)\n",
    "    print(url)\n",
    "    return response.json()"
   ]
  },
  {
   "cell_type": "code",
   "execution_count": null,
   "metadata": {},
   "outputs": [],
   "source": [
    "# call living cost data function\n",
    "city_cost_living = get_living_costs('London', 'United Kingdom')\n",
    "\n",
    "# # call living cost data function\n",
    "# city_cost_living2 = get_living_costs('Hamburg', 'Germany')\n",
    "\n",
    "# # cities dict durchloopen\n",
    "# for city, country in cities:\n",
    "#     pass"
   ]
  },
  {
   "cell_type": "code",
   "execution_count": null,
   "metadata": {},
   "outputs": [],
   "source": [
    "display(city_cost_living)"
   ]
  },
  {
   "cell_type": "code",
   "execution_count": null,
   "metadata": {},
   "outputs": [],
   "source": [
    "type(city_cost_living)"
   ]
  },
  {
   "cell_type": "code",
   "execution_count": null,
   "metadata": {},
   "outputs": [],
   "source": [
    "# JSON output Ausschnitt\n",
    "{'name': 'London, United Kingdom',\n",
    " 'currency': 'GBP',\n",
    " 'contributors12months': 1027,\n",
    " 'monthLastUpdate': 6,\n",
    " 'contributors': 646,\n",
    " 'yearLastUpdate': 2023,\n",
    " 'prices': [{'data_points': 80,\n",
    "   'item_id': 1,\n",
    "   'lowest_price': 10,\n",
    "   'average_price': 20,\n",
    "   'highest_price': 30,\n",
    "   'item_name': 'Meal, Inexpensive Restaurant, Restaurants'},\n",
    "  {'data_points': 68,\n",
    "   'item_id': 2,\n",
    "   'lowest_price': 50,\n",
    "   'average_price': 80,\n",
    "   'highest_price': 140,\n",
    "   'item_name': 'Meal for 2 People, Mid-range Restaurant, Three-course, Restaurants'},\n"
   ]
  },
  {
   "cell_type": "code",
   "execution_count": null,
   "metadata": {},
   "outputs": [],
   "source": [
    "# Loop through and print all key-value pairs\n",
    "for key, value in city_cost_living.items():\n",
    "    print(key + ':', value)"
   ]
  },
  {
   "cell_type": "code",
   "execution_count": null,
   "metadata": {},
   "outputs": [],
   "source": [
    "city_cost_living_df = pd.json_normalize(city_cost_living, \n",
    "                                  record_path=\"prices\")\n",
    "\n",
    "city_cost_living_df"
   ]
  },
  {
   "cell_type": "code",
   "execution_count": null,
   "metadata": {},
   "outputs": [],
   "source": [
    "# New columns \"city\" and \"country\" - später mit Platzhalter ersetzen!!!\n",
    "city_cost_living_df['living_cost_city'] = 'London'\n",
    "# city_cost_living_df['city'] = city\n",
    "city_cost_living_df['living_cost_country'] = 'United Kingdom'\n",
    "# city_cost_living_df['city'] = country\n",
    "\n",
    "city_cost_living_df"
   ]
  },
  {
   "cell_type": "code",
   "execution_count": null,
   "metadata": {},
   "outputs": [],
   "source": [
    "#############################################"
   ]
  },
  {
   "cell_type": "code",
   "execution_count": null,
   "metadata": {},
   "outputs": [],
   "source": [
    "\n",
    "\n",
    "##########################################################################\n",
    "\n",
    "# Import json package - already .json no?\n",
    "# import json\n",
    "\n",
    "# # Create json object: json_object\n",
    "# json_object = json.loads(r.content)\n",
    "\n",
    "# # Print json_object\n",
    "# json.dumps(json_object, indent = 3)\n",
    "\n",
    "\n",
    "# cities durchloopen\n",
    "for city, country in cities:\n",
    "    pass\n"
   ]
  }
 ],
 "metadata": {
  "kernelspec": {
   "display_name": "nf_sql",
   "language": "python",
   "name": "python3"
  },
  "language_info": {
   "codemirror_mode": {
    "name": "ipython",
    "version": 3
   },
   "file_extension": ".py",
   "mimetype": "text/x-python",
   "name": "python",
   "nbconvert_exporter": "python",
   "pygments_lexer": "ipython3",
   "version": "3.9.16"
  },
  "orig_nbformat": 4
 },
 "nbformat": 4,
 "nbformat_minor": 2
}
