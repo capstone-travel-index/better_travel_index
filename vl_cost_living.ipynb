{
 "cells": [
  {
   "cell_type": "code",
   "execution_count": null,
   "metadata": {},
   "outputs": [],
   "source": [
    "####### Living Costs API Pull\n",
    "import requests\n",
    "import os\n",
    "import pandas as pd\n",
    "\n",
    "# To be able to pull the API key from the .env, we need to import and run the load_dotenv function from the dotenv module first.\n",
    "from dotenv import load_dotenv\n",
    "load_dotenv()"
   ]
  },
  {
   "cell_type": "code",
   "execution_count": null,
   "metadata": {},
   "outputs": [],
   "source": [
    "# https://www.numbeo.com/api/city_prices?api_key=your_api_key&query=London,%20United%20Kingdom\n",
    "\n",
    "# get living cost data function\n",
    "def get_living_costs(city, country):\n",
    "    base_url = 'https://www.numbeo.com/api/city_prices'\n",
    "    api_key = os.getenv('numbeo_api_key') # extract the value for the api key\n",
    "    currency = 'EUR'\n",
    "    querystring = {\n",
    "        'api_key': api_key,\n",
    "        'query': city + ', ' + country\n",
    "    }\n",
    "    url = base_url + '?' + 'api_key=' + api_key + '&query=' + city + ',' + country.replace(' ', '%20') + '&currency=' + currency\n",
    "    response = requests.get(url)\n",
    "    print(url)\n",
    "    return response.json()"
   ]
  },
  {
   "cell_type": "code",
   "execution_count": null,
   "metadata": {},
   "outputs": [],
   "source": [
    "# https://www.numbeo.com/api/historical_city_prices?api_key=your_api_key&query=London,%20United%20Kingdom\n",
    "\n",
    "# get historical living cost data function\n",
    "def get_historical_living_costs(city, country):\n",
    "    base_url = 'https://www.numbeo.com/api/historical_city_prices'\n",
    "    api_key = os.getenv('numbeo_api_key') # extract the value for the api key\n",
    "    currency = 'EUR'\n",
    "    querystring = {\n",
    "        'api_key': api_key,\n",
    "        'query': city + ', ' + country\n",
    "    }\n",
    "    url = base_url + '?' + 'api_key=' + api_key + '&query=' + city + ',' + country.replace(' ', '%20') + '&currency=' + currency\n",
    "    response = requests.get(url)\n",
    "    print(url)\n",
    "    return response.json()"
   ]
  },
  {
   "cell_type": "code",
   "execution_count": null,
   "metadata": {},
   "outputs": [],
   "source": [
    "# call living cost data function\n",
    "city_cost_living = get_living_costs('London', 'United Kingdom')\n",
    "\n",
    "# call historical living cost data function\n",
    "city_historical_cost_living = get_historical_living_costs('Berlin', 'Germany')\n",
    "\n",
    "# # cities dict durchloopen\n",
    "# for city, country in cities:\n",
    "#     pass\n",
    "\n",
    "#+ '&currency=' + currency\n",
    "#+ '&currency=' + 'EUR'"
   ]
  },
  {
   "cell_type": "code",
   "execution_count": null,
   "metadata": {},
   "outputs": [],
   "source": [
    "display(city_cost_living)"
   ]
  },
  {
   "cell_type": "code",
   "execution_count": null,
   "metadata": {},
   "outputs": [],
   "source": [
    "display(city_historical_cost_living)"
   ]
  },
  {
   "cell_type": "code",
   "execution_count": null,
   "metadata": {},
   "outputs": [],
   "source": [
    "type(city_cost_living)"
   ]
  },
  {
   "cell_type": "code",
   "execution_count": null,
   "metadata": {},
   "outputs": [],
   "source": [
    "# JSON output Ausschnitt\n",
    "{'name': 'London, United Kingdom',\n",
    " 'currency': 'GBP',\n",
    " 'contributors12months': 1027,\n",
    " 'monthLastUpdate': 6,\n",
    " 'contributors': 646,\n",
    " 'yearLastUpdate': 2023,\n",
    " 'prices': [{'data_points': 80,\n",
    "   'item_id': 1,\n",
    "   'lowest_price': 10,\n",
    "   'average_price': 20,\n",
    "   'highest_price': 30,\n",
    "   'item_name': 'Meal, Inexpensive Restaurant, Restaurants'},\n",
    "  {'data_points': 68,\n",
    "   'item_id': 2,\n",
    "   'lowest_price': 50,\n",
    "   'average_price': 80,\n",
    "   'highest_price': 140,\n",
    "   'item_name': 'Meal for 2 People, Mid-range Restaurant, Three-course, Restaurants'},\n"
   ]
  },
  {
   "cell_type": "code",
   "execution_count": null,
   "metadata": {},
   "outputs": [],
   "source": [
    "# Loop through and print all key-value pairs\n",
    "for key, value in city_cost_living.items():\n",
    "    print(key + ':', value)"
   ]
  },
  {
   "cell_type": "code",
   "execution_count": null,
   "metadata": {},
   "outputs": [],
   "source": [
    "# Loop through and print all key-value pairs historical data\n",
    "for key, value in city_historical_cost_living.items():\n",
    "    print(key + ':', value)"
   ]
  },
  {
   "cell_type": "code",
   "execution_count": null,
   "metadata": {},
   "outputs": [],
   "source": [
    "# json_normalize living cost data \n",
    "city_cost_living_df = pd.json_normalize(city_cost_living, \n",
    "                                  record_path=\"prices\")\n",
    "\n",
    "city_cost_living_df"
   ]
  },
  {
   "cell_type": "code",
   "execution_count": null,
   "metadata": {},
   "outputs": [],
   "source": [
    "# json_normalize historical living cost data \n",
    "city_historical_cost_living_df = pd.json_normalize(city_historical_cost_living, \n",
    "                                  record_path=\"entry\")\n",
    "\n",
    "city_historical_cost_living_df"
   ]
  },
  {
   "cell_type": "code",
   "execution_count": null,
   "metadata": {},
   "outputs": [],
   "source": [
    "# New columns \"city\" and \"country\" - später mit Platzhalter ersetzen!!!\n",
    "city_cost_living_df['living_cost_city'] = 'London'\n",
    "# city_cost_living_df['city'] = city\n",
    "city_cost_living_df['living_cost_country'] = 'United Kingdom'\n",
    "# city_cost_living_df['city'] = country\n",
    "\n",
    "city_cost_living_df"
   ]
  },
  {
   "cell_type": "code",
   "execution_count": null,
   "metadata": {},
   "outputs": [],
   "source": [
    "# nach relevanten item ids filternd\n"
   ]
  },
  {
   "cell_type": "code",
   "execution_count": null,
   "metadata": {},
   "outputs": [],
   "source": [
    "#############################################"
   ]
  },
  {
   "cell_type": "code",
   "execution_count": null,
   "metadata": {},
   "outputs": [],
   "source": [
    "price_items = {\n",
    "    1: 'Meal, Inexpensive Restaurant',\n",
    "    7: 'Water (0.33 liter bottle) , Restaurants',\n",
    "    13: 'Water (1.5 liter bottle), Markets',\n",
    "    18: 'One-way Ticket (Local Transport)',\n",
    "    78: 'Cappuccino (regular)',\n",
    "    107: 'Taxi Start',\n",
    "    108: 'Taxi 1km',\n",
    "    118: 'Banana (1kg)',\n",
    "    4: 'Domestic Beer (0.5 liter draught)',\n",
    "    3: 'McMeal at McDonalds'\n",
    "    }\n",
    "\n",
    "print(len(price_items))"
   ]
  },
  {
   "cell_type": "code",
   "execution_count": null,
   "metadata": {},
   "outputs": [],
   "source": [
    "base_url = 'https://www.numbeo.com/api//rankings_by_city_historical'\n",
    "api_key = 'zlueew978sczoi' # extract the value for the api key\n",
    "section = 1\n",
    "url = base_url + '?' + 'api_key=' + api_key + '&section=1'\n",
    "response = requests.get(url)\n",
    "city_hist_livcost = response.json()"
   ]
  },
  {
   "cell_type": "code",
   "execution_count": null,
   "metadata": {},
   "outputs": [],
   "source": [
    "print(type(city_hist_livcost))"
   ]
  },
  {
   "cell_type": "code",
   "execution_count": null,
   "metadata": {},
   "outputs": [],
   "source": [
    "start_year = 2012\n",
    "end_year = 2022\n",
    "dfs = []  # List to store the dataframes\n",
    "for year in range(start_year, end_year + 1):\n",
    "    df = pd.json_normalize(city_hist_livcost[str(year)], meta=[\"country\", \"city_name\"])\n",
    "    df['year'] = str(year)  # Add the 'year' column\n",
    "    df = df[[\"year\", \"country\", \"city_name\", \"restaurant_price_index\", \"groceries_index\"]]  # Select only the desired columns\n",
    "    dfs.append(df)\n",
    "\n",
    "# Concatenate all the dataframes into a single dataframe\n",
    "combined_df = pd.concat(dfs, ignore_index=True)\n",
    "\n",
    "# Print the combined dataframe\n",
    "print(combined_df)"
   ]
  },
  {
   "cell_type": "code",
   "execution_count": null,
   "metadata": {},
   "outputs": [],
   "source": [
    "#####mit string_conversion\n",
    "\n",
    "# start_year = 2012\n",
    "# end_year = 2022\n",
    "\n",
    "# all_years_dfs = []  # List to store the dataframes\n",
    "\n",
    "# for year in range(start_year, end_year + 1):\n",
    "#     df = pd.json_normalize(city_hist_livcost[str(year)])\n",
    "#     df['year'] = str(year)  # Add the 'year' column\n",
    "#     df = df[[\"year\", \"country\", \"city_name\", \"restaurant_price_index\", \"groceries_index\"]]  # Select only the desired columns\n",
    "#     all_years_dfs.append(df)\n",
    "\n",
    "# # Concatenate all the dataframes into a single dataframe\n",
    "# combined_df = pd.concat(all_years_dfs, ignore_index=True)\n",
    "\n",
    "# # Print the combined dataframe\n",
    "# print(combined_df)\n",
    "\n",
    "####mit \"meta\" Angabens\n",
    "# start_year = 2012\n",
    "# end_year = 2022\n",
    "# dfs = []  # List to store the dataframes\n",
    "# for year in range(start_year, end_year + 1):\n",
    "#     df = pd.json_normalize(city_hist_livcost[str(year)], meta=[\"country\", \"city_name\"])\n",
    "#     df['year'] = str(year)  # Add the 'year' column\n",
    "#     df = df[[\"year\", \"country\", \"city_name\", \"restaurant_price_index\", \"groceries_index\"]]  # Select only the desired columns\n",
    "#     dfs.append(df)\n",
    "\n",
    "# # Concatenate all the dataframes into a single dataframe\n",
    "# combined_df = pd.concat(dfs, ignore_index=True)\n",
    "\n",
    "# # Print the combined dataframe\n",
    "# print(combined_df)"
   ]
  }
 ],
 "metadata": {
  "kernelspec": {
   "display_name": "nf_sql",
   "language": "python",
   "name": "python3"
  },
  "language_info": {
   "codemirror_mode": {
    "name": "ipython",
    "version": 3
   },
   "file_extension": ".py",
   "mimetype": "text/x-python",
   "name": "python",
   "nbconvert_exporter": "python",
   "pygments_lexer": "ipython3",
   "version": "3.9.16"
  },
  "orig_nbformat": 4
 },
 "nbformat": 4,
 "nbformat_minor": 2
}
