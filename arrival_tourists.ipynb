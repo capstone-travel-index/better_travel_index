{
 "cells": [
  {
   "cell_type": "markdown",
   "metadata": {},
   "source": [
    "# Travel Data inbound worldwide"
   ]
  },
  {
   "cell_type": "markdown",
   "metadata": {},
   "source": [
    "## Notebook Description\n",
    "This notebook is used to prepare and provide data on the inbound tourism worldwide"
   ]
  },
  {
   "cell_type": "markdown",
   "metadata": {},
   "source": [
    "## Data Source\n",
    "\n",
    "**UNWTO - The World Tourism Organization**\n",
    "The World Tourism Organization (UNWTO) is the United Nations agency responsible for the promotion of responsible, sustainable and universally accessible tourism.\n",
    "\n",
    "**UNWTO TOURISM DATA DASHBOARD**\n",
    "The UNWTO Tourism Data Dashboard – provides statistics and insights on key indicators for inbound and outbound tourism at the global, regional and national levels.\n",
    "\n",
    "Data are collected from countries by UNWTO through a series of yearly questionnaires that are in line with the International Recommendations for Tourism Statistics (IRTS 2008) standard led by UNWTO and approved by the United Nations.\n",
    "\n",
    "The latest update took place on 22 December 2022.\n",
    "\n",
    "Access the data: https://www.unwto.org/tourism-statistics/key-tourism-statistics"
   ]
  },
  {
   "cell_type": "markdown",
   "metadata": {},
   "source": [
    "## Imports"
   ]
  },
  {
   "cell_type": "code",
   "execution_count": 1,
   "metadata": {},
   "outputs": [],
   "source": [
    "import pandas as pd\n",
    "import numpy as np"
   ]
  },
  {
   "cell_type": "markdown",
   "metadata": {},
   "source": [
    "## Data Loading"
   ]
  },
  {
   "cell_type": "code",
   "execution_count": 2,
   "metadata": {},
   "outputs": [],
   "source": [
    "df_in = pd.read_csv('data/inbound_tourism.csv', sep=';', thousands='.', decimal=',')"
   ]
  },
  {
   "cell_type": "code",
   "execution_count": 3,
   "metadata": {},
   "outputs": [
    {
     "data": {
      "text/plain": [
       "Index(['Basic data and indicators', 'Unnamed: 1', 'Unnamed: 2', 'Unnamed: 3',\n",
       "       'Unnamed: 4', 'Units', 'Notes', 'Series', '1995', '1996', '1997',\n",
       "       '1998', '1999', '2000', '2001', '2002', '2003', '2004', '2005', '2006',\n",
       "       '2007', '2008', '2009', '2010', '2011', '2012', '2013', '2014', '2015',\n",
       "       '2016', '2017', '2018', '2019', '2020', '2021', 'Unnamed: 35',\n",
       "       'Unnamed: 36', 'Unnamed: 37', 'Unnamed: 38', 'Unnamed: 39',\n",
       "       'Unnamed: 40'],\n",
       "      dtype='object')"
      ]
     },
     "execution_count": 3,
     "metadata": {},
     "output_type": "execute_result"
    }
   ],
   "source": [
    "df_in.columns"
   ]
  },
  {
   "cell_type": "code",
   "execution_count": 4,
   "metadata": {},
   "outputs": [],
   "source": [
    "col_year = ['1995', '1996', '1997',\n",
    "       '1998', '1999', '2000', '2001', '2002', '2003', '2004', '2005', '2006',\n",
    "       '2007', '2008', '2009', '2010', '2011', '2012', '2013', '2014', '2015',\n",
    "       '2016', '2017', '2018', '2019', '2020', '2021']"
   ]
  },
  {
   "cell_type": "code",
   "execution_count": 5,
   "metadata": {},
   "outputs": [
    {
     "name": "stderr",
     "output_type": "stream",
     "text": [
      "/var/folders/lq/66qmb5qs6yx8s8h1s8rmqnh80000gn/T/ipykernel_3538/2246560997.py:2: FutureWarning: The default value of regex will change from True to False in a future version. In addition, single character regular expressions will *not* be treated as literal strings when regex=True.\n",
      "  df_in[i] = df_in[i].astype(str).str.replace('.', '')\n"
     ]
    }
   ],
   "source": [
    "for i in col_year:\n",
    "    df_in[i] = df_in[i].astype(str).str.replace('.', '')\n"
   ]
  },
  {
   "cell_type": "code",
   "execution_count": 6,
   "metadata": {},
   "outputs": [],
   "source": [
    "df_in['Unnamed: 3']\n",
    "df_in['Unnamed: 3'] = df_in['Unnamed: 3'].fillna(df_in['Unnamed: 2'])"
   ]
  },
  {
   "cell_type": "code",
   "execution_count": 7,
   "metadata": {},
   "outputs": [
    {
     "data": {
      "text/plain": [
       "0                                  NaN\n",
       "1                                  NaN\n",
       "2                       Total arrivals\n",
       "3       Overnights visitors (tourists)\n",
       "4    Same-day visitors (excursionists)\n",
       "5          of which, cruise passengers\n",
       "6                                  NaN\n",
       "7                                Total\n",
       "8                               Africa\n",
       "9                             Americas\n",
       "Name: Unnamed: 3, dtype: object"
      ]
     },
     "execution_count": 7,
     "metadata": {},
     "output_type": "execute_result"
    }
   ],
   "source": [
    "df_in['Unnamed: 3'] = df_in['Unnamed: 3'].fillna(df_in['Unnamed: 4'])\n",
    "df_in['Unnamed: 3'].head(10)"
   ]
  },
  {
   "cell_type": "code",
   "execution_count": 8,
   "metadata": {},
   "outputs": [
    {
     "data": {
      "text/html": [
       "<div>\n",
       "<style scoped>\n",
       "    .dataframe tbody tr th:only-of-type {\n",
       "        vertical-align: middle;\n",
       "    }\n",
       "\n",
       "    .dataframe tbody tr th {\n",
       "        vertical-align: top;\n",
       "    }\n",
       "\n",
       "    .dataframe thead th {\n",
       "        text-align: right;\n",
       "    }\n",
       "</style>\n",
       "<table border=\"1\" class=\"dataframe\">\n",
       "  <thead>\n",
       "    <tr style=\"text-align: right;\">\n",
       "      <th></th>\n",
       "      <th>Basic data and indicators</th>\n",
       "      <th>Unnamed: 1</th>\n",
       "      <th>Unnamed: 2</th>\n",
       "      <th>Unnamed: 3</th>\n",
       "      <th>Unnamed: 4</th>\n",
       "      <th>Units</th>\n",
       "      <th>Notes</th>\n",
       "      <th>Series</th>\n",
       "      <th>1995</th>\n",
       "      <th>1996</th>\n",
       "      <th>...</th>\n",
       "      <th>2018</th>\n",
       "      <th>2019</th>\n",
       "      <th>2020</th>\n",
       "      <th>2021</th>\n",
       "      <th>Unnamed: 35</th>\n",
       "      <th>Unnamed: 36</th>\n",
       "      <th>Unnamed: 37</th>\n",
       "      <th>Unnamed: 38</th>\n",
       "      <th>Unnamed: 39</th>\n",
       "      <th>Unnamed: 40</th>\n",
       "    </tr>\n",
       "  </thead>\n",
       "  <tbody>\n",
       "    <tr>\n",
       "      <th>0</th>\n",
       "      <td>AFGHANISTAN</td>\n",
       "      <td>NaN</td>\n",
       "      <td>NaN</td>\n",
       "      <td>NaN</td>\n",
       "      <td>NaN</td>\n",
       "      <td>NaN</td>\n",
       "      <td>NaN</td>\n",
       "      <td>NaN</td>\n",
       "      <td>nan</td>\n",
       "      <td>nan</td>\n",
       "      <td>...</td>\n",
       "      <td>nan</td>\n",
       "      <td>nan</td>\n",
       "      <td>nan</td>\n",
       "      <td>nan</td>\n",
       "      <td>NaN</td>\n",
       "      <td>NaN</td>\n",
       "      <td>NaN</td>\n",
       "      <td>NaN</td>\n",
       "      <td>NaN</td>\n",
       "      <td>NaN</td>\n",
       "    </tr>\n",
       "    <tr>\n",
       "      <th>1</th>\n",
       "      <td>AFGHANISTAN</td>\n",
       "      <td>Arrivals</td>\n",
       "      <td>NaN</td>\n",
       "      <td>NaN</td>\n",
       "      <td>NaN</td>\n",
       "      <td>NaN</td>\n",
       "      <td>NaN</td>\n",
       "      <td>NaN</td>\n",
       "      <td>nan</td>\n",
       "      <td>nan</td>\n",
       "      <td>...</td>\n",
       "      <td>nan</td>\n",
       "      <td>nan</td>\n",
       "      <td>nan</td>\n",
       "      <td>nan</td>\n",
       "      <td>NaN</td>\n",
       "      <td>NaN</td>\n",
       "      <td>NaN</td>\n",
       "      <td>NaN</td>\n",
       "      <td>NaN</td>\n",
       "      <td>NaN</td>\n",
       "    </tr>\n",
       "    <tr>\n",
       "      <th>2</th>\n",
       "      <td>AFGHANISTAN</td>\n",
       "      <td>Arrivals</td>\n",
       "      <td>Total arrivals</td>\n",
       "      <td>Total arrivals</td>\n",
       "      <td>NaN</td>\n",
       "      <td>Thousands</td>\n",
       "      <td>NaN</td>\n",
       "      <td>NaN</td>\n",
       "      <td></td>\n",
       "      <td></td>\n",
       "      <td>...</td>\n",
       "      <td></td>\n",
       "      <td></td>\n",
       "      <td></td>\n",
       "      <td></td>\n",
       "      <td>NaN</td>\n",
       "      <td>NaN</td>\n",
       "      <td>NaN</td>\n",
       "      <td>NaN</td>\n",
       "      <td>NaN</td>\n",
       "      <td>NaN</td>\n",
       "    </tr>\n",
       "    <tr>\n",
       "      <th>3</th>\n",
       "      <td>AFGHANISTAN</td>\n",
       "      <td>Arrivals</td>\n",
       "      <td>NaN</td>\n",
       "      <td>Overnights visitors (tourists)</td>\n",
       "      <td>NaN</td>\n",
       "      <td>Thousands</td>\n",
       "      <td>NaN</td>\n",
       "      <td>NaN</td>\n",
       "      <td></td>\n",
       "      <td></td>\n",
       "      <td>...</td>\n",
       "      <td></td>\n",
       "      <td></td>\n",
       "      <td></td>\n",
       "      <td></td>\n",
       "      <td>NaN</td>\n",
       "      <td>NaN</td>\n",
       "      <td>NaN</td>\n",
       "      <td>NaN</td>\n",
       "      <td>NaN</td>\n",
       "      <td>NaN</td>\n",
       "    </tr>\n",
       "    <tr>\n",
       "      <th>4</th>\n",
       "      <td>AFGHANISTAN</td>\n",
       "      <td>Arrivals</td>\n",
       "      <td>NaN</td>\n",
       "      <td>Same-day visitors (excursionists)</td>\n",
       "      <td>NaN</td>\n",
       "      <td>Thousands</td>\n",
       "      <td>NaN</td>\n",
       "      <td>NaN</td>\n",
       "      <td></td>\n",
       "      <td></td>\n",
       "      <td>...</td>\n",
       "      <td></td>\n",
       "      <td></td>\n",
       "      <td></td>\n",
       "      <td></td>\n",
       "      <td>NaN</td>\n",
       "      <td>NaN</td>\n",
       "      <td>NaN</td>\n",
       "      <td>NaN</td>\n",
       "      <td>NaN</td>\n",
       "      <td>NaN</td>\n",
       "    </tr>\n",
       "  </tbody>\n",
       "</table>\n",
       "<p>5 rows × 41 columns</p>\n",
       "</div>"
      ],
      "text/plain": [
       "  Basic data and indicators Unnamed: 1      Unnamed: 2  \\\n",
       "0               AFGHANISTAN        NaN             NaN   \n",
       "1               AFGHANISTAN   Arrivals             NaN   \n",
       "2               AFGHANISTAN   Arrivals  Total arrivals   \n",
       "3               AFGHANISTAN   Arrivals             NaN   \n",
       "4               AFGHANISTAN   Arrivals             NaN   \n",
       "\n",
       "                          Unnamed: 3 Unnamed: 4      Units Notes Series 1995  \\\n",
       "0                                NaN        NaN        NaN   NaN    NaN  nan   \n",
       "1                                NaN        NaN        NaN   NaN    NaN  nan   \n",
       "2                     Total arrivals        NaN  Thousands   NaN    NaN        \n",
       "3     Overnights visitors (tourists)        NaN  Thousands   NaN    NaN        \n",
       "4  Same-day visitors (excursionists)        NaN  Thousands   NaN    NaN        \n",
       "\n",
       "  1996  ... 2018 2019 2020 2021 Unnamed: 35 Unnamed: 36 Unnamed: 37  \\\n",
       "0  nan  ...  nan  nan  nan  nan         NaN         NaN         NaN   \n",
       "1  nan  ...  nan  nan  nan  nan         NaN         NaN         NaN   \n",
       "2       ...                             NaN         NaN         NaN   \n",
       "3       ...                             NaN         NaN         NaN   \n",
       "4       ...                             NaN         NaN         NaN   \n",
       "\n",
       "  Unnamed: 38 Unnamed: 39 Unnamed: 40  \n",
       "0         NaN         NaN         NaN  \n",
       "1         NaN         NaN         NaN  \n",
       "2         NaN         NaN         NaN  \n",
       "3         NaN         NaN         NaN  \n",
       "4         NaN         NaN         NaN  \n",
       "\n",
       "[5 rows x 41 columns]"
      ]
     },
     "execution_count": 8,
     "metadata": {},
     "output_type": "execute_result"
    }
   ],
   "source": [
    "df_in['Basic data and indicators'] = df_in['Basic data and indicators'].fillna(method='ffill')\n",
    "df_in['Unnamed: 1'] = df_in['Unnamed: 1'].fillna(method='ffill')\n",
    "df_in.head()"
   ]
  },
  {
   "cell_type": "code",
   "execution_count": 9,
   "metadata": {},
   "outputs": [
    {
     "data": {
      "text/html": [
       "<div>\n",
       "<style scoped>\n",
       "    .dataframe tbody tr th:only-of-type {\n",
       "        vertical-align: middle;\n",
       "    }\n",
       "\n",
       "    .dataframe tbody tr th {\n",
       "        vertical-align: top;\n",
       "    }\n",
       "\n",
       "    .dataframe thead th {\n",
       "        text-align: right;\n",
       "    }\n",
       "</style>\n",
       "<table border=\"1\" class=\"dataframe\">\n",
       "  <thead>\n",
       "    <tr style=\"text-align: right;\">\n",
       "      <th></th>\n",
       "      <th>Basic data and indicators</th>\n",
       "      <th>Unnamed: 1</th>\n",
       "      <th>Unnamed: 2</th>\n",
       "      <th>Unnamed: 3</th>\n",
       "      <th>Unnamed: 4</th>\n",
       "      <th>Units</th>\n",
       "      <th>Notes</th>\n",
       "      <th>Series</th>\n",
       "      <th>1995</th>\n",
       "      <th>1996</th>\n",
       "      <th>...</th>\n",
       "      <th>2018</th>\n",
       "      <th>2019</th>\n",
       "      <th>2020</th>\n",
       "      <th>2021</th>\n",
       "      <th>Unnamed: 35</th>\n",
       "      <th>Unnamed: 36</th>\n",
       "      <th>Unnamed: 37</th>\n",
       "      <th>Unnamed: 38</th>\n",
       "      <th>Unnamed: 39</th>\n",
       "      <th>Unnamed: 40</th>\n",
       "    </tr>\n",
       "  </thead>\n",
       "  <tbody>\n",
       "    <tr>\n",
       "      <th>2</th>\n",
       "      <td>AFGHANISTAN</td>\n",
       "      <td>Arrivals</td>\n",
       "      <td>Total arrivals</td>\n",
       "      <td>Total arrivals</td>\n",
       "      <td>NaN</td>\n",
       "      <td>Thousands</td>\n",
       "      <td>NaN</td>\n",
       "      <td>NaN</td>\n",
       "      <td></td>\n",
       "      <td></td>\n",
       "      <td>...</td>\n",
       "      <td></td>\n",
       "      <td></td>\n",
       "      <td></td>\n",
       "      <td></td>\n",
       "      <td>NaN</td>\n",
       "      <td>NaN</td>\n",
       "      <td>NaN</td>\n",
       "      <td>NaN</td>\n",
       "      <td>NaN</td>\n",
       "      <td>NaN</td>\n",
       "    </tr>\n",
       "    <tr>\n",
       "      <th>3</th>\n",
       "      <td>AFGHANISTAN</td>\n",
       "      <td>Arrivals</td>\n",
       "      <td>NaN</td>\n",
       "      <td>Overnights visitors (tourists)</td>\n",
       "      <td>NaN</td>\n",
       "      <td>Thousands</td>\n",
       "      <td>NaN</td>\n",
       "      <td>NaN</td>\n",
       "      <td></td>\n",
       "      <td></td>\n",
       "      <td>...</td>\n",
       "      <td></td>\n",
       "      <td></td>\n",
       "      <td></td>\n",
       "      <td></td>\n",
       "      <td>NaN</td>\n",
       "      <td>NaN</td>\n",
       "      <td>NaN</td>\n",
       "      <td>NaN</td>\n",
       "      <td>NaN</td>\n",
       "      <td>NaN</td>\n",
       "    </tr>\n",
       "    <tr>\n",
       "      <th>4</th>\n",
       "      <td>AFGHANISTAN</td>\n",
       "      <td>Arrivals</td>\n",
       "      <td>NaN</td>\n",
       "      <td>Same-day visitors (excursionists)</td>\n",
       "      <td>NaN</td>\n",
       "      <td>Thousands</td>\n",
       "      <td>NaN</td>\n",
       "      <td>NaN</td>\n",
       "      <td></td>\n",
       "      <td></td>\n",
       "      <td>...</td>\n",
       "      <td></td>\n",
       "      <td></td>\n",
       "      <td></td>\n",
       "      <td></td>\n",
       "      <td>NaN</td>\n",
       "      <td>NaN</td>\n",
       "      <td>NaN</td>\n",
       "      <td>NaN</td>\n",
       "      <td>NaN</td>\n",
       "      <td>NaN</td>\n",
       "    </tr>\n",
       "    <tr>\n",
       "      <th>5</th>\n",
       "      <td>AFGHANISTAN</td>\n",
       "      <td>Arrivals</td>\n",
       "      <td>NaN</td>\n",
       "      <td>of which, cruise passengers</td>\n",
       "      <td>of which, cruise passengers</td>\n",
       "      <td>Thousands</td>\n",
       "      <td>NaN</td>\n",
       "      <td>NaN</td>\n",
       "      <td></td>\n",
       "      <td></td>\n",
       "      <td>...</td>\n",
       "      <td></td>\n",
       "      <td></td>\n",
       "      <td></td>\n",
       "      <td></td>\n",
       "      <td>NaN</td>\n",
       "      <td>NaN</td>\n",
       "      <td>NaN</td>\n",
       "      <td>NaN</td>\n",
       "      <td>NaN</td>\n",
       "      <td>NaN</td>\n",
       "    </tr>\n",
       "    <tr>\n",
       "      <th>7</th>\n",
       "      <td>AFGHANISTAN</td>\n",
       "      <td>Arrivals by region</td>\n",
       "      <td>Total</td>\n",
       "      <td>Total</td>\n",
       "      <td>NaN</td>\n",
       "      <td>Thousands</td>\n",
       "      <td>NaN</td>\n",
       "      <td>NaN</td>\n",
       "      <td></td>\n",
       "      <td></td>\n",
       "      <td>...</td>\n",
       "      <td></td>\n",
       "      <td></td>\n",
       "      <td></td>\n",
       "      <td></td>\n",
       "      <td>NaN</td>\n",
       "      <td>NaN</td>\n",
       "      <td>NaN</td>\n",
       "      <td>NaN</td>\n",
       "      <td>NaN</td>\n",
       "      <td>NaN</td>\n",
       "    </tr>\n",
       "  </tbody>\n",
       "</table>\n",
       "<p>5 rows × 41 columns</p>\n",
       "</div>"
      ],
      "text/plain": [
       "  Basic data and indicators          Unnamed: 1      Unnamed: 2  \\\n",
       "2               AFGHANISTAN            Arrivals  Total arrivals   \n",
       "3               AFGHANISTAN            Arrivals             NaN   \n",
       "4               AFGHANISTAN            Arrivals             NaN   \n",
       "5               AFGHANISTAN            Arrivals             NaN   \n",
       "7               AFGHANISTAN  Arrivals by region           Total   \n",
       "\n",
       "                          Unnamed: 3                   Unnamed: 4      Units  \\\n",
       "2                     Total arrivals                          NaN  Thousands   \n",
       "3     Overnights visitors (tourists)                          NaN  Thousands   \n",
       "4  Same-day visitors (excursionists)                          NaN  Thousands   \n",
       "5        of which, cruise passengers  of which, cruise passengers  Thousands   \n",
       "7                              Total                          NaN  Thousands   \n",
       "\n",
       "  Notes Series 1995 1996  ... 2018 2019 2020 2021 Unnamed: 35 Unnamed: 36  \\\n",
       "2   NaN    NaN            ...                             NaN         NaN   \n",
       "3   NaN    NaN            ...                             NaN         NaN   \n",
       "4   NaN    NaN            ...                             NaN         NaN   \n",
       "5   NaN    NaN            ...                             NaN         NaN   \n",
       "7   NaN    NaN            ...                             NaN         NaN   \n",
       "\n",
       "  Unnamed: 37 Unnamed: 38 Unnamed: 39 Unnamed: 40  \n",
       "2         NaN         NaN         NaN         NaN  \n",
       "3         NaN         NaN         NaN         NaN  \n",
       "4         NaN         NaN         NaN         NaN  \n",
       "5         NaN         NaN         NaN         NaN  \n",
       "7         NaN         NaN         NaN         NaN  \n",
       "\n",
       "[5 rows x 41 columns]"
      ]
     },
     "execution_count": 9,
     "metadata": {},
     "output_type": "execute_result"
    }
   ],
   "source": [
    "row_drop = df_in[df_in['Unnamed: 3'].isna()].index\n",
    "df_in.drop(row_drop, inplace = True)\n",
    "\n",
    "df_in.head()"
   ]
  },
  {
   "cell_type": "code",
   "execution_count": 10,
   "metadata": {},
   "outputs": [],
   "source": [
    "df_in.drop(['Unnamed: 2', 'Unnamed: 4', 'Notes', 'Series', 'Unnamed: 35', 'Unnamed: 36', 'Unnamed: 37', 'Unnamed: 38',\t'Unnamed: 39',\t'Unnamed: 40'], axis=1, inplace = True)"
   ]
  },
  {
   "cell_type": "code",
   "execution_count": 11,
   "metadata": {},
   "outputs": [
    {
     "data": {
      "text/plain": [
       "Index(['basic_data_and_indicators', 'unnamed:_1', 'unnamed:_3', 'units',\n",
       "       '1995', '1996', '1997', '1998', '1999', '2000', '2001', '2002', '2003',\n",
       "       '2004', '2005', '2006', '2007', '2008', '2009', '2010', '2011', '2012',\n",
       "       '2013', '2014', '2015', '2016', '2017', '2018', '2019', '2020', '2021'],\n",
       "      dtype='object')"
      ]
     },
     "execution_count": 11,
     "metadata": {},
     "output_type": "execute_result"
    }
   ],
   "source": [
    "df_in.rename(columns=lambda x : x.lower(), inplace=True)\n",
    "df_in.rename(columns=lambda x : x.replace(' ', '_'), inplace=True)\n",
    "df_in.columns"
   ]
  },
  {
   "cell_type": "code",
   "execution_count": 12,
   "metadata": {},
   "outputs": [],
   "source": [
    "df_in = df_in.rename(columns={'basic_data_and_indicators':'iso3', 'unnamed:_1':'category', 'unnamed:_3': 'ind'})"
   ]
  },
  {
   "cell_type": "code",
   "execution_count": 13,
   "metadata": {},
   "outputs": [
    {
     "data": {
      "text/plain": [
       "Index(['iso3', 'category', 'ind', 'units', '1995', '1996', '1997', '1998',\n",
       "       '1999', '2000', '2001', '2002', '2003', '2004', '2005', '2006', '2007',\n",
       "       '2008', '2009', '2010', '2011', '2012', '2013', '2014', '2015', '2016',\n",
       "       '2017', '2018', '2019', '2020', '2021'],\n",
       "      dtype='object')"
      ]
     },
     "execution_count": 13,
     "metadata": {},
     "output_type": "execute_result"
    }
   ],
   "source": [
    "df_in.columns"
   ]
  },
  {
   "cell_type": "code",
   "execution_count": 14,
   "metadata": {},
   "outputs": [],
   "source": [
    "col_to_keep = ['iso3', \n",
    "               'category', \n",
    "               'ind', \n",
    "               'units', \n",
    "                '2012', \n",
    "                '2013', \n",
    "                '2014', \n",
    "                '2015',\n",
    "                '2016', \n",
    "                '2017', \n",
    "                '2018', \n",
    "                '2019', \n",
    "                '2020', \n",
    "                '2021'\n",
    "]"
   ]
  },
  {
   "cell_type": "code",
   "execution_count": 15,
   "metadata": {},
   "outputs": [],
   "source": [
    "df_in = df_in.loc[:,col_to_keep]"
   ]
  },
  {
   "cell_type": "code",
   "execution_count": 16,
   "metadata": {},
   "outputs": [
    {
     "data": {
      "text/plain": [
       "Index(['iso3', 'category', 'ind', 'units', '2012', '2013', '2014', '2015',\n",
       "       '2016', '2017', '2018', '2019', '2020', '2021'],\n",
       "      dtype='object')"
      ]
     },
     "execution_count": 16,
     "metadata": {},
     "output_type": "execute_result"
    }
   ],
   "source": [
    "df_in.columns"
   ]
  },
  {
   "cell_type": "code",
   "execution_count": 17,
   "metadata": {},
   "outputs": [
    {
     "data": {
      "text/html": [
       "<div>\n",
       "<style scoped>\n",
       "    .dataframe tbody tr th:only-of-type {\n",
       "        vertical-align: middle;\n",
       "    }\n",
       "\n",
       "    .dataframe tbody tr th {\n",
       "        vertical-align: top;\n",
       "    }\n",
       "\n",
       "    .dataframe thead th {\n",
       "        text-align: right;\n",
       "    }\n",
       "</style>\n",
       "<table border=\"1\" class=\"dataframe\">\n",
       "  <thead>\n",
       "    <tr style=\"text-align: right;\">\n",
       "      <th></th>\n",
       "      <th>iso3</th>\n",
       "      <th>category</th>\n",
       "      <th>ind</th>\n",
       "      <th>units</th>\n",
       "      <th>2012</th>\n",
       "      <th>2013</th>\n",
       "      <th>2014</th>\n",
       "      <th>2015</th>\n",
       "      <th>2016</th>\n",
       "      <th>2017</th>\n",
       "      <th>2018</th>\n",
       "      <th>2019</th>\n",
       "      <th>2020</th>\n",
       "      <th>2021</th>\n",
       "    </tr>\n",
       "  </thead>\n",
       "  <tbody>\n",
       "    <tr>\n",
       "      <th>2</th>\n",
       "      <td>AFGHANISTAN</td>\n",
       "      <td>Arrivals</td>\n",
       "      <td>Total arrivals</td>\n",
       "      <td>Thousands</td>\n",
       "      <td></td>\n",
       "      <td></td>\n",
       "      <td></td>\n",
       "      <td></td>\n",
       "      <td></td>\n",
       "      <td></td>\n",
       "      <td></td>\n",
       "      <td></td>\n",
       "      <td></td>\n",
       "      <td></td>\n",
       "    </tr>\n",
       "    <tr>\n",
       "      <th>3</th>\n",
       "      <td>AFGHANISTAN</td>\n",
       "      <td>Arrivals</td>\n",
       "      <td>Overnights visitors (tourists)</td>\n",
       "      <td>Thousands</td>\n",
       "      <td></td>\n",
       "      <td></td>\n",
       "      <td></td>\n",
       "      <td></td>\n",
       "      <td></td>\n",
       "      <td></td>\n",
       "      <td></td>\n",
       "      <td></td>\n",
       "      <td></td>\n",
       "      <td></td>\n",
       "    </tr>\n",
       "    <tr>\n",
       "      <th>4</th>\n",
       "      <td>AFGHANISTAN</td>\n",
       "      <td>Arrivals</td>\n",
       "      <td>Same-day visitors (excursionists)</td>\n",
       "      <td>Thousands</td>\n",
       "      <td></td>\n",
       "      <td></td>\n",
       "      <td></td>\n",
       "      <td></td>\n",
       "      <td></td>\n",
       "      <td></td>\n",
       "      <td></td>\n",
       "      <td></td>\n",
       "      <td></td>\n",
       "      <td></td>\n",
       "    </tr>\n",
       "    <tr>\n",
       "      <th>5</th>\n",
       "      <td>AFGHANISTAN</td>\n",
       "      <td>Arrivals</td>\n",
       "      <td>of which, cruise passengers</td>\n",
       "      <td>Thousands</td>\n",
       "      <td></td>\n",
       "      <td></td>\n",
       "      <td></td>\n",
       "      <td></td>\n",
       "      <td></td>\n",
       "      <td></td>\n",
       "      <td></td>\n",
       "      <td></td>\n",
       "      <td></td>\n",
       "      <td></td>\n",
       "    </tr>\n",
       "    <tr>\n",
       "      <th>7</th>\n",
       "      <td>AFGHANISTAN</td>\n",
       "      <td>Arrivals by region</td>\n",
       "      <td>Total</td>\n",
       "      <td>Thousands</td>\n",
       "      <td></td>\n",
       "      <td></td>\n",
       "      <td></td>\n",
       "      <td></td>\n",
       "      <td></td>\n",
       "      <td></td>\n",
       "      <td></td>\n",
       "      <td></td>\n",
       "      <td></td>\n",
       "      <td></td>\n",
       "    </tr>\n",
       "  </tbody>\n",
       "</table>\n",
       "</div>"
      ],
      "text/plain": [
       "          iso3            category                                ind  \\\n",
       "2  AFGHANISTAN            Arrivals                     Total arrivals   \n",
       "3  AFGHANISTAN            Arrivals     Overnights visitors (tourists)   \n",
       "4  AFGHANISTAN            Arrivals  Same-day visitors (excursionists)   \n",
       "5  AFGHANISTAN            Arrivals        of which, cruise passengers   \n",
       "7  AFGHANISTAN  Arrivals by region                              Total   \n",
       "\n",
       "       units 2012 2013 2014 2015 2016 2017 2018 2019 2020 2021  \n",
       "2  Thousands                                                    \n",
       "3  Thousands                                                    \n",
       "4  Thousands                                                    \n",
       "5  Thousands                                                    \n",
       "7  Thousands                                                    "
      ]
     },
     "execution_count": 17,
     "metadata": {},
     "output_type": "execute_result"
    }
   ],
   "source": [
    "df_in.head()"
   ]
  },
  {
   "cell_type": "code",
   "execution_count": 18,
   "metadata": {},
   "outputs": [],
   "source": [
    "col_year = ['2012', \n",
    "            '2013', \n",
    "            '2014', \n",
    "            '2015',\n",
    "            '2016', \n",
    "            '2017', \n",
    "            '2018', \n",
    "            '2019', \n",
    "            '2020', \n",
    "            '2021']"
   ]
  },
  {
   "cell_type": "code",
   "execution_count": 19,
   "metadata": {},
   "outputs": [
    {
     "data": {
      "text/plain": [
       "2               Arrivals\n",
       "3               Arrivals\n",
       "4               Arrivals\n",
       "5               Arrivals\n",
       "7     Arrivals by region\n",
       "8     Arrivals by region\n",
       "9     Arrivals by region\n",
       "10    Arrivals by region\n",
       "11    Arrivals by region\n",
       "12    Arrivals by region\n",
       "Name: category, dtype: object"
      ]
     },
     "execution_count": 19,
     "metadata": {},
     "output_type": "execute_result"
    }
   ],
   "source": [
    "df_in.category.head(10)"
   ]
  },
  {
   "cell_type": "code",
   "execution_count": 20,
   "metadata": {},
   "outputs": [],
   "source": [
    "sel_category = ['Arrivals by region']"
   ]
  },
  {
   "cell_type": "code",
   "execution_count": 21,
   "metadata": {},
   "outputs": [],
   "source": [
    "arrivel_region = df_in[df_in['category'].isin(sel_category)]"
   ]
  },
  {
   "cell_type": "code",
   "execution_count": 22,
   "metadata": {},
   "outputs": [
    {
     "name": "stdout",
     "output_type": "stream",
     "text": [
      "         iso3            category                        ind      units  \\\n",
      "2632  GERMANY  Arrivals by region                      Total  Thousands   \n",
      "2633  GERMANY  Arrivals by region                     Africa  Thousands   \n",
      "2634  GERMANY  Arrivals by region                   Americas  Thousands   \n",
      "2635  GERMANY  Arrivals by region  East Asia and the Pacific  Thousands   \n",
      "2636  GERMANY  Arrivals by region                     Europe  Thousands   \n",
      "\n",
      "       2012   2013   2014   2015   2016   2017   2018   2019   2020   2021  \n",
      "2632  30411  31545  32999  34970  35555  37452  38881  39563  12449  11688  \n",
      "2633    227    246    254    274    263    271    273    284     74     62  \n",
      "2634   3155   3192   3272   3487   3509   3890   4085   4142    797    874  \n",
      "2635   2666   2805   3024   3556   3489   3889   3965   3963    579    314  \n",
      "2636  23121  23899  24915  25951  26568  27635  28681  29489  10595  10048  \n"
     ]
    }
   ],
   "source": [
    "print(arrivel_region[arrivel_region['iso3'] == 'GERMANY'].head())"
   ]
  },
  {
   "cell_type": "code",
   "execution_count": 23,
   "metadata": {},
   "outputs": [
    {
     "name": "stderr",
     "output_type": "stream",
     "text": [
      "/var/folders/lq/66qmb5qs6yx8s8h1s8rmqnh80000gn/T/ipykernel_3538/344891017.py:1: SettingWithCopyWarning: \n",
      "A value is trying to be set on a copy of a slice from a DataFrame\n",
      "\n",
      "See the caveats in the documentation: https://pandas.pydata.org/pandas-docs/stable/user_guide/indexing.html#returning-a-view-versus-a-copy\n",
      "  arrivel_region.drop(columns='category', axis=1, inplace=True)\n"
     ]
    }
   ],
   "source": [
    "arrivel_region.drop(columns='category', axis=1, inplace=True)"
   ]
  },
  {
   "cell_type": "code",
   "execution_count": 24,
   "metadata": {},
   "outputs": [
    {
     "data": {
      "text/html": [
       "<div>\n",
       "<style scoped>\n",
       "    .dataframe tbody tr th:only-of-type {\n",
       "        vertical-align: middle;\n",
       "    }\n",
       "\n",
       "    .dataframe tbody tr th {\n",
       "        vertical-align: top;\n",
       "    }\n",
       "\n",
       "    .dataframe thead th {\n",
       "        text-align: right;\n",
       "    }\n",
       "</style>\n",
       "<table border=\"1\" class=\"dataframe\">\n",
       "  <thead>\n",
       "    <tr style=\"text-align: right;\">\n",
       "      <th></th>\n",
       "      <th>iso3</th>\n",
       "      <th>ind</th>\n",
       "      <th>units</th>\n",
       "      <th>2012</th>\n",
       "      <th>2013</th>\n",
       "      <th>2014</th>\n",
       "      <th>2015</th>\n",
       "      <th>2016</th>\n",
       "      <th>2017</th>\n",
       "      <th>2018</th>\n",
       "      <th>2019</th>\n",
       "      <th>2020</th>\n",
       "      <th>2021</th>\n",
       "    </tr>\n",
       "  </thead>\n",
       "  <tbody>\n",
       "    <tr>\n",
       "      <th>7</th>\n",
       "      <td>AFGHANISTAN</td>\n",
       "      <td>Total</td>\n",
       "      <td>Thousands</td>\n",
       "      <td></td>\n",
       "      <td></td>\n",
       "      <td></td>\n",
       "      <td></td>\n",
       "      <td></td>\n",
       "      <td></td>\n",
       "      <td></td>\n",
       "      <td></td>\n",
       "      <td></td>\n",
       "      <td></td>\n",
       "    </tr>\n",
       "    <tr>\n",
       "      <th>8</th>\n",
       "      <td>AFGHANISTAN</td>\n",
       "      <td>Africa</td>\n",
       "      <td>Thousands</td>\n",
       "      <td></td>\n",
       "      <td></td>\n",
       "      <td></td>\n",
       "      <td></td>\n",
       "      <td></td>\n",
       "      <td></td>\n",
       "      <td></td>\n",
       "      <td></td>\n",
       "      <td></td>\n",
       "      <td></td>\n",
       "    </tr>\n",
       "    <tr>\n",
       "      <th>9</th>\n",
       "      <td>AFGHANISTAN</td>\n",
       "      <td>Americas</td>\n",
       "      <td>Thousands</td>\n",
       "      <td></td>\n",
       "      <td></td>\n",
       "      <td></td>\n",
       "      <td></td>\n",
       "      <td></td>\n",
       "      <td></td>\n",
       "      <td></td>\n",
       "      <td></td>\n",
       "      <td></td>\n",
       "      <td></td>\n",
       "    </tr>\n",
       "    <tr>\n",
       "      <th>10</th>\n",
       "      <td>AFGHANISTAN</td>\n",
       "      <td>East Asia and the Pacific</td>\n",
       "      <td>Thousands</td>\n",
       "      <td></td>\n",
       "      <td></td>\n",
       "      <td></td>\n",
       "      <td></td>\n",
       "      <td></td>\n",
       "      <td></td>\n",
       "      <td></td>\n",
       "      <td></td>\n",
       "      <td></td>\n",
       "      <td></td>\n",
       "    </tr>\n",
       "    <tr>\n",
       "      <th>11</th>\n",
       "      <td>AFGHANISTAN</td>\n",
       "      <td>Europe</td>\n",
       "      <td>Thousands</td>\n",
       "      <td></td>\n",
       "      <td></td>\n",
       "      <td></td>\n",
       "      <td></td>\n",
       "      <td></td>\n",
       "      <td></td>\n",
       "      <td></td>\n",
       "      <td></td>\n",
       "      <td></td>\n",
       "      <td></td>\n",
       "    </tr>\n",
       "    <tr>\n",
       "      <th>...</th>\n",
       "      <td>...</td>\n",
       "      <td>...</td>\n",
       "      <td>...</td>\n",
       "      <td>...</td>\n",
       "      <td>...</td>\n",
       "      <td>...</td>\n",
       "      <td>...</td>\n",
       "      <td>...</td>\n",
       "      <td>...</td>\n",
       "      <td>...</td>\n",
       "      <td>...</td>\n",
       "      <td>...</td>\n",
       "      <td>...</td>\n",
       "    </tr>\n",
       "    <tr>\n",
       "      <th>7781</th>\n",
       "      <td>ZIMBABWE</td>\n",
       "      <td>Europe</td>\n",
       "      <td>Thousands</td>\n",
       "      <td>114</td>\n",
       "      <td>131</td>\n",
       "      <td>144</td>\n",
       "      <td>153</td>\n",
       "      <td>141</td>\n",
       "      <td>223</td>\n",
       "      <td>237</td>\n",
       "      <td>191</td>\n",
       "      <td>37</td>\n",
       "      <td>71</td>\n",
       "    </tr>\n",
       "    <tr>\n",
       "      <th>7782</th>\n",
       "      <td>ZIMBABWE</td>\n",
       "      <td>Middle East</td>\n",
       "      <td>Thousands</td>\n",
       "      <td>1</td>\n",
       "      <td>1</td>\n",
       "      <td>2</td>\n",
       "      <td>1</td>\n",
       "      <td>1</td>\n",
       "      <td>3</td>\n",
       "      <td>2</td>\n",
       "      <td>4</td>\n",
       "      <td>0,3</td>\n",
       "      <td>0,3</td>\n",
       "    </tr>\n",
       "    <tr>\n",
       "      <th>7783</th>\n",
       "      <td>ZIMBABWE</td>\n",
       "      <td>South Asia</td>\n",
       "      <td>Thousands</td>\n",
       "      <td>2</td>\n",
       "      <td>3</td>\n",
       "      <td>2</td>\n",
       "      <td>7</td>\n",
       "      <td>5</td>\n",
       "      <td>9</td>\n",
       "      <td>14</td>\n",
       "      <td>13</td>\n",
       "      <td>3</td>\n",
       "      <td>3</td>\n",
       "    </tr>\n",
       "    <tr>\n",
       "      <th>7784</th>\n",
       "      <td>ZIMBABWE</td>\n",
       "      <td>Other not classified</td>\n",
       "      <td>Thousands</td>\n",
       "      <td></td>\n",
       "      <td></td>\n",
       "      <td></td>\n",
       "      <td></td>\n",
       "      <td></td>\n",
       "      <td></td>\n",
       "      <td></td>\n",
       "      <td></td>\n",
       "      <td></td>\n",
       "      <td></td>\n",
       "    </tr>\n",
       "    <tr>\n",
       "      <th>7785</th>\n",
       "      <td>ZIMBABWE</td>\n",
       "      <td>of which, nationals residing abroad</td>\n",
       "      <td>Thousands</td>\n",
       "      <td></td>\n",
       "      <td></td>\n",
       "      <td></td>\n",
       "      <td></td>\n",
       "      <td></td>\n",
       "      <td></td>\n",
       "      <td></td>\n",
       "      <td></td>\n",
       "      <td></td>\n",
       "      <td></td>\n",
       "    </tr>\n",
       "  </tbody>\n",
       "</table>\n",
       "<p>2007 rows × 13 columns</p>\n",
       "</div>"
      ],
      "text/plain": [
       "             iso3                                  ind      units 2012 2013  \\\n",
       "7     AFGHANISTAN                                Total  Thousands             \n",
       "8     AFGHANISTAN                               Africa  Thousands             \n",
       "9     AFGHANISTAN                             Americas  Thousands             \n",
       "10    AFGHANISTAN            East Asia and the Pacific  Thousands             \n",
       "11    AFGHANISTAN                               Europe  Thousands             \n",
       "...           ...                                  ...        ...  ...  ...   \n",
       "7781     ZIMBABWE                               Europe  Thousands  114  131   \n",
       "7782     ZIMBABWE                          Middle East  Thousands    1    1   \n",
       "7783     ZIMBABWE                           South Asia  Thousands    2    3   \n",
       "7784     ZIMBABWE                 Other not classified  Thousands             \n",
       "7785     ZIMBABWE  of which, nationals residing abroad  Thousands             \n",
       "\n",
       "     2014 2015 2016 2017 2018 2019 2020 2021  \n",
       "7                                             \n",
       "8                                             \n",
       "9                                             \n",
       "10                                            \n",
       "11                                            \n",
       "...   ...  ...  ...  ...  ...  ...  ...  ...  \n",
       "7781  144  153  141  223  237  191   37   71  \n",
       "7782    2    1    1    3    2    4  0,3  0,3  \n",
       "7783    2    7    5    9   14   13    3    3  \n",
       "7784                                          \n",
       "7785                                          \n",
       "\n",
       "[2007 rows x 13 columns]"
      ]
     },
     "execution_count": 24,
     "metadata": {},
     "output_type": "execute_result"
    }
   ],
   "source": [
    "arrivel_region"
   ]
  },
  {
   "cell_type": "code",
   "execution_count": 25,
   "metadata": {},
   "outputs": [
    {
     "name": "stdout",
     "output_type": "stream",
     "text": [
      "<class 'pandas.core.frame.DataFrame'>\n",
      "Int64Index: 2007 entries, 7 to 7785\n",
      "Data columns (total 13 columns):\n",
      " #   Column  Non-Null Count  Dtype \n",
      "---  ------  --------------  ----- \n",
      " 0   iso3    2007 non-null   object\n",
      " 1   ind     2007 non-null   object\n",
      " 2   units   2007 non-null   object\n",
      " 3   2012    2007 non-null   object\n",
      " 4   2013    2007 non-null   object\n",
      " 5   2014    2007 non-null   object\n",
      " 6   2015    2007 non-null   object\n",
      " 7   2016    2007 non-null   object\n",
      " 8   2017    2007 non-null   object\n",
      " 9   2018    2007 non-null   object\n",
      " 10  2019    2007 non-null   object\n",
      " 11  2020    2007 non-null   object\n",
      " 12  2021    2007 non-null   object\n",
      "dtypes: object(13)\n",
      "memory usage: 219.5+ KB\n"
     ]
    }
   ],
   "source": [
    "arrivel_region.info()"
   ]
  },
  {
   "cell_type": "code",
   "execution_count": 26,
   "metadata": {},
   "outputs": [
    {
     "name": "stderr",
     "output_type": "stream",
     "text": [
      "/var/folders/lq/66qmb5qs6yx8s8h1s8rmqnh80000gn/T/ipykernel_3538/3530718804.py:5: SettingWithCopyWarning: \n",
      "A value is trying to be set on a copy of a slice from a DataFrame.\n",
      "Try using .loc[row_indexer,col_indexer] = value instead\n",
      "\n",
      "See the caveats in the documentation: https://pandas.pydata.org/pandas-docs/stable/user_guide/indexing.html#returning-a-view-versus-a-copy\n",
      "  arrivel_region[i] = pd.to_numeric(arrivel_region[i], errors='coerce')\n"
     ]
    }
   ],
   "source": [
    "col_num = ['2012', '2013', '2014', '2015', '2016', '2017', '2018', '2019', '2020', '2021']\n",
    "\n",
    "for i in col_num:\n",
    "    #arrivel_region[i] = pd.to_numeric(arrivel_region[i], downcast='integer',  errors='coerce')\n",
    "    arrivel_region[i] = pd.to_numeric(arrivel_region[i], errors='coerce')"
   ]
  },
  {
   "cell_type": "code",
   "execution_count": 27,
   "metadata": {},
   "outputs": [
    {
     "name": "stdout",
     "output_type": "stream",
     "text": [
      "<class 'pandas.core.frame.DataFrame'>\n",
      "Int64Index: 2007 entries, 7 to 7785\n",
      "Data columns (total 13 columns):\n",
      " #   Column  Non-Null Count  Dtype  \n",
      "---  ------  --------------  -----  \n",
      " 0   iso3    2007 non-null   object \n",
      " 1   ind     2007 non-null   object \n",
      " 2   units   2007 non-null   object \n",
      " 3   2012    1167 non-null   float64\n",
      " 4   2013    1178 non-null   float64\n",
      " 5   2014    1169 non-null   float64\n",
      " 6   2015    1186 non-null   float64\n",
      " 7   2016    1187 non-null   float64\n",
      " 8   2017    1180 non-null   float64\n",
      " 9   2018    1165 non-null   float64\n",
      " 10  2019    1150 non-null   float64\n",
      " 11  2020    1081 non-null   float64\n",
      " 12  2021    956 non-null    float64\n",
      "dtypes: float64(10), object(3)\n",
      "memory usage: 219.5+ KB\n"
     ]
    }
   ],
   "source": [
    "arrivel_region.info()"
   ]
  },
  {
   "cell_type": "code",
   "execution_count": 28,
   "metadata": {},
   "outputs": [],
   "source": [
    "from transform_esg import melt_pivot"
   ]
  },
  {
   "cell_type": "code",
   "execution_count": 29,
   "metadata": {},
   "outputs": [],
   "source": [
    "arrivel_region_trans = melt_pivot(arrivel_region)"
   ]
  },
  {
   "cell_type": "code",
   "execution_count": 168,
   "metadata": {},
   "outputs": [
    {
     "name": "stdout",
     "output_type": "stream",
     "text": [
      "<class 'pandas.core.frame.DataFrame'>\n",
      "RangeIndex: 2230 entries, 0 to 2229\n",
      "Data columns (total 11 columns):\n",
      " #   Column                               Non-Null Count  Dtype  \n",
      "---  ------                               --------------  -----  \n",
      " 0   iso3                                 2230 non-null   object \n",
      " 1   year                                 2230 non-null   object \n",
      " 2   africa                               1261 non-null   float64\n",
      " 3   americas                             1751 non-null   float64\n",
      " 4   east_asia_and_the_pacific            1555 non-null   float64\n",
      " 5   europe                               1765 non-null   float64\n",
      " 6   middle_east                          979 non-null    float64\n",
      " 7   other_not_classified                 1032 non-null   float64\n",
      " 8   south_asia                           1047 non-null   float64\n",
      " 9   total                                1780 non-null   float64\n",
      " 10  of_which,_nationals_residing_abroad  249 non-null    float64\n",
      "dtypes: float64(9), object(2)\n",
      "memory usage: 191.8+ KB\n"
     ]
    }
   ],
   "source": [
    "arrivel_region_trans.info()"
   ]
  },
  {
   "cell_type": "code",
   "execution_count": 30,
   "metadata": {},
   "outputs": [
    {
     "data": {
      "text/plain": [
       "Index(['iso3', 'year', 'africa', 'americas', 'east_asia_and_the_pacific',\n",
       "       'europe', 'middle_east', 'other_not_classified', 'south_asia', 'total',\n",
       "       'of_which,_nationals_residing_abroad'],\n",
       "      dtype='object', name='ind')"
      ]
     },
     "execution_count": 30,
     "metadata": {},
     "output_type": "execute_result"
    }
   ],
   "source": [
    "arrivel_region_trans.rename(columns=lambda x : x.lower(), inplace=True)\n",
    "arrivel_region_trans.rename(columns=lambda x : x.replace(' ', '_'), inplace=True)\n",
    "arrivel_region_trans.rename({'variable':'year'}, axis=1, inplace=True)\n",
    "arrivel_region_trans.columns"
   ]
  },
  {
   "cell_type": "code",
   "execution_count": 31,
   "metadata": {},
   "outputs": [
    {
     "data": {
      "text/html": [
       "<div>\n",
       "<style scoped>\n",
       "    .dataframe tbody tr th:only-of-type {\n",
       "        vertical-align: middle;\n",
       "    }\n",
       "\n",
       "    .dataframe tbody tr th {\n",
       "        vertical-align: top;\n",
       "    }\n",
       "\n",
       "    .dataframe thead th {\n",
       "        text-align: right;\n",
       "    }\n",
       "</style>\n",
       "<table border=\"1\" class=\"dataframe\">\n",
       "  <thead>\n",
       "    <tr style=\"text-align: right;\">\n",
       "      <th>ind</th>\n",
       "      <th>iso3</th>\n",
       "      <th>year</th>\n",
       "      <th>africa</th>\n",
       "      <th>americas</th>\n",
       "      <th>east_asia_and_the_pacific</th>\n",
       "      <th>europe</th>\n",
       "      <th>middle_east</th>\n",
       "      <th>other_not_classified</th>\n",
       "      <th>south_asia</th>\n",
       "      <th>total</th>\n",
       "      <th>of_which,_nationals_residing_abroad</th>\n",
       "    </tr>\n",
       "  </thead>\n",
       "  <tbody>\n",
       "    <tr>\n",
       "      <th>0</th>\n",
       "      <td>AFGHANISTAN</td>\n",
       "      <td>2012</td>\n",
       "      <td>NaN</td>\n",
       "      <td>NaN</td>\n",
       "      <td>NaN</td>\n",
       "      <td>NaN</td>\n",
       "      <td>NaN</td>\n",
       "      <td>NaN</td>\n",
       "      <td>NaN</td>\n",
       "      <td>NaN</td>\n",
       "      <td>NaN</td>\n",
       "    </tr>\n",
       "    <tr>\n",
       "      <th>1</th>\n",
       "      <td>AFGHANISTAN</td>\n",
       "      <td>2013</td>\n",
       "      <td>NaN</td>\n",
       "      <td>NaN</td>\n",
       "      <td>NaN</td>\n",
       "      <td>NaN</td>\n",
       "      <td>NaN</td>\n",
       "      <td>NaN</td>\n",
       "      <td>NaN</td>\n",
       "      <td>NaN</td>\n",
       "      <td>NaN</td>\n",
       "    </tr>\n",
       "    <tr>\n",
       "      <th>2</th>\n",
       "      <td>AFGHANISTAN</td>\n",
       "      <td>2014</td>\n",
       "      <td>NaN</td>\n",
       "      <td>NaN</td>\n",
       "      <td>NaN</td>\n",
       "      <td>NaN</td>\n",
       "      <td>NaN</td>\n",
       "      <td>NaN</td>\n",
       "      <td>NaN</td>\n",
       "      <td>NaN</td>\n",
       "      <td>NaN</td>\n",
       "    </tr>\n",
       "    <tr>\n",
       "      <th>3</th>\n",
       "      <td>AFGHANISTAN</td>\n",
       "      <td>2015</td>\n",
       "      <td>NaN</td>\n",
       "      <td>NaN</td>\n",
       "      <td>NaN</td>\n",
       "      <td>NaN</td>\n",
       "      <td>NaN</td>\n",
       "      <td>NaN</td>\n",
       "      <td>NaN</td>\n",
       "      <td>NaN</td>\n",
       "      <td>NaN</td>\n",
       "    </tr>\n",
       "    <tr>\n",
       "      <th>4</th>\n",
       "      <td>AFGHANISTAN</td>\n",
       "      <td>2016</td>\n",
       "      <td>NaN</td>\n",
       "      <td>NaN</td>\n",
       "      <td>NaN</td>\n",
       "      <td>NaN</td>\n",
       "      <td>NaN</td>\n",
       "      <td>NaN</td>\n",
       "      <td>NaN</td>\n",
       "      <td>NaN</td>\n",
       "      <td>NaN</td>\n",
       "    </tr>\n",
       "  </tbody>\n",
       "</table>\n",
       "</div>"
      ],
      "text/plain": [
       "ind         iso3  year  africa  americas  east_asia_and_the_pacific  europe  \\\n",
       "0    AFGHANISTAN  2012     NaN       NaN                        NaN     NaN   \n",
       "1    AFGHANISTAN  2013     NaN       NaN                        NaN     NaN   \n",
       "2    AFGHANISTAN  2014     NaN       NaN                        NaN     NaN   \n",
       "3    AFGHANISTAN  2015     NaN       NaN                        NaN     NaN   \n",
       "4    AFGHANISTAN  2016     NaN       NaN                        NaN     NaN   \n",
       "\n",
       "ind  middle_east  other_not_classified  south_asia  total  \\\n",
       "0            NaN                   NaN         NaN    NaN   \n",
       "1            NaN                   NaN         NaN    NaN   \n",
       "2            NaN                   NaN         NaN    NaN   \n",
       "3            NaN                   NaN         NaN    NaN   \n",
       "4            NaN                   NaN         NaN    NaN   \n",
       "\n",
       "ind  of_which,_nationals_residing_abroad  \n",
       "0                                    NaN  \n",
       "1                                    NaN  \n",
       "2                                    NaN  \n",
       "3                                    NaN  \n",
       "4                                    NaN  "
      ]
     },
     "execution_count": 31,
     "metadata": {},
     "output_type": "execute_result"
    }
   ],
   "source": [
    "arrivel_region_trans.head()"
   ]
  },
  {
   "cell_type": "code",
   "execution_count": 32,
   "metadata": {},
   "outputs": [
    {
     "name": "stdout",
     "output_type": "stream",
     "text": [
      "<class 'pandas.core.frame.DataFrame'>\n",
      "RangeIndex: 2230 entries, 0 to 2229\n",
      "Data columns (total 11 columns):\n",
      " #   Column                               Non-Null Count  Dtype  \n",
      "---  ------                               --------------  -----  \n",
      " 0   iso3                                 2230 non-null   object \n",
      " 1   year                                 2230 non-null   object \n",
      " 2   africa                               1261 non-null   float64\n",
      " 3   americas                             1751 non-null   float64\n",
      " 4   east_asia_and_the_pacific            1555 non-null   float64\n",
      " 5   europe                               1765 non-null   float64\n",
      " 6   middle_east                          979 non-null    float64\n",
      " 7   other_not_classified                 1032 non-null   float64\n",
      " 8   south_asia                           1047 non-null   float64\n",
      " 9   total                                1780 non-null   float64\n",
      " 10  of_which,_nationals_residing_abroad  249 non-null    float64\n",
      "dtypes: float64(9), object(2)\n",
      "memory usage: 191.8+ KB\n"
     ]
    }
   ],
   "source": [
    "arrivel_region_trans.info()"
   ]
  },
  {
   "cell_type": "code",
   "execution_count": 33,
   "metadata": {},
   "outputs": [
    {
     "data": {
      "text/plain": [
       "223"
      ]
     },
     "execution_count": 33,
     "metadata": {},
     "output_type": "execute_result"
    }
   ],
   "source": [
    "arrivel_region_trans['iso3'].nunique()"
   ]
  },
  {
   "cell_type": "code",
   "execution_count": 34,
   "metadata": {},
   "outputs": [
    {
     "name": "stdout",
     "output_type": "stream",
     "text": [
      "193\n"
     ]
    }
   ],
   "source": [
    "from country_iso_dict import country_iso_dict"
   ]
  },
  {
   "cell_type": "code",
   "execution_count": 135,
   "metadata": {},
   "outputs": [],
   "source": [
    "country_iso_dict = {key.upper(): value for key, value in country_iso_dict.items()}"
   ]
  },
  {
   "cell_type": "code",
   "execution_count": 136,
   "metadata": {},
   "outputs": [],
   "source": [
    "arrivel_region_iso = arrivel_region_trans.copy()"
   ]
  },
  {
   "cell_type": "code",
   "execution_count": 137,
   "metadata": {},
   "outputs": [],
   "source": [
    "arrivel_region_iso['iso3'] = arrivel_region_iso['iso3'].map(country_iso_dict).fillna(arrivel_region_iso['iso3'])"
   ]
  },
  {
   "cell_type": "code",
   "execution_count": 138,
   "metadata": {},
   "outputs": [
    {
     "data": {
      "text/html": [
       "<div>\n",
       "<style scoped>\n",
       "    .dataframe tbody tr th:only-of-type {\n",
       "        vertical-align: middle;\n",
       "    }\n",
       "\n",
       "    .dataframe tbody tr th {\n",
       "        vertical-align: top;\n",
       "    }\n",
       "\n",
       "    .dataframe thead th {\n",
       "        text-align: right;\n",
       "    }\n",
       "</style>\n",
       "<table border=\"1\" class=\"dataframe\">\n",
       "  <thead>\n",
       "    <tr style=\"text-align: right;\">\n",
       "      <th>ind</th>\n",
       "      <th>iso3</th>\n",
       "      <th>year</th>\n",
       "      <th>africa</th>\n",
       "      <th>americas</th>\n",
       "      <th>east_asia_and_the_pacific</th>\n",
       "      <th>europe</th>\n",
       "      <th>middle_east</th>\n",
       "      <th>other_not_classified</th>\n",
       "      <th>south_asia</th>\n",
       "      <th>total</th>\n",
       "      <th>of_which,_nationals_residing_abroad</th>\n",
       "    </tr>\n",
       "  </thead>\n",
       "  <tbody>\n",
       "    <tr>\n",
       "      <th>0</th>\n",
       "      <td>AFG</td>\n",
       "      <td>2012</td>\n",
       "      <td>NaN</td>\n",
       "      <td>NaN</td>\n",
       "      <td>NaN</td>\n",
       "      <td>NaN</td>\n",
       "      <td>NaN</td>\n",
       "      <td>NaN</td>\n",
       "      <td>NaN</td>\n",
       "      <td>NaN</td>\n",
       "      <td>NaN</td>\n",
       "    </tr>\n",
       "    <tr>\n",
       "      <th>1</th>\n",
       "      <td>AFG</td>\n",
       "      <td>2013</td>\n",
       "      <td>NaN</td>\n",
       "      <td>NaN</td>\n",
       "      <td>NaN</td>\n",
       "      <td>NaN</td>\n",
       "      <td>NaN</td>\n",
       "      <td>NaN</td>\n",
       "      <td>NaN</td>\n",
       "      <td>NaN</td>\n",
       "      <td>NaN</td>\n",
       "    </tr>\n",
       "    <tr>\n",
       "      <th>2</th>\n",
       "      <td>AFG</td>\n",
       "      <td>2014</td>\n",
       "      <td>NaN</td>\n",
       "      <td>NaN</td>\n",
       "      <td>NaN</td>\n",
       "      <td>NaN</td>\n",
       "      <td>NaN</td>\n",
       "      <td>NaN</td>\n",
       "      <td>NaN</td>\n",
       "      <td>NaN</td>\n",
       "      <td>NaN</td>\n",
       "    </tr>\n",
       "    <tr>\n",
       "      <th>3</th>\n",
       "      <td>AFG</td>\n",
       "      <td>2015</td>\n",
       "      <td>NaN</td>\n",
       "      <td>NaN</td>\n",
       "      <td>NaN</td>\n",
       "      <td>NaN</td>\n",
       "      <td>NaN</td>\n",
       "      <td>NaN</td>\n",
       "      <td>NaN</td>\n",
       "      <td>NaN</td>\n",
       "      <td>NaN</td>\n",
       "    </tr>\n",
       "    <tr>\n",
       "      <th>4</th>\n",
       "      <td>AFG</td>\n",
       "      <td>2016</td>\n",
       "      <td>NaN</td>\n",
       "      <td>NaN</td>\n",
       "      <td>NaN</td>\n",
       "      <td>NaN</td>\n",
       "      <td>NaN</td>\n",
       "      <td>NaN</td>\n",
       "      <td>NaN</td>\n",
       "      <td>NaN</td>\n",
       "      <td>NaN</td>\n",
       "    </tr>\n",
       "    <tr>\n",
       "      <th>...</th>\n",
       "      <td>...</td>\n",
       "      <td>...</td>\n",
       "      <td>...</td>\n",
       "      <td>...</td>\n",
       "      <td>...</td>\n",
       "      <td>...</td>\n",
       "      <td>...</td>\n",
       "      <td>...</td>\n",
       "      <td>...</td>\n",
       "      <td>...</td>\n",
       "      <td>...</td>\n",
       "    </tr>\n",
       "    <tr>\n",
       "      <th>2225</th>\n",
       "      <td>ZWE</td>\n",
       "      <td>2017</td>\n",
       "      <td>1948.0</td>\n",
       "      <td>121.0</td>\n",
       "      <td>120.0</td>\n",
       "      <td>223.0</td>\n",
       "      <td>3.0</td>\n",
       "      <td>NaN</td>\n",
       "      <td>9.0</td>\n",
       "      <td>2423.0</td>\n",
       "      <td>NaN</td>\n",
       "    </tr>\n",
       "    <tr>\n",
       "      <th>2226</th>\n",
       "      <td>ZWE</td>\n",
       "      <td>2018</td>\n",
       "      <td>2064.0</td>\n",
       "      <td>120.0</td>\n",
       "      <td>142.0</td>\n",
       "      <td>237.0</td>\n",
       "      <td>2.0</td>\n",
       "      <td>NaN</td>\n",
       "      <td>14.0</td>\n",
       "      <td>2580.0</td>\n",
       "      <td>NaN</td>\n",
       "    </tr>\n",
       "    <tr>\n",
       "      <th>2227</th>\n",
       "      <td>ZWE</td>\n",
       "      <td>2019</td>\n",
       "      <td>1872.0</td>\n",
       "      <td>101.0</td>\n",
       "      <td>113.0</td>\n",
       "      <td>191.0</td>\n",
       "      <td>4.0</td>\n",
       "      <td>NaN</td>\n",
       "      <td>13.0</td>\n",
       "      <td>2294.0</td>\n",
       "      <td>NaN</td>\n",
       "    </tr>\n",
       "    <tr>\n",
       "      <th>2228</th>\n",
       "      <td>ZWE</td>\n",
       "      <td>2020</td>\n",
       "      <td>568.0</td>\n",
       "      <td>17.0</td>\n",
       "      <td>14.0</td>\n",
       "      <td>37.0</td>\n",
       "      <td>NaN</td>\n",
       "      <td>NaN</td>\n",
       "      <td>3.0</td>\n",
       "      <td>639.0</td>\n",
       "      <td>NaN</td>\n",
       "    </tr>\n",
       "    <tr>\n",
       "      <th>2229</th>\n",
       "      <td>ZWE</td>\n",
       "      <td>2021</td>\n",
       "      <td>269.0</td>\n",
       "      <td>21.0</td>\n",
       "      <td>17.0</td>\n",
       "      <td>71.0</td>\n",
       "      <td>NaN</td>\n",
       "      <td>NaN</td>\n",
       "      <td>3.0</td>\n",
       "      <td>381.0</td>\n",
       "      <td>NaN</td>\n",
       "    </tr>\n",
       "  </tbody>\n",
       "</table>\n",
       "<p>2230 rows × 11 columns</p>\n",
       "</div>"
      ],
      "text/plain": [
       "ind  iso3  year  africa  americas  east_asia_and_the_pacific  europe  \\\n",
       "0     AFG  2012     NaN       NaN                        NaN     NaN   \n",
       "1     AFG  2013     NaN       NaN                        NaN     NaN   \n",
       "2     AFG  2014     NaN       NaN                        NaN     NaN   \n",
       "3     AFG  2015     NaN       NaN                        NaN     NaN   \n",
       "4     AFG  2016     NaN       NaN                        NaN     NaN   \n",
       "...   ...   ...     ...       ...                        ...     ...   \n",
       "2225  ZWE  2017  1948.0     121.0                      120.0   223.0   \n",
       "2226  ZWE  2018  2064.0     120.0                      142.0   237.0   \n",
       "2227  ZWE  2019  1872.0     101.0                      113.0   191.0   \n",
       "2228  ZWE  2020   568.0      17.0                       14.0    37.0   \n",
       "2229  ZWE  2021   269.0      21.0                       17.0    71.0   \n",
       "\n",
       "ind   middle_east  other_not_classified  south_asia   total  \\\n",
       "0             NaN                   NaN         NaN     NaN   \n",
       "1             NaN                   NaN         NaN     NaN   \n",
       "2             NaN                   NaN         NaN     NaN   \n",
       "3             NaN                   NaN         NaN     NaN   \n",
       "4             NaN                   NaN         NaN     NaN   \n",
       "...           ...                   ...         ...     ...   \n",
       "2225          3.0                   NaN         9.0  2423.0   \n",
       "2226          2.0                   NaN        14.0  2580.0   \n",
       "2227          4.0                   NaN        13.0  2294.0   \n",
       "2228          NaN                   NaN         3.0   639.0   \n",
       "2229          NaN                   NaN         3.0   381.0   \n",
       "\n",
       "ind   of_which,_nationals_residing_abroad  \n",
       "0                                     NaN  \n",
       "1                                     NaN  \n",
       "2                                     NaN  \n",
       "3                                     NaN  \n",
       "4                                     NaN  \n",
       "...                                   ...  \n",
       "2225                                  NaN  \n",
       "2226                                  NaN  \n",
       "2227                                  NaN  \n",
       "2228                                  NaN  \n",
       "2229                                  NaN  \n",
       "\n",
       "[2230 rows x 11 columns]"
      ]
     },
     "execution_count": 138,
     "metadata": {},
     "output_type": "execute_result"
    }
   ],
   "source": [
    "arrivel_region_iso"
   ]
  },
  {
   "cell_type": "code",
   "execution_count": 139,
   "metadata": {},
   "outputs": [
    {
     "data": {
      "text/plain": [
       "{'BOL',\n",
       " 'CIV',\n",
       " 'COD',\n",
       " 'CZE',\n",
       " 'FSM',\n",
       " 'GBR',\n",
       " 'IRN',\n",
       " 'KOR',\n",
       " 'LAO',\n",
       " 'MDA',\n",
       " 'PRK',\n",
       " 'TUR',\n",
       " 'VEN'}"
      ]
     },
     "execution_count": 139,
     "metadata": {},
     "output_type": "execute_result"
    }
   ],
   "source": [
    "iso3_unique = set(arrivel_region_iso['iso3'].unique())\n",
    "off_unique = set(list_off)\n",
    "\n",
    "missing_iso = off_unique - iso3_unique\n",
    "missing_iso"
   ]
  },
  {
   "cell_type": "code",
   "execution_count": 140,
   "metadata": {},
   "outputs": [],
   "source": [
    "country_iso3_spec = {\n",
    "    'BOLIVIA, PLURINATIONAL STATE OF': 'BOL',\n",
    "    'COTE D´IVOIRE': 'CIV',\n",
    "    'CONGO, DEMOCRATIC REPUBLIC OF THE': 'COD',\n",
    "    'CZECH REPUBLIC (CZECHIA)': 'CZE',\n",
    "    'MICRONESIA, FEDERATED STATES OF': 'FSM',\n",
    "    'UNITED KINGDOM': 'GBR',\n",
    "    'IRAN, ISLAMIC REPUBLIC OF': 'IRN',\n",
    "    'KOREA, REPUBLIC OF': 'KOR',\n",
    "    'LAO PEOPLE´S DEMOCRATIC REPUBLIC': 'LAO',\n",
    "    'MOLDOVA, REPUBLIC OF': 'MDA',\n",
    "    'KOREA, DEMOCRATIC PEOPLE´S REPUBLIC OF': 'PRK',\n",
    "    'TÜRKIYE': 'TUR',\n",
    "    'VENEZUELA, BOLIVARIAN REPUBLIC OF': 'VEN'\n",
    "}"
   ]
  },
  {
   "cell_type": "code",
   "execution_count": 141,
   "metadata": {},
   "outputs": [],
   "source": [
    "arrivel_region_iso['iso3'] = arrivel_region_iso['iso3'].replace(country_iso3_spec)"
   ]
  },
  {
   "cell_type": "code",
   "execution_count": 142,
   "metadata": {},
   "outputs": [
    {
     "data": {
      "text/plain": [
       "223"
      ]
     },
     "execution_count": 142,
     "metadata": {},
     "output_type": "execute_result"
    }
   ],
   "source": [
    "arrivel_region_iso['iso3'].nunique()"
   ]
  },
  {
   "cell_type": "code",
   "execution_count": 143,
   "metadata": {},
   "outputs": [
    {
     "data": {
      "text/plain": [
       "0       AFG\n",
       "1       AFG\n",
       "2       AFG\n",
       "3       AFG\n",
       "4       AFG\n",
       "       ... \n",
       "2225    ZWE\n",
       "2226    ZWE\n",
       "2227    ZWE\n",
       "2228    ZWE\n",
       "2229    ZWE\n",
       "Name: iso3, Length: 2230, dtype: object"
      ]
     },
     "execution_count": 143,
     "metadata": {},
     "output_type": "execute_result"
    }
   ],
   "source": [
    "arrivel_region_iso['iso3']"
   ]
  },
  {
   "cell_type": "code",
   "execution_count": 65,
   "metadata": {},
   "outputs": [],
   "source": [
    "from country_iso_dict import list_off"
   ]
  },
  {
   "cell_type": "code",
   "execution_count": 145,
   "metadata": {},
   "outputs": [
    {
     "name": "stdout",
     "output_type": "stream",
     "text": [
      "193\n"
     ]
    }
   ],
   "source": [
    "print(len(list_off))"
   ]
  },
  {
   "cell_type": "code",
   "execution_count": 146,
   "metadata": {},
   "outputs": [],
   "source": [
    "arrivel_region_off = arrivel_region_iso[arrivel_region_iso['iso3'].isin(list_off)]"
   ]
  },
  {
   "cell_type": "code",
   "execution_count": 147,
   "metadata": {},
   "outputs": [
    {
     "data": {
      "text/plain": [
       "193"
      ]
     },
     "execution_count": 147,
     "metadata": {},
     "output_type": "execute_result"
    }
   ],
   "source": [
    "arrivel_region_off['iso3'].nunique()"
   ]
  },
  {
   "cell_type": "code",
   "execution_count": 149,
   "metadata": {},
   "outputs": [
    {
     "data": {
      "text/plain": [
       "{'ABW',\n",
       " 'AIA',\n",
       " 'ASM',\n",
       " 'BMU',\n",
       " 'BONAIRE',\n",
       " 'BRITISH VIRGIN ISLANDS',\n",
       " 'COK',\n",
       " 'CUW',\n",
       " 'CYM',\n",
       " 'GLP',\n",
       " 'GUF',\n",
       " 'GUM',\n",
       " 'HONG KONG, CHINA',\n",
       " 'MACAO, CHINA',\n",
       " 'MNP',\n",
       " 'MSR',\n",
       " 'MTQ',\n",
       " 'NCL',\n",
       " 'NIU',\n",
       " 'PRI',\n",
       " 'PYF',\n",
       " 'REUNION',\n",
       " 'SABA',\n",
       " 'SERBIA AND MONTENEGRO',\n",
       " 'SINT EUSTATIUS',\n",
       " 'STATE OF PALESTINE',\n",
       " 'SXM',\n",
       " 'TAIWAN PROVINCE OF CHINA',\n",
       " 'TCA',\n",
       " 'UNITED STATES VIRGIN ISLANDS'}"
      ]
     },
     "execution_count": 149,
     "metadata": {},
     "output_type": "execute_result"
    }
   ],
   "source": [
    "trans_iso3_unique = set(arrivel_region_iso['iso3'].unique())\n",
    "off_iso3_unique = set(arrivel_region_off['iso3'].unique())\n",
    "\n",
    "missing_iso3 = trans_iso3_unique - off_iso3_unique\n",
    "missing_iso3"
   ]
  },
  {
   "attachments": {},
   "cell_type": "markdown",
   "metadata": {},
   "source": [
    "ABW: Aruba is a constituent country of the Kingdom of the Netherlands, which is a UN member state.  \n",
    "AIA: Anguilla is a British Overseas Territory, which is not a UN member state.  \n",
    "ASM: American Samoa is an unincorporated territory of the United States, which is a UN member state.  \n",
    "BMU: Bermuda is a British Overseas Territory, which is not a UN member state.  \n",
    "BONAIRE: Bonaire is a special municipality of the Netherlands, which is a UN member state.  \n",
    "BRITISH VIRGIN ISLANDS: The British Virgin Islands is a British Overseas Territory, which is not a UN member state.  \n",
    "COK: Cook Islands is a self-governing territory in free association with New Zealand, which is a UN member state.  \n",
    "CUW: Curaçao is a constituent country of the Kingdom of the Netherlands, which is a UN member state.  \n",
    "CYM: Cayman Islands is a British Overseas Territory, which is not a UN member state.  \n",
    "GLP: Guadeloupe is an overseas department and region of France, which is a UN member state.  \n",
    "GUF: French Guiana is an overseas department and region of France, which is a UN member state.  \n",
    "GUM: Guam is an unincorporated territory of the United States, which is a UN member state.  \n",
    "HONG KONG, CHINA: Hong Kong, China is a special administrative region of China, which is a UN member state.  \n",
    "MACAO, CHINA: Macao, China is a special administrative region of China, which is a UN member state.  \n",
    "MNP: Northern Mariana Islands is a commonwealth in political union with the United States, which is a UN member state.  \n",
    "MSR: Montserrat is a British Overseas Territory, which is not a UN member state.  \n",
    "MTQ: Martinique is an overseas department and region of France, which is a UN member state.  \n",
    "NCL: New Caledonia is a special collectivity of France, which is a UN member state.  \n",
    "NIU: Niue is a self-governing territory in free association with New Zealand, which is a UN member state.  \n",
    "PRI: Puerto Rico is an unincorporated territory of the United States, which is a UN member state.  \n",
    "PYF: French Polynesia is an overseas collectivity of France, which is a UN member state.  \n",
    "REUNION: Réunion is an overseas department and region of France, which is a UN member state.  \n",
    "SABA: Saba is a special municipality of the Netherlands, which is a UN member state.  \n",
    "SERBIA AND MONTENEGRO: Serbia and Montenegro was a former country, and it is not a current UN member state.  \n",
    "SINT EUSTATIUS: Sint Eustatius is a special municipality of the Netherlands, which is a UN member state.  \n",
    "STATE OF PALESTINE: The State of Palestine has observer status at the United Nations General Assembly.  \n",
    "SXM: Sint Maarten is a constituent country of the Kingdom of the Netherlands, which is a UN member state.  \n",
    "TAIWAN PROVINCE OF CHINA: Taiwan Province of China is not a UN member state.  \n",
    "TCA: Turks and Caicos Islands is a British Overseas Territory, which is not a UN member state.  \n",
    "UNITED STATES VIRGIN ISLANDS: The United States Virgin Islands is an unincorporated territory of the United States, which is a UN member state.  "
   ]
  },
  {
   "cell_type": "code",
   "execution_count": 151,
   "metadata": {},
   "outputs": [],
   "source": [
    "from transform_esg import per_null"
   ]
  },
  {
   "cell_type": "code",
   "execution_count": 152,
   "metadata": {},
   "outputs": [
    {
     "name": "stdout",
     "output_type": "stream",
     "text": [
      "ind\n",
      "iso3                                    0.000000\n",
      "year                                    0.000000\n",
      "africa                                 37.772021\n",
      "americas                               19.067358\n",
      "east_asia_and_the_pacific              25.181347\n",
      "europe                                 18.393782\n",
      "middle_east                            51.088083\n",
      "other_not_classified                   53.523316\n",
      "south_asia                             47.305699\n",
      "total                                  18.341969\n",
      "of_which,_nationals_residing_abroad    87.098446\n",
      "dtype: float64\n"
     ]
    }
   ],
   "source": [
    "per_null(arrivel_region_off)"
   ]
  },
  {
   "cell_type": "code",
   "execution_count": 153,
   "metadata": {},
   "outputs": [
    {
     "data": {
      "text/plain": [
       "Index(['iso3', 'year', 'africa', 'americas', 'east_asia_and_the_pacific',\n",
       "       'europe', 'middle_east', 'other_not_classified', 'south_asia', 'total',\n",
       "       'of_which,_nationals_residing_abroad'],\n",
       "      dtype='object', name='ind')"
      ]
     },
     "execution_count": 153,
     "metadata": {},
     "output_type": "execute_result"
    }
   ],
   "source": [
    "arrivel_region_off.columns"
   ]
  },
  {
   "cell_type": "code",
   "execution_count": 154,
   "metadata": {},
   "outputs": [],
   "source": [
    "col_lst = ['africa', 'americas', 'east_asia_and_the_pacific',\n",
    "       'europe', 'middle_east', 'other_not_classified', 'south_asia', 'total',\n",
    "       'of_which,_nationals_residing_abroad']"
   ]
  },
  {
   "cell_type": "code",
   "execution_count": 155,
   "metadata": {},
   "outputs": [],
   "source": [
    "from transform_esg import interpol"
   ]
  },
  {
   "cell_type": "code",
   "execution_count": 156,
   "metadata": {},
   "outputs": [],
   "source": [
    "arrival_regions_imp = interpol(arrivel_region_off, col_lst)"
   ]
  },
  {
   "cell_type": "code",
   "execution_count": 158,
   "metadata": {},
   "outputs": [
    {
     "name": "stdout",
     "output_type": "stream",
     "text": [
      "ind\n",
      "iso3                                    0.000000\n",
      "year                                    0.000000\n",
      "africa                                 28.497409\n",
      "americas                               13.989637\n",
      "east_asia_and_the_pacific              19.689119\n",
      "europe                                 13.471503\n",
      "middle_east                            40.414508\n",
      "other_not_classified                   38.860104\n",
      "south_asia                             36.787565\n",
      "total                                  13.471503\n",
      "of_which,_nationals_residing_abroad    84.455959\n",
      "dtype: float64\n"
     ]
    }
   ],
   "source": [
    "per_null(arrival_regions_imp)"
   ]
  },
  {
   "cell_type": "code",
   "execution_count": 159,
   "metadata": {},
   "outputs": [
    {
     "data": {
      "text/plain": [
       "193"
      ]
     },
     "execution_count": 159,
     "metadata": {},
     "output_type": "execute_result"
    }
   ],
   "source": [
    "arrivel_region_off['iso3'].nunique()"
   ]
  },
  {
   "cell_type": "code",
   "execution_count": 161,
   "metadata": {},
   "outputs": [],
   "source": [
    "import matplotlib.pyplot as plt"
   ]
  },
  {
   "cell_type": "code",
   "execution_count": 160,
   "metadata": {},
   "outputs": [],
   "source": [
    "country_lst = arrivel_region_off['iso3'].unique().tolist()"
   ]
  },
  {
   "cell_type": "code",
   "execution_count": 54,
   "metadata": {},
   "outputs": [],
   "source": [
    "# for i in country_lst:\n",
    "#     arrivel_region_trans[arrivel_region_trans['iso3'] == i].plot(x='year')\n",
    "#     plt.title(f\"{i}\")\n",
    "    "
   ]
  },
  {
   "cell_type": "code",
   "execution_count": 162,
   "metadata": {},
   "outputs": [
    {
     "name": "stderr",
     "output_type": "stream",
     "text": [
      "/var/folders/lq/66qmb5qs6yx8s8h1s8rmqnh80000gn/T/ipykernel_3538/3501797484.py:1: SettingWithCopyWarning: \n",
      "A value is trying to be set on a copy of a slice from a DataFrame.\n",
      "Try using .loc[row_indexer,col_indexer] = value instead\n",
      "\n",
      "See the caveats in the documentation: https://pandas.pydata.org/pandas-docs/stable/user_guide/indexing.html#returning-a-view-versus-a-copy\n",
      "  arrivel_region_off['year'] = pd.to_datetime(arrivel_region_off['year'], format='%Y', errors='coerce')\n"
     ]
    }
   ],
   "source": [
    "arrivel_region_off['year'] = pd.to_datetime(arrivel_region_off['year'], format='%Y', errors='coerce')"
   ]
  },
  {
   "cell_type": "code",
   "execution_count": 164,
   "metadata": {},
   "outputs": [
    {
     "name": "stdout",
     "output_type": "stream",
     "text": [
      "<class 'pandas.core.frame.DataFrame'>\n",
      "Int64Index: 1930 entries, 0 to 2229\n",
      "Data columns (total 11 columns):\n",
      " #   Column                               Non-Null Count  Dtype         \n",
      "---  ------                               --------------  -----         \n",
      " 0   iso3                                 1930 non-null   object        \n",
      " 1   year                                 1930 non-null   datetime64[ns]\n",
      " 2   africa                               1380 non-null   float64       \n",
      " 3   americas                             1660 non-null   float64       \n",
      " 4   east_asia_and_the_pacific            1550 non-null   float64       \n",
      " 5   europe                               1670 non-null   float64       \n",
      " 6   middle_east                          1150 non-null   float64       \n",
      " 7   other_not_classified                 1180 non-null   float64       \n",
      " 8   south_asia                           1220 non-null   float64       \n",
      " 9   total                                1670 non-null   float64       \n",
      " 10  of_which,_nationals_residing_abroad  300 non-null    float64       \n",
      "dtypes: datetime64[ns](1), float64(9), object(1)\n",
      "memory usage: 180.9+ KB\n"
     ]
    }
   ],
   "source": [
    "arrivel_region_off.info()"
   ]
  },
  {
   "cell_type": "code",
   "execution_count": 163,
   "metadata": {},
   "outputs": [],
   "source": [
    "arrivel_region_off.to_csv('data/arrival_regions.csv')"
   ]
  },
  {
   "cell_type": "code",
   "execution_count": 165,
   "metadata": {},
   "outputs": [],
   "source": [
    "from sql_functions import get_engine\n",
    "import psycopg2"
   ]
  },
  {
   "cell_type": "code",
   "execution_count": 166,
   "metadata": {},
   "outputs": [],
   "source": [
    "schema = 'capstone_travel_index'\n",
    "engine = get_engine()"
   ]
  },
  {
   "cell_type": "code",
   "execution_count": 167,
   "metadata": {},
   "outputs": [
    {
     "name": "stdout",
     "output_type": "stream",
     "text": [
      "The arrival_regions table was imported successfully.\n"
     ]
    }
   ],
   "source": [
    "# table_name = 'arrival_regions'\n",
    "\n",
    "# if engine!=None:\n",
    "#     try:\n",
    "#         arrivel_region_off.to_sql(name=table_name, # Name of SQL table\n",
    "#                         con=engine, # Engine or connection\n",
    "#                         if_exists='replace', # Drop the table before inserting new values \n",
    "#                         schema=schema, # Use schmea that was defined earlier\n",
    "#                         index=False, # Write DataFrame index as a column\n",
    "#                         chunksize=5000, # Specify the number of rows in each batch to be written at a time\n",
    "#                         method='multi') # Pass multiple values in a single INSERT clause\n",
    "#         print(f\"The {table_name} table was imported successfully.\")\n",
    "#     # Error handling\n",
    "#     except (Exception, psycopg2.DatabaseError) as error:\n",
    "#         print(error)\n",
    "#         engine = None"
   ]
  }
 ],
 "metadata": {
  "kernelspec": {
   "display_name": "nf_muesli",
   "language": "python",
   "name": "python3"
  },
  "language_info": {
   "codemirror_mode": {
    "name": "ipython",
    "version": 3
   },
   "file_extension": ".py",
   "mimetype": "text/x-python",
   "name": "python",
   "nbconvert_exporter": "python",
   "pygments_lexer": "ipython3",
   "version": "3.9.16"
  },
  "orig_nbformat": 4
 },
 "nbformat": 4,
 "nbformat_minor": 2
}
