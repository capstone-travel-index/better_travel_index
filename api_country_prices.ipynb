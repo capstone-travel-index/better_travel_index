{
 "cells": [
  {
   "attachments": {},
   "cell_type": "markdown",
   "metadata": {},
   "source": [
    "# API Country prices from numbeo.com"
   ]
  },
  {
   "cell_type": "code",
   "execution_count": null,
   "metadata": {},
   "outputs": [],
   "source": [
    "# import libraries\n",
    "import requests\n",
    "import os\n",
    "import pandas as pd\n",
    "import json\n",
    "import sql_functions as sf"
   ]
  },
  {
   "cell_type": "code",
   "execution_count": null,
   "metadata": {},
   "outputs": [],
   "source": [
    "# To be able to pull the API key from the .env, we need to import load_dotenv\n",
    "\n",
    "from dotenv import load_dotenv\n",
    "load_dotenv()"
   ]
  },
  {
   "cell_type": "code",
   "execution_count": null,
   "metadata": {},
   "outputs": [],
   "source": [
    "#Get data for the 7 items per city, example for London\n",
    "\n",
    "url = 'https://www.numbeo.com/api/city_prices'\n",
    "api_key = 'zlueew978sczoi'\n",
    "query = \"London, United Kingdom\"\n",
    "\n",
    "# Send the HTTP GET request\n",
    "response = requests.get(url, params={\"api_key\": api_key, \"query\": query})\n",
    "\n",
    "# Check if the request was successful\n",
    "if response.status_code == 200:\n",
    "    # Parse the JSON response\n",
    "    data = response.json()\n",
    "    \n",
    "    # Access the \"prices\" list from the response\n",
    "    prices = data.get(\"prices\", [])\n",
    "    \n",
    "    # Initialize a list to store the desired items\n",
    "    desired_items = []\n",
    "    \n",
    "    # Iterate over the prices and check if the item_id matches the desired values\n",
    "    for price in prices:\n",
    "        item_id = price.get(\"item_id\")\n",
    "        if item_id in [1, 3, 4, 7, 13, 18, 78, 108]:\n",
    "            desired_items.append(price)\n",
    "    \n",
    "    # Print the desired items\n",
    "    for item in desired_items:\n",
    "        print(\"Item ID:\", item.get(\"item_id\"))\n",
    "        print(\"Item Name:\", item.get(\"item_name\"))\n",
    "        print(\"Lowest Price:\", item.get(\"lowest_price\"))\n",
    "        print(\"Average Price:\", item.get(\"average_price\"))\n",
    "        print(\"Highest Price:\", item.get(\"highest_price\"))\n",
    "        print()\n",
    "else:\n",
    "    print(\"Request failed with status code:\", response.status_code)"
   ]
  },
  {
   "cell_type": "code",
   "execution_count": null,
   "metadata": {},
   "outputs": [],
   "source": [
    "#import pycountry library to create a list for all countries according to ISO 3166 \n",
    "import pycountry\n",
    "\n",
    "# Get all ISO 3166 countries\n",
    "countries = list(pycountry.countries)\n",
    "\n",
    "# Create a list of country names\n",
    "country_list = [(country.name) for country in countries]\n"
   ]
  },
  {
   "cell_type": "code",
   "execution_count": null,
   "metadata": {},
   "outputs": [],
   "source": [
    "# #API download from www.numbeo.com \n",
    "url = 'https://www.numbeo.com/api/city_prices'\n",
    "api_key = 'zlueew978sczoi'\n",
    "#country_list ' don`t need, we take the values for countries from country_list in cell above \n",
    "desired_item_ids = [1, 3, 4, 7, 13, 18, 78, 108]\n",
    "currency = \"EUR\"\n",
    "\n",
    "data_list = []\n",
    "\n",
    "for country in country_list:\n",
    "    # Send the HTTP GET request for each country with currency parameter\n",
    "    response = requests.get(url, params={\"api_key\": api_key, \"query\": country, \"currency\": currency})\n",
    "    \n",
    "    # Check if the request was successful\n",
    "    if response.status_code == 200:\n",
    "        # Parse the JSON response\n",
    "        data = response.json()\n",
    "        \n",
    "        # Access the \"prices\" list from the response\n",
    "        prices = data.get(\"prices\", [])\n",
    "        \n",
    "        # Access the country's land information\n",
    "        land = country\n",
    "        \n",
    "        # Initialize a list to store the desired items for the country\n",
    "        desired_items = []\n",
    "        \n",
    "        # Iterate over the prices and check if the item_id matches the desired values\n",
    "        for price in prices:\n",
    "            item_id = price.get(\"item_id\")\n",
    "            if item_id in desired_item_ids:\n",
    "                desired_items.append(price)\n",
    "        \n",
    "        # Add the desired items, land information, and currency to the data list\n",
    "        for item in desired_items:\n",
    "            item[\"land\"] = land\n",
    "            item[\"currency\"] = currency\n",
    "        data_list.extend(desired_items)\n",
    "    else:\n",
    "        print(f\"Request for {country} failed with status code:\", response.status_code)\n",
    "\n",
    "# Create a DataFrame from the data list\n",
    "df = pd.DataFrame(data_list)\n",
    "\n",
    "# Print the DataFrame\n",
    "df"
   ]
  },
  {
   "cell_type": "code",
   "execution_count": null,
   "metadata": {},
   "outputs": [],
   "source": [
    "#Output is DataFrame with 742 rows × 8 columns"
   ]
  },
  {
   "cell_type": "code",
   "execution_count": null,
   "metadata": {},
   "outputs": [],
   "source": [
    "#Drop column data_points\n",
    "df = df.drop(\"data_points\", axis=1)"
   ]
  },
  {
   "cell_type": "code",
   "execution_count": null,
   "metadata": {},
   "outputs": [],
   "source": [
    "#Drop columns lowest_price and highest price, rename df in df_clean\n",
    "df_clean = df.drop([\"lowest_price\",\"highest_price\"], axis=1)"
   ]
  },
  {
   "cell_type": "code",
   "execution_count": null,
   "metadata": {},
   "outputs": [],
   "source": [
    "#Output is df_clean DataFrame with 742 rows and 5 columns"
   ]
  },
  {
   "cell_type": "code",
   "execution_count": null,
   "metadata": {},
   "outputs": [],
   "source": [
    "#Read the csv file worldcities from data folder for add column with iso3 code to df_clean\n",
    "df_iso = pd.read_csv('data/worldcities.csv')\n",
    "iso3_map = dict(zip(df_iso['country'], df_iso['iso3']))"
   ]
  },
  {
   "cell_type": "code",
   "execution_count": null,
   "metadata": {},
   "outputs": [],
   "source": [
    "#Insert the values in df_clean column iso3\n",
    "df_clean['iso3'] = df_clean['land'].map(iso3_map)"
   ]
  },
  {
   "cell_type": "code",
   "execution_count": null,
   "metadata": {},
   "outputs": [],
   "source": [
    "#Dataframe df_clean with 742 rows and 6 columns\n",
    "df_clean"
   ]
  },
  {
   "cell_type": "code",
   "execution_count": null,
   "metadata": {},
   "outputs": [],
   "source": [
    "#Rename column average_price to price_avg_eur\n",
    "df_clean.rename(columns ={\"average_price\" : \"price_avg_eur\"}, inplace=True)"
   ]
  },
  {
   "cell_type": "code",
   "execution_count": null,
   "metadata": {},
   "outputs": [],
   "source": [
    "#Drop columns land and currency\n",
    "df_clean.drop(['land', 'currency'], axis = 1, inplace=True)"
   ]
  },
  {
   "cell_type": "code",
   "execution_count": null,
   "metadata": {},
   "outputs": [],
   "source": [
    "#Output is Dataframe with 742 rows and 4 columns\n",
    "df_clean.head()"
   ]
  },
  {
   "cell_type": "code",
   "execution_count": null,
   "metadata": {},
   "outputs": [],
   "source": [
    "#Info about df_clean\n",
    "df_clean.info()"
   ]
  },
  {
   "attachments": {},
   "cell_type": "markdown",
   "metadata": {},
   "source": [
    "## Push the DateFrame df_clean to sql"
   ]
  },
  {
   "cell_type": "code",
   "execution_count": null,
   "metadata": {},
   "outputs": [],
   "source": [
    "#Define schema for DBeaver\n",
    "schema = 'capstone_travel_index'\n",
    "engine = sf.get_engine()"
   ]
  },
  {
   "cell_type": "code",
   "execution_count": null,
   "metadata": {},
   "outputs": [],
   "source": [
    "#Import dataset as table to DBeaver, rename df_clean to country_avg_price\n",
    "table_name = 'country_avg_price'\n",
    "if engine!=None:\n",
    "    try:\n",
    "        df_clean.to_sql(name=table_name, # Name of SQL table\n",
    "                        con=engine, # Engine or connection\n",
    "                        if_exists='replace', # Drop the table before inserting new values \n",
    "                        schema=schema, # Use schmea that was defined earlier\n",
    "                        index=False, # Write DataFrame index as a column\n",
    "                        chunksize=5000, # Specify the number of rows in each batch to be written at a time\n",
    "                        method='multi') # Pass multiple values in a single INSERT clause\n",
    "        print(f\"The {table_name} table was imported successfully.\")\n",
    "    # Error handling\n",
    "    except (Exception, psycopg2.DatabaseError) as error:\n",
    "        print(error)\n",
    "        engine = None"
   ]
  },
  {
   "cell_type": "code",
   "execution_count": null,
   "metadata": {},
   "outputs": [],
   "source": [
    "#The country_avg_price table was imported successfully."
   ]
  }
 ],
 "metadata": {
  "language_info": {
   "name": "python"
  },
  "orig_nbformat": 4
 },
 "nbformat": 4,
 "nbformat_minor": 2
}
