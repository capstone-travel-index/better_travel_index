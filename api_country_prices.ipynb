{
 "cells": [
  {
   "attachments": {},
   "cell_type": "markdown",
   "metadata": {},
   "source": [
    "# API Country prices from numbeo.com"
   ]
  },
  {
   "cell_type": "code",
   "execution_count": 4,
   "metadata": {},
   "outputs": [],
   "source": [
    "# import libraries\n",
    "import requests\n",
    "import os\n",
    "import pandas as pd\n",
    "import json\n",
    "import sql_functions as sf"
   ]
  },
  {
   "cell_type": "code",
   "execution_count": 5,
   "metadata": {},
   "outputs": [
    {
     "data": {
      "text/plain": [
       "True"
      ]
     },
     "execution_count": 5,
     "metadata": {},
     "output_type": "execute_result"
    }
   ],
   "source": [
    "# To be able to pull the API key from the .env, we need to import load_dotenv\n",
    "\n",
    "from dotenv import load_dotenv\n",
    "load_dotenv()"
   ]
  },
  {
   "cell_type": "code",
   "execution_count": 6,
   "metadata": {},
   "outputs": [
    {
     "name": "stdout",
     "output_type": "stream",
     "text": [
      "Item ID: 1\n",
      "Item Name: Meal, Inexpensive Restaurant, Restaurants\n",
      "Lowest Price: 10\n",
      "Average Price: 19.404525\n",
      "Highest Price: 30\n",
      "\n",
      "Item ID: 3\n",
      "Item Name: McMeal at McDonalds (or Equivalent Combo Meal), Restaurants\n",
      "Lowest Price: 6.5\n",
      "Average Price: 8\n",
      "Highest Price: 10\n",
      "\n",
      "Item ID: 4\n",
      "Item Name: Domestic Beer (0.5 liter draught), Restaurants\n",
      "Lowest Price: 4\n",
      "Average Price: 6\n",
      "Highest Price: 7.5\n",
      "\n",
      "Item ID: 7\n",
      "Item Name: Water (0.33 liter bottle) , Restaurants\n",
      "Lowest Price: 1\n",
      "Average Price: 1.4808450279326137\n",
      "Highest Price: 3\n",
      "\n",
      "Item ID: 13\n",
      "Item Name: Water (1.5 liter bottle), Markets\n",
      "Lowest Price: 0.6\n",
      "Average Price: 1.1190384615384614\n",
      "Highest Price: 2\n",
      "\n",
      "Item ID: 18\n",
      "Item Name: One-way Ticket (Local Transport), Transportation\n",
      "Lowest Price: 1.7\n",
      "Average Price: 2.8\n",
      "Highest Price: 5\n",
      "\n",
      "Item ID: 108\n",
      "Item Name: Taxi 1km (Normal Tariff), Transportation\n",
      "Lowest Price: 1.1\n",
      "Average Price: 1.797591068161934\n",
      "Highest Price: 3\n",
      "\n"
     ]
    }
   ],
   "source": [
    "#Get data for the 7 items per city, example for London\n",
    "\n",
    "url = 'https://www.numbeo.com/api/city_prices'\n",
    "api_key = 'zlueew978sczoi'\n",
    "query = \"London, United Kingdom\"\n",
    "\n",
    "# Send the HTTP GET request\n",
    "response = requests.get(url, params={\"api_key\": api_key, \"query\": query})\n",
    "\n",
    "# Check if the request was successful\n",
    "if response.status_code == 200:\n",
    "    # Parse the JSON response\n",
    "    data = response.json()\n",
    "    \n",
    "    # Access the \"prices\" list from the response\n",
    "    prices = data.get(\"prices\", [])\n",
    "    \n",
    "    # Initialize a list to store the desired items\n",
    "    desired_items = []\n",
    "    \n",
    "    # Iterate over the prices and check if the item_id matches the desired values\n",
    "    for price in prices:\n",
    "        item_id = price.get(\"item_id\")\n",
    "        if item_id in [1, 3, 4, 7, 13, 18, 78, 108]:\n",
    "            desired_items.append(price)\n",
    "    \n",
    "    # Print the desired items\n",
    "    for item in desired_items:\n",
    "        print(\"Item ID:\", item.get(\"item_id\"))\n",
    "        print(\"Item Name:\", item.get(\"item_name\"))\n",
    "        print(\"Lowest Price:\", item.get(\"lowest_price\"))\n",
    "        print(\"Average Price:\", item.get(\"average_price\"))\n",
    "        print(\"Highest Price:\", item.get(\"highest_price\"))\n",
    "        print()\n",
    "else:\n",
    "    print(\"Request failed with status code:\", response.status_code)"
   ]
  },
  {
   "cell_type": "code",
   "execution_count": 7,
   "metadata": {},
   "outputs": [],
   "source": [
    "#import pycountry library to create a list for all countries according to ISO 3166 \n",
    "import pycountry\n",
    "\n",
    "# Get all ISO 3166 countries\n",
    "countries = list(pycountry.countries)\n",
    "\n",
    "# Create a list of country names\n",
    "country_list = [(country.name) for country in countries]\n"
   ]
  },
  {
   "cell_type": "code",
   "execution_count": 8,
   "metadata": {},
   "outputs": [
    {
     "data": {
      "text/html": [
       "<div>\n",
       "<style scoped>\n",
       "    .dataframe tbody tr th:only-of-type {\n",
       "        vertical-align: middle;\n",
       "    }\n",
       "\n",
       "    .dataframe tbody tr th {\n",
       "        vertical-align: top;\n",
       "    }\n",
       "\n",
       "    .dataframe thead th {\n",
       "        text-align: right;\n",
       "    }\n",
       "</style>\n",
       "<table border=\"1\" class=\"dataframe\">\n",
       "  <thead>\n",
       "    <tr style=\"text-align: right;\">\n",
       "      <th></th>\n",
       "      <th>data_points</th>\n",
       "      <th>item_id</th>\n",
       "      <th>lowest_price</th>\n",
       "      <th>average_price</th>\n",
       "      <th>highest_price</th>\n",
       "      <th>item_name</th>\n",
       "      <th>land</th>\n",
       "      <th>currency</th>\n",
       "    </tr>\n",
       "  </thead>\n",
       "  <tbody>\n",
       "    <tr>\n",
       "      <th>0</th>\n",
       "      <td>0</td>\n",
       "      <td>1</td>\n",
       "      <td>17.454597</td>\n",
       "      <td>18.373260</td>\n",
       "      <td>22.966575</td>\n",
       "      <td>Meal, Inexpensive Restaurant, Restaurants</td>\n",
       "      <td>Aruba</td>\n",
       "      <td>EUR</td>\n",
       "    </tr>\n",
       "    <tr>\n",
       "      <th>1</th>\n",
       "      <td>0</td>\n",
       "      <td>2</td>\n",
       "      <td>61.244200</td>\n",
       "      <td>64.306410</td>\n",
       "      <td>101.052930</td>\n",
       "      <td>Meal for 2 People, Mid-range Restaurant, Three...</td>\n",
       "      <td>Aruba</td>\n",
       "      <td>EUR</td>\n",
       "    </tr>\n",
       "    <tr>\n",
       "      <th>2</th>\n",
       "      <td>0</td>\n",
       "      <td>3</td>\n",
       "      <td>9.186630</td>\n",
       "      <td>9.186630</td>\n",
       "      <td>9.186630</td>\n",
       "      <td>McMeal at McDonalds (or Equivalent Combo Meal)...</td>\n",
       "      <td>Aruba</td>\n",
       "      <td>EUR</td>\n",
       "    </tr>\n",
       "    <tr>\n",
       "      <th>3</th>\n",
       "      <td>0</td>\n",
       "      <td>4</td>\n",
       "      <td>2.755989</td>\n",
       "      <td>4.746425</td>\n",
       "      <td>6.430641</td>\n",
       "      <td>Domestic Beer (0.5 liter draught), Restaurants</td>\n",
       "      <td>Aruba</td>\n",
       "      <td>EUR</td>\n",
       "    </tr>\n",
       "    <tr>\n",
       "      <th>4</th>\n",
       "      <td>0</td>\n",
       "      <td>7</td>\n",
       "      <td>0.918663</td>\n",
       "      <td>1.258909</td>\n",
       "      <td>1.837326</td>\n",
       "      <td>Water (0.33 liter bottle) , Restaurants</td>\n",
       "      <td>Aruba</td>\n",
       "      <td>EUR</td>\n",
       "    </tr>\n",
       "    <tr>\n",
       "      <th>...</th>\n",
       "      <td>...</td>\n",
       "      <td>...</td>\n",
       "      <td>...</td>\n",
       "      <td>...</td>\n",
       "      <td>...</td>\n",
       "      <td>...</td>\n",
       "      <td>...</td>\n",
       "      <td>...</td>\n",
       "    </tr>\n",
       "    <tr>\n",
       "      <th>848</th>\n",
       "      <td>63</td>\n",
       "      <td>4</td>\n",
       "      <td>7.503169</td>\n",
       "      <td>11.754965</td>\n",
       "      <td>15.006338</td>\n",
       "      <td>Domestic Beer (0.5 liter draught), Restaurants</td>\n",
       "      <td>Zimbabwe</td>\n",
       "      <td>EUR</td>\n",
       "    </tr>\n",
       "    <tr>\n",
       "      <th>849</th>\n",
       "      <td>81</td>\n",
       "      <td>7</td>\n",
       "      <td>0.250106</td>\n",
       "      <td>0.579207</td>\n",
       "      <td>1.384227</td>\n",
       "      <td>Water (0.33 liter bottle) , Restaurants</td>\n",
       "      <td>Zimbabwe</td>\n",
       "      <td>EUR</td>\n",
       "    </tr>\n",
       "    <tr>\n",
       "      <th>850</th>\n",
       "      <td>101</td>\n",
       "      <td>13</td>\n",
       "      <td>0.375158</td>\n",
       "      <td>0.541896</td>\n",
       "      <td>1.000423</td>\n",
       "      <td>Water (1.5 liter bottle), Markets</td>\n",
       "      <td>Zimbabwe</td>\n",
       "      <td>EUR</td>\n",
       "    </tr>\n",
       "    <tr>\n",
       "      <th>851</th>\n",
       "      <td>51</td>\n",
       "      <td>18</td>\n",
       "      <td>1.125475</td>\n",
       "      <td>1.500634</td>\n",
       "      <td>2.501056</td>\n",
       "      <td>One-way Ticket (Local Transport), Transportation</td>\n",
       "      <td>Zimbabwe</td>\n",
       "      <td>EUR</td>\n",
       "    </tr>\n",
       "    <tr>\n",
       "      <th>852</th>\n",
       "      <td>36</td>\n",
       "      <td>108</td>\n",
       "      <td>0.492708</td>\n",
       "      <td>0.750317</td>\n",
       "      <td>1.500634</td>\n",
       "      <td>Taxi 1km (Normal Tariff), Transportation</td>\n",
       "      <td>Zimbabwe</td>\n",
       "      <td>EUR</td>\n",
       "    </tr>\n",
       "  </tbody>\n",
       "</table>\n",
       "<p>853 rows × 8 columns</p>\n",
       "</div>"
      ],
      "text/plain": [
       "     data_points  item_id  lowest_price  average_price  highest_price  \\\n",
       "0              0        1     17.454597      18.373260      22.966575   \n",
       "1              0        2     61.244200      64.306410     101.052930   \n",
       "2              0        3      9.186630       9.186630       9.186630   \n",
       "3              0        4      2.755989       4.746425       6.430641   \n",
       "4              0        7      0.918663       1.258909       1.837326   \n",
       "..           ...      ...           ...            ...            ...   \n",
       "848           63        4      7.503169      11.754965      15.006338   \n",
       "849           81        7      0.250106       0.579207       1.384227   \n",
       "850          101       13      0.375158       0.541896       1.000423   \n",
       "851           51       18      1.125475       1.500634       2.501056   \n",
       "852           36      108      0.492708       0.750317       1.500634   \n",
       "\n",
       "                                             item_name      land currency  \n",
       "0            Meal, Inexpensive Restaurant, Restaurants     Aruba      EUR  \n",
       "1    Meal for 2 People, Mid-range Restaurant, Three...     Aruba      EUR  \n",
       "2    McMeal at McDonalds (or Equivalent Combo Meal)...     Aruba      EUR  \n",
       "3       Domestic Beer (0.5 liter draught), Restaurants     Aruba      EUR  \n",
       "4              Water (0.33 liter bottle) , Restaurants     Aruba      EUR  \n",
       "..                                                 ...       ...      ...  \n",
       "848     Domestic Beer (0.5 liter draught), Restaurants  Zimbabwe      EUR  \n",
       "849            Water (0.33 liter bottle) , Restaurants  Zimbabwe      EUR  \n",
       "850                  Water (1.5 liter bottle), Markets  Zimbabwe      EUR  \n",
       "851   One-way Ticket (Local Transport), Transportation  Zimbabwe      EUR  \n",
       "852           Taxi 1km (Normal Tariff), Transportation  Zimbabwe      EUR  \n",
       "\n",
       "[853 rows x 8 columns]"
      ]
     },
     "execution_count": 8,
     "metadata": {},
     "output_type": "execute_result"
    }
   ],
   "source": [
    "# #API download from www.numbeo.com \n",
    "url = 'https://www.numbeo.com/api/city_prices'\n",
    "api_key = 'zlueew978sczoi'\n",
    "#country_list ' don`t need, we take the values for countries from country_list in cell above \n",
    "desired_item_ids = [1, 2, 3, 4, 7, 13, 18, 78, 108]\n",
    "currency = \"EUR\"\n",
    "\n",
    "data_list = []\n",
    "\n",
    "for country in country_list:\n",
    "    # Send the HTTP GET request for each country with currency parameter\n",
    "    response = requests.get(url, params={\"api_key\": api_key, \"query\": country, \"currency\": currency})\n",
    "    \n",
    "    # Check if the request was successful\n",
    "    if response.status_code == 200:\n",
    "        # Parse the JSON response\n",
    "        data = response.json()\n",
    "        \n",
    "        # Access the \"prices\" list from the response\n",
    "        prices = data.get(\"prices\", [])\n",
    "        \n",
    "        # Access the country's land information\n",
    "        land = country\n",
    "        \n",
    "        # Initialize a list to store the desired items for the country\n",
    "        desired_items = []\n",
    "        \n",
    "        # Iterate over the prices and check if the item_id matches the desired values\n",
    "        for price in prices:\n",
    "            item_id = price.get(\"item_id\")\n",
    "            if item_id in desired_item_ids:\n",
    "                desired_items.append(price)\n",
    "        \n",
    "        # Add the desired items, land information, and currency to the data list\n",
    "        for item in desired_items:\n",
    "            item[\"land\"] = land\n",
    "            item[\"currency\"] = currency\n",
    "        data_list.extend(desired_items)\n",
    "    else:\n",
    "        print(f\"Request for {country} failed with status code:\", response.status_code)\n",
    "\n",
    "# Create a DataFrame from the data list\n",
    "df = pd.DataFrame(data_list)\n",
    "\n",
    "# Print the DataFrame\n",
    "df"
   ]
  },
  {
   "cell_type": "code",
   "execution_count": null,
   "metadata": {},
   "outputs": [],
   "source": [
    "#Output is DataFrame with 742 rows × 8 columns"
   ]
  },
  {
   "cell_type": "code",
   "execution_count": 9,
   "metadata": {},
   "outputs": [],
   "source": [
    "#Drop column data_points\n",
    "df = df.drop(\"data_points\", axis=1)"
   ]
  },
  {
   "cell_type": "code",
   "execution_count": null,
   "metadata": {},
   "outputs": [],
   "source": [
    "#Drop columns lowest_price and highest price, rename df in df_clean\n",
    "df_clean = df.drop([\"lowest_price\",\"highest_price\"], axis=1)"
   ]
  },
  {
   "cell_type": "code",
   "execution_count": null,
   "metadata": {},
   "outputs": [],
   "source": [
    "#Output is df_clean DataFrame with 742 rows and 5 columns"
   ]
  },
  {
   "cell_type": "code",
   "execution_count": null,
   "metadata": {},
   "outputs": [],
   "source": [
    "#Read the csv file worldcities from data folder for add column with iso3 code to df_clean\n",
    "df_iso = pd.read_csv('data/worldcities.csv')\n",
    "iso3_map = dict(zip(df_iso['country'], df_iso['iso3']))"
   ]
  },
  {
   "cell_type": "code",
   "execution_count": null,
   "metadata": {},
   "outputs": [],
   "source": [
    "#Insert the values in df_clean column iso3\n",
    "df_clean['iso3'] = df_clean['land'].map(iso3_map)"
   ]
  },
  {
   "cell_type": "code",
   "execution_count": null,
   "metadata": {},
   "outputs": [],
   "source": [
    "#Dataframe df_clean with 742 rows and 6 columns\n",
    "df_clean"
   ]
  },
  {
   "cell_type": "code",
   "execution_count": null,
   "metadata": {},
   "outputs": [],
   "source": [
    "#Rename column average_price to price_avg_eur\n",
    "df_clean.rename(columns ={\"average_price\" : \"price_avg_eur\"}, inplace=True)"
   ]
  },
  {
   "cell_type": "code",
   "execution_count": null,
   "metadata": {},
   "outputs": [],
   "source": [
    "#Drop columns land and currency\n",
    "df_clean.drop(['land', 'currency'], axis = 1, inplace=True)"
   ]
  },
  {
   "cell_type": "code",
   "execution_count": null,
   "metadata": {},
   "outputs": [],
   "source": [
    "#Output is Dataframe with 742 rows and 4 columns\n",
    "df_clean.head()"
   ]
  },
  {
   "cell_type": "code",
   "execution_count": null,
   "metadata": {},
   "outputs": [],
   "source": [
    "#Info about df_clean\n",
    "df_clean.info()"
   ]
  },
  {
   "attachments": {},
   "cell_type": "markdown",
   "metadata": {},
   "source": [
    "## Push the DataFrame df_clean to sql"
   ]
  },
  {
   "cell_type": "code",
   "execution_count": null,
   "metadata": {},
   "outputs": [],
   "source": [
    "#Define schema for DBeaver\n",
    "schema = 'capstone_travel_index'\n",
    "engine = sf.get_engine()"
   ]
  },
  {
   "cell_type": "code",
   "execution_count": null,
   "metadata": {},
   "outputs": [],
   "source": [
    "#Import dataset as table to DBeaver, rename df_clean to country_avg_price\n",
    "table_name = 'country_avg_price'\n",
    "if engine!=None:\n",
    "    try:\n",
    "        df_clean.to_sql(name=table_name, # Name of SQL table\n",
    "                        con=engine, # Engine or connection\n",
    "                        if_exists='replace', # Drop the table before inserting new values \n",
    "                        schema=schema, # Use schmea that was defined earlier\n",
    "                        index=False, # Write DataFrame index as a column\n",
    "                        chunksize=5000, # Specify the number of rows in each batch to be written at a time\n",
    "                        method='multi') # Pass multiple values in a single INSERT clause\n",
    "        print(f\"The {table_name} table was imported successfully.\")\n",
    "    # Error handling\n",
    "    except (Exception, psycopg2.DatabaseError) as error:\n",
    "        print(error)\n",
    "        engine = None"
   ]
  },
  {
   "cell_type": "code",
   "execution_count": null,
   "metadata": {},
   "outputs": [],
   "source": [
    "#The country_avg_price table was imported successfully."
   ]
  }
 ],
 "metadata": {
  "kernelspec": {
   "display_name": "nf_sql",
   "language": "python",
   "name": "python3"
  },
  "language_info": {
   "codemirror_mode": {
    "name": "ipython",
    "version": 3
   },
   "file_extension": ".py",
   "mimetype": "text/x-python",
   "name": "python",
   "nbconvert_exporter": "python",
   "pygments_lexer": "ipython3",
   "version": "3.9.16"
  },
  "orig_nbformat": 4
 },
 "nbformat": 4,
 "nbformat_minor": 2
}
