{
 "cells": [
  {
   "attachments": {},
   "cell_type": "markdown",
   "metadata": {},
   "source": [
    "# API City prices for 1 bedroom apartment in city centre from numbeo.com"
   ]
  },
  {
   "cell_type": "code",
   "execution_count": 1,
   "metadata": {},
   "outputs": [],
   "source": [
    "# import libraries\n",
    "import requests\n",
    "import os\n",
    "import pandas as pd\n",
    "import json\n",
    "import sql_functions as sf"
   ]
  },
  {
   "cell_type": "code",
   "execution_count": 12,
   "metadata": {},
   "outputs": [
    {
     "data": {
      "text/plain": [
       "True"
      ]
     },
     "execution_count": 12,
     "metadata": {},
     "output_type": "execute_result"
    }
   ],
   "source": [
    "# To be able to pull the API key from the .env, we need to import load_dotenv\n",
    "\n",
    "from dotenv import load_dotenv\n",
    "load_dotenv()"
   ]
  },
  {
   "attachments": {},
   "cell_type": "markdown",
   "metadata": {},
   "source": [
    "Info from API numbeo.com\n",
    "\n",
    "yearLastUpdate': 2023\n",
    "\n",
    "'item_id': 26, 'item_name': 'Apartment (1 bedroom) in City Centre, Rent Per Month'\n"
   ]
  },
  {
   "cell_type": "code",
   "execution_count": 14,
   "metadata": {},
   "outputs": [],
   "source": [
    "#Load city list from data/cities_numbeo excel file\n",
    "city_list = pd.read_excel('data/Cities_numbeo_2.xlsx')\n"
   ]
  },
  {
   "cell_type": "code",
   "execution_count": 93,
   "metadata": {},
   "outputs": [
    {
     "name": "stdout",
     "output_type": "stream",
     "text": [
      "<class 'pandas.core.frame.DataFrame'>\n",
      "RangeIndex: 554 entries, 0 to 553\n",
      "Data columns (total 2 columns):\n",
      " #   Column   Non-Null Count  Dtype \n",
      "---  ------   --------------  ----- \n",
      " 0   city     554 non-null    object\n",
      " 1   country  554 non-null    object\n",
      "dtypes: object(2)\n",
      "memory usage: 8.8+ KB\n"
     ]
    }
   ],
   "source": [
    "city_list.info()"
   ]
  },
  {
   "cell_type": "code",
   "execution_count": 68,
   "metadata": {},
   "outputs": [],
   "source": [
    "city_list.to_csv('data/Cities_numbeo_new.csv')"
   ]
  },
  {
   "cell_type": "code",
   "execution_count": 95,
   "metadata": {},
   "outputs": [],
   "source": [
    "# Make a city list for API query\n",
    "city = list(city_list['city'])"
   ]
  },
  {
   "cell_type": "code",
   "execution_count": 97,
   "metadata": {},
   "outputs": [],
   "source": [
    "# Make a country list for API query\n",
    "country = list(city_list['country'])"
   ]
  },
  {
   "cell_type": "code",
   "execution_count": 73,
   "metadata": {},
   "outputs": [],
   "source": [
    "#Create a dictionary city, country for API query\n",
    "city_count_dict = dict(zip(city, country))"
   ]
  },
  {
   "cell_type": "code",
   "execution_count": null,
   "metadata": {},
   "outputs": [],
   "source": [
    "# #API download from www.numbeo.com \n",
    "url = 'https://www.numbeo.com/api/city_prices'\n",
    "api_key = os.getenv('numbeo_api_key') # extract the value for the api key\n",
    "#country_list ' don`t need, we take the values for countries from country_list in cell above \n",
    "desired_item_ids = [26]\n",
    "currency = \"EUR\"\n",
    "\n",
    "data_list = []\n",
    "\n",
    "for city in city:\n",
    "    # Send the HTTP GET request for each country with currency parameter\n",
    "    response = requests.get(url, params={\"api_key\": api_key, \"query\": city, \"currency\": currency})\n",
    "    \n",
    "    # Check if the request was successful\n",
    "    if response.status_code == 200:\n",
    "        # Parse the JSON response\n",
    "        data = response.json()\n",
    "        \n",
    "        # Access the \"prices\" list from the response\n",
    "        prices = data.get(\"prices\", [])\n",
    "        \n",
    "        # Access the country's land information\n",
    "        city = city\n",
    "        \n",
    "        # Initialize a list to store the desired items for the country\n",
    "        desired_items = []\n",
    "        \n",
    "        # Iterate over the prices and check if the item_id matches the desired values\n",
    "        for price in prices:\n",
    "            item_id = price.get(\"item_id\")\n",
    "            if item_id in desired_item_ids:\n",
    "                desired_items.append(price)\n",
    "        \n",
    "        # Add the desired items, land information, and currency to the data list\n",
    "        for item in desired_items:\n",
    "            item[\"city\"] = city\n",
    "            item[\"currency\"] = currency\n",
    "        data_list.extend(desired_items)\n",
    "    else:\n",
    "        print(f\"Request for {city} failed with status code:\", response.status_code)\n",
    "\n",
    "# Create a DataFrame from the data list\n",
    "df = pd.DataFrame(data_list)\n",
    "\n",
    "# Print the DataFrame\n",
    "df"
   ]
  },
  {
   "cell_type": "code",
   "execution_count": 78,
   "metadata": {},
   "outputs": [
    {
     "data": {
      "text/html": [
       "<div>\n",
       "<style scoped>\n",
       "    .dataframe tbody tr th:only-of-type {\n",
       "        vertical-align: middle;\n",
       "    }\n",
       "\n",
       "    .dataframe tbody tr th {\n",
       "        vertical-align: top;\n",
       "    }\n",
       "\n",
       "    .dataframe thead th {\n",
       "        text-align: right;\n",
       "    }\n",
       "</style>\n",
       "<table border=\"1\" class=\"dataframe\">\n",
       "  <thead>\n",
       "    <tr style=\"text-align: right;\">\n",
       "      <th></th>\n",
       "      <th>data_points</th>\n",
       "      <th>item_id</th>\n",
       "      <th>lowest_price</th>\n",
       "      <th>average_price</th>\n",
       "      <th>highest_price</th>\n",
       "      <th>item_name</th>\n",
       "      <th>city</th>\n",
       "      <th>currency</th>\n",
       "    </tr>\n",
       "  </thead>\n",
       "  <tbody>\n",
       "    <tr>\n",
       "      <th>0</th>\n",
       "      <td>16</td>\n",
       "      <td>26</td>\n",
       "      <td>450.000000</td>\n",
       "      <td>563.909091</td>\n",
       "      <td>850.000000</td>\n",
       "      <td>Apartment (1 bedroom) in City Centre, Rent Per...</td>\n",
       "      <td>Aachen</td>\n",
       "      <td>EUR</td>\n",
       "    </tr>\n",
       "    <tr>\n",
       "      <th>1</th>\n",
       "      <td>10</td>\n",
       "      <td>26</td>\n",
       "      <td>536.738442</td>\n",
       "      <td>726.513820</td>\n",
       "      <td>858.781507</td>\n",
       "      <td>Apartment (1 bedroom) in City Centre, Rent Per...</td>\n",
       "      <td>Aalborg</td>\n",
       "      <td>EUR</td>\n",
       "    </tr>\n",
       "    <tr>\n",
       "      <th>2</th>\n",
       "      <td>24</td>\n",
       "      <td>26</td>\n",
       "      <td>554.521899</td>\n",
       "      <td>644.923561</td>\n",
       "      <td>817.190166</td>\n",
       "      <td>Apartment (1 bedroom) in City Centre, Rent Per...</td>\n",
       "      <td>Aberdeen</td>\n",
       "      <td>EUR</td>\n",
       "    </tr>\n",
       "    <tr>\n",
       "      <th>3</th>\n",
       "      <td>14</td>\n",
       "      <td>26</td>\n",
       "      <td>228.673539</td>\n",
       "      <td>491.224639</td>\n",
       "      <td>914.694156</td>\n",
       "      <td>Apartment (1 bedroom) in City Centre, Rent Per...</td>\n",
       "      <td>Abidjan</td>\n",
       "      <td>EUR</td>\n",
       "    </tr>\n",
       "    <tr>\n",
       "      <th>4</th>\n",
       "      <td>13</td>\n",
       "      <td>26</td>\n",
       "      <td>79.741209</td>\n",
       "      <td>641.334624</td>\n",
       "      <td>1500.000000</td>\n",
       "      <td>Apartment (1 bedroom) in City Centre, Rent Per...</td>\n",
       "      <td>Accra</td>\n",
       "      <td>EUR</td>\n",
       "    </tr>\n",
       "  </tbody>\n",
       "</table>\n",
       "</div>"
      ],
      "text/plain": [
       "   data_points  item_id  lowest_price  average_price  highest_price  \\\n",
       "0           16       26    450.000000     563.909091     850.000000   \n",
       "1           10       26    536.738442     726.513820     858.781507   \n",
       "2           24       26    554.521899     644.923561     817.190166   \n",
       "3           14       26    228.673539     491.224639     914.694156   \n",
       "4           13       26     79.741209     641.334624    1500.000000   \n",
       "\n",
       "                                           item_name      city currency  \n",
       "0  Apartment (1 bedroom) in City Centre, Rent Per...    Aachen      EUR  \n",
       "1  Apartment (1 bedroom) in City Centre, Rent Per...   Aalborg      EUR  \n",
       "2  Apartment (1 bedroom) in City Centre, Rent Per...  Aberdeen      EUR  \n",
       "3  Apartment (1 bedroom) in City Centre, Rent Per...   Abidjan      EUR  \n",
       "4  Apartment (1 bedroom) in City Centre, Rent Per...     Accra      EUR  "
      ]
     },
     "execution_count": 78,
     "metadata": {},
     "output_type": "execute_result"
    }
   ],
   "source": [
    "df.head()"
   ]
  },
  {
   "attachments": {},
   "cell_type": "markdown",
   "metadata": {},
   "source": [
    "### We get the data for 525 cities for 1-bedroom apartment in city center month rent in EUR from numbeo.com\n",
    "### Output is DataFrame with 525 rows × 8 columns"
   ]
  },
  {
   "cell_type": "code",
   "execution_count": 79,
   "metadata": {},
   "outputs": [
    {
     "name": "stdout",
     "output_type": "stream",
     "text": [
      "<class 'pandas.core.frame.DataFrame'>\n",
      "RangeIndex: 525 entries, 0 to 524\n",
      "Data columns (total 8 columns):\n",
      " #   Column         Non-Null Count  Dtype  \n",
      "---  ------         --------------  -----  \n",
      " 0   data_points    525 non-null    int64  \n",
      " 1   item_id        525 non-null    int64  \n",
      " 2   lowest_price   520 non-null    float64\n",
      " 3   average_price  525 non-null    float64\n",
      " 4   highest_price  520 non-null    float64\n",
      " 5   item_name      525 non-null    object \n",
      " 6   city           525 non-null    object \n",
      " 7   currency       525 non-null    object \n",
      "dtypes: float64(3), int64(2), object(3)\n",
      "memory usage: 32.9+ KB\n"
     ]
    }
   ],
   "source": [
    "df.info()"
   ]
  },
  {
   "cell_type": "code",
   "execution_count": 80,
   "metadata": {},
   "outputs": [],
   "source": [
    "#Drop column, that we don`t need: data_points, item_id, lowest_price, highest_price, currency. And storage it in df_new\n",
    "df_new = df.drop([\"data_points\", 'item_id', 'lowest_price', 'highest_price', 'currency'], axis=1)"
   ]
  },
  {
   "cell_type": "code",
   "execution_count": 83,
   "metadata": {},
   "outputs": [],
   "source": [
    "#Add the column country\n",
    "df_new['country'] = df_new['city'].map(city_count_dict)"
   ]
  },
  {
   "cell_type": "code",
   "execution_count": 89,
   "metadata": {},
   "outputs": [
    {
     "data": {
      "text/html": [
       "<div>\n",
       "<style scoped>\n",
       "    .dataframe tbody tr th:only-of-type {\n",
       "        vertical-align: middle;\n",
       "    }\n",
       "\n",
       "    .dataframe tbody tr th {\n",
       "        vertical-align: top;\n",
       "    }\n",
       "\n",
       "    .dataframe thead th {\n",
       "        text-align: right;\n",
       "    }\n",
       "</style>\n",
       "<table border=\"1\" class=\"dataframe\">\n",
       "  <thead>\n",
       "    <tr style=\"text-align: right;\">\n",
       "      <th></th>\n",
       "      <th>average_price</th>\n",
       "      <th>item_name</th>\n",
       "      <th>city</th>\n",
       "      <th>country</th>\n",
       "    </tr>\n",
       "  </thead>\n",
       "  <tbody>\n",
       "    <tr>\n",
       "      <th>0</th>\n",
       "      <td>563.909091</td>\n",
       "      <td>Apartment (1 bedroom) in City Centre, Rent Per...</td>\n",
       "      <td>Aachen</td>\n",
       "      <td>Germany</td>\n",
       "    </tr>\n",
       "    <tr>\n",
       "      <th>1</th>\n",
       "      <td>726.513820</td>\n",
       "      <td>Apartment (1 bedroom) in City Centre, Rent Per...</td>\n",
       "      <td>Aalborg</td>\n",
       "      <td>Denmark</td>\n",
       "    </tr>\n",
       "    <tr>\n",
       "      <th>2</th>\n",
       "      <td>644.923561</td>\n",
       "      <td>Apartment (1 bedroom) in City Centre, Rent Per...</td>\n",
       "      <td>Aberdeen</td>\n",
       "      <td>United Kingdom</td>\n",
       "    </tr>\n",
       "    <tr>\n",
       "      <th>3</th>\n",
       "      <td>491.224639</td>\n",
       "      <td>Apartment (1 bedroom) in City Centre, Rent Per...</td>\n",
       "      <td>Abidjan</td>\n",
       "      <td>Ivory Coast</td>\n",
       "    </tr>\n",
       "    <tr>\n",
       "      <th>4</th>\n",
       "      <td>641.334624</td>\n",
       "      <td>Apartment (1 bedroom) in City Centre, Rent Per...</td>\n",
       "      <td>Accra</td>\n",
       "      <td>Ghana</td>\n",
       "    </tr>\n",
       "  </tbody>\n",
       "</table>\n",
       "</div>"
      ],
      "text/plain": [
       "   average_price                                          item_name      city  \\\n",
       "0     563.909091  Apartment (1 bedroom) in City Centre, Rent Per...    Aachen   \n",
       "1     726.513820  Apartment (1 bedroom) in City Centre, Rent Per...   Aalborg   \n",
       "2     644.923561  Apartment (1 bedroom) in City Centre, Rent Per...  Aberdeen   \n",
       "3     491.224639  Apartment (1 bedroom) in City Centre, Rent Per...   Abidjan   \n",
       "4     641.334624  Apartment (1 bedroom) in City Centre, Rent Per...     Accra   \n",
       "\n",
       "          country  \n",
       "0         Germany  \n",
       "1         Denmark  \n",
       "2  United Kingdom  \n",
       "3     Ivory Coast  \n",
       "4           Ghana  "
      ]
     },
     "execution_count": 89,
     "metadata": {},
     "output_type": "execute_result"
    }
   ],
   "source": [
    "# Check the data in df_new\n",
    "df_new.head()"
   ]
  },
  {
   "cell_type": "code",
   "execution_count": 103,
   "metadata": {},
   "outputs": [
    {
     "data": {
      "text/html": [
       "<div>\n",
       "<style scoped>\n",
       "    .dataframe tbody tr th:only-of-type {\n",
       "        vertical-align: middle;\n",
       "    }\n",
       "\n",
       "    .dataframe tbody tr th {\n",
       "        vertical-align: top;\n",
       "    }\n",
       "\n",
       "    .dataframe thead th {\n",
       "        text-align: right;\n",
       "    }\n",
       "</style>\n",
       "<table border=\"1\" class=\"dataframe\">\n",
       "  <thead>\n",
       "    <tr style=\"text-align: right;\">\n",
       "      <th></th>\n",
       "      <th>average_price</th>\n",
       "      <th>item_name</th>\n",
       "      <th>city</th>\n",
       "      <th>country</th>\n",
       "    </tr>\n",
       "  </thead>\n",
       "  <tbody>\n",
       "    <tr>\n",
       "      <th>14</th>\n",
       "      <td>1357.033298</td>\n",
       "      <td>Apartment (1 bedroom) in City Centre, Rent Per...</td>\n",
       "      <td>Albuquerque</td>\n",
       "      <td>United States</td>\n",
       "    </tr>\n",
       "    <tr>\n",
       "      <th>27</th>\n",
       "      <td>1743.727590</td>\n",
       "      <td>Apartment (1 bedroom) in City Centre, Rent Per...</td>\n",
       "      <td>Atlanta</td>\n",
       "      <td>United States</td>\n",
       "    </tr>\n",
       "    <tr>\n",
       "      <th>30</th>\n",
       "      <td>2096.497436</td>\n",
       "      <td>Apartment (1 bedroom) in City Centre, Rent Per...</td>\n",
       "      <td>Austin</td>\n",
       "      <td>United States</td>\n",
       "    </tr>\n",
       "    <tr>\n",
       "      <th>60</th>\n",
       "      <td>1451.990100</td>\n",
       "      <td>Apartment (1 bedroom) in City Centre, Rent Per...</td>\n",
       "      <td>Boise</td>\n",
       "      <td>United States</td>\n",
       "    </tr>\n",
       "    <tr>\n",
       "      <th>64</th>\n",
       "      <td>2511.693686</td>\n",
       "      <td>Apartment (1 bedroom) in City Centre, Rent Per...</td>\n",
       "      <td>Boston</td>\n",
       "      <td>United States</td>\n",
       "    </tr>\n",
       "  </tbody>\n",
       "</table>\n",
       "</div>"
      ],
      "text/plain": [
       "    average_price                                          item_name  \\\n",
       "14    1357.033298  Apartment (1 bedroom) in City Centre, Rent Per...   \n",
       "27    1743.727590  Apartment (1 bedroom) in City Centre, Rent Per...   \n",
       "30    2096.497436  Apartment (1 bedroom) in City Centre, Rent Per...   \n",
       "60    1451.990100  Apartment (1 bedroom) in City Centre, Rent Per...   \n",
       "64    2511.693686  Apartment (1 bedroom) in City Centre, Rent Per...   \n",
       "\n",
       "           city        country  \n",
       "14  Albuquerque  United States  \n",
       "27      Atlanta  United States  \n",
       "30       Austin  United States  \n",
       "60        Boise  United States  \n",
       "64       Boston  United States  "
      ]
     },
     "execution_count": 103,
     "metadata": {},
     "output_type": "execute_result"
    }
   ],
   "source": [
    "#Check the data for United States. \n",
    "df_new[df_new['country'] == 'United States'].head()"
   ]
  },
  {
   "cell_type": "code",
   "execution_count": 106,
   "metadata": {},
   "outputs": [],
   "source": [
    "#Now we want to have a daily price for apartment, we divided month price through 30 days. \n",
    "df_new['price_per_day'] = df_new['average_price'] / 30"
   ]
  },
  {
   "cell_type": "code",
   "execution_count": 109,
   "metadata": {},
   "outputs": [
    {
     "data": {
      "text/html": [
       "<div>\n",
       "<style scoped>\n",
       "    .dataframe tbody tr th:only-of-type {\n",
       "        vertical-align: middle;\n",
       "    }\n",
       "\n",
       "    .dataframe tbody tr th {\n",
       "        vertical-align: top;\n",
       "    }\n",
       "\n",
       "    .dataframe thead th {\n",
       "        text-align: right;\n",
       "    }\n",
       "</style>\n",
       "<table border=\"1\" class=\"dataframe\">\n",
       "  <thead>\n",
       "    <tr style=\"text-align: right;\">\n",
       "      <th></th>\n",
       "      <th>average_price</th>\n",
       "      <th>item_name</th>\n",
       "      <th>city</th>\n",
       "      <th>country</th>\n",
       "      <th>price_per_day</th>\n",
       "    </tr>\n",
       "  </thead>\n",
       "  <tbody>\n",
       "    <tr>\n",
       "      <th>0</th>\n",
       "      <td>563.909091</td>\n",
       "      <td>Apartment (1 bedroom) in City Centre, Rent Per...</td>\n",
       "      <td>Aachen</td>\n",
       "      <td>Germany</td>\n",
       "      <td>18.796970</td>\n",
       "    </tr>\n",
       "    <tr>\n",
       "      <th>1</th>\n",
       "      <td>726.513820</td>\n",
       "      <td>Apartment (1 bedroom) in City Centre, Rent Per...</td>\n",
       "      <td>Aalborg</td>\n",
       "      <td>Denmark</td>\n",
       "      <td>24.217127</td>\n",
       "    </tr>\n",
       "    <tr>\n",
       "      <th>2</th>\n",
       "      <td>644.923561</td>\n",
       "      <td>Apartment (1 bedroom) in City Centre, Rent Per...</td>\n",
       "      <td>Aberdeen</td>\n",
       "      <td>United Kingdom</td>\n",
       "      <td>21.497452</td>\n",
       "    </tr>\n",
       "    <tr>\n",
       "      <th>3</th>\n",
       "      <td>491.224639</td>\n",
       "      <td>Apartment (1 bedroom) in City Centre, Rent Per...</td>\n",
       "      <td>Abidjan</td>\n",
       "      <td>Ivory Coast</td>\n",
       "      <td>16.374155</td>\n",
       "    </tr>\n",
       "    <tr>\n",
       "      <th>4</th>\n",
       "      <td>641.334624</td>\n",
       "      <td>Apartment (1 bedroom) in City Centre, Rent Per...</td>\n",
       "      <td>Accra</td>\n",
       "      <td>Ghana</td>\n",
       "      <td>21.377821</td>\n",
       "    </tr>\n",
       "  </tbody>\n",
       "</table>\n",
       "</div>"
      ],
      "text/plain": [
       "   average_price                                          item_name      city  \\\n",
       "0     563.909091  Apartment (1 bedroom) in City Centre, Rent Per...    Aachen   \n",
       "1     726.513820  Apartment (1 bedroom) in City Centre, Rent Per...   Aalborg   \n",
       "2     644.923561  Apartment (1 bedroom) in City Centre, Rent Per...  Aberdeen   \n",
       "3     491.224639  Apartment (1 bedroom) in City Centre, Rent Per...   Abidjan   \n",
       "4     641.334624  Apartment (1 bedroom) in City Centre, Rent Per...     Accra   \n",
       "\n",
       "          country  price_per_day  \n",
       "0         Germany      18.796970  \n",
       "1         Denmark      24.217127  \n",
       "2  United Kingdom      21.497452  \n",
       "3     Ivory Coast      16.374155  \n",
       "4           Ghana      21.377821  "
      ]
     },
     "execution_count": 109,
     "metadata": {},
     "output_type": "execute_result"
    }
   ],
   "source": [
    "#Check the data in df_new\n",
    "df_new.head()"
   ]
  },
  {
   "cell_type": "code",
   "execution_count": 110,
   "metadata": {},
   "outputs": [
    {
     "name": "stdout",
     "output_type": "stream",
     "text": [
      "<class 'pandas.core.frame.DataFrame'>\n",
      "RangeIndex: 525 entries, 0 to 524\n",
      "Data columns (total 5 columns):\n",
      " #   Column         Non-Null Count  Dtype  \n",
      "---  ------         --------------  -----  \n",
      " 0   average_price  525 non-null    float64\n",
      " 1   item_name      525 non-null    object \n",
      " 2   city           525 non-null    object \n",
      " 3   country        525 non-null    object \n",
      " 4   price_per_day  525 non-null    float64\n",
      "dtypes: float64(2), object(3)\n",
      "memory usage: 20.6+ KB\n"
     ]
    }
   ],
   "source": [
    "df_new.info()"
   ]
  },
  {
   "attachments": {},
   "cell_type": "markdown",
   "metadata": {},
   "source": [
    "## Push the DataFrame df_new to sql"
   ]
  },
  {
   "cell_type": "code",
   "execution_count": 111,
   "metadata": {},
   "outputs": [],
   "source": [
    "#Define schema for DBeaver\n",
    "schema = 'capstone_travel_index'\n",
    "engine = sf.get_engine()"
   ]
  },
  {
   "cell_type": "code",
   "execution_count": 112,
   "metadata": {},
   "outputs": [
    {
     "name": "stdout",
     "output_type": "stream",
     "text": [
      "The city_apart_prices table was imported successfully.\n"
     ]
    }
   ],
   "source": [
    "#Import dataset as table to DBeaver, rename df_clean to country_avg_price\n",
    "table_name = 'city_apart_prices'\n",
    "if engine!=None:\n",
    "    try:\n",
    "        df_new.to_sql(name=table_name, # Name of SQL table\n",
    "                        con=engine, # Engine or connection\n",
    "                        if_exists='replace', # Drop the table before inserting new values \n",
    "                        schema=schema, # Use schmea that was defined earlier\n",
    "                        index=False, # Write DataFrame index as a column\n",
    "                        chunksize=5000, # Specify the number of rows in each batch to be written at a time\n",
    "                        method='multi') # Pass multiple values in a single INSERT clause\n",
    "        print(f\"The {table_name} table was imported successfully.\")\n",
    "    # Error handling\n",
    "    except (Exception, psycopg2.DatabaseError) as error:\n",
    "        print(error)\n",
    "        engine = None"
   ]
  },
  {
   "cell_type": "code",
   "execution_count": null,
   "metadata": {},
   "outputs": [],
   "source": [
    "#The city_apart_prices table was imported successfully."
   ]
  }
 ],
 "metadata": {
  "kernelspec": {
   "display_name": "nf_sql",
   "language": "python",
   "name": "python3"
  },
  "language_info": {
   "codemirror_mode": {
    "name": "ipython",
    "version": 3
   },
   "file_extension": ".py",
   "mimetype": "text/x-python",
   "name": "python",
   "nbconvert_exporter": "python",
   "pygments_lexer": "ipython3",
   "version": "3.9.16"
  },
  "orig_nbformat": 4
 },
 "nbformat": 4,
 "nbformat_minor": 2
}
