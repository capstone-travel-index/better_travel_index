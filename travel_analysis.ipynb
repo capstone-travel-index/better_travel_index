{
 "cells": [
  {
   "attachments": {},
   "cell_type": "markdown",
   "metadata": {},
   "source": [
    "# Analysis of travel behavior"
   ]
  },
  {
   "cell_type": "code",
   "execution_count": 97,
   "metadata": {},
   "outputs": [],
   "source": [
    "import matplotlib.pyplot as plt\n",
    "import numpy as np\n",
    "import pandas as pd\n",
    "from scipy import stats\n",
    "import seaborn as sns\n",
    "from dotenv import load_dotenv\n",
    "import sql_functions as sf\n",
    "\n",
    "%matplotlib inline\n",
    "\n",
    "import warnings\n",
    "warnings.simplefilter(action='ignore', category=FutureWarning)\n",
    "\n",
    "#plot Style\n",
    "sns.set_style(\"whitegrid\")"
   ]
  },
  {
   "attachments": {},
   "cell_type": "markdown",
   "metadata": {},
   "source": [
    "### Import dataframes from postgres"
   ]
  },
  {
   "cell_type": "code",
   "execution_count": 77,
   "metadata": {},
   "outputs": [],
   "source": [
    "# enter the schema name for your course\n",
    "schema = 'capstone_travel_index'\n",
    "\n",
    "df_env = sf.get_dataframe(f'SELECT * FROM {schema}.df_env_scr')\n",
    "df_gov = sf.get_dataframe(f'SELECT * FROM {schema}.df_gov_scr')\n",
    "df_soc = sf.get_dataframe(f'SELECT * FROM {schema}.df_soc_scr')\n",
    "df_arr = sf.get_dataframe(f'SELECT iso3, year, total FROM {schema}.arrival_regions')\n",
    "df_price = sf.get_dataframe(f'SELECT iso3, item_id, price_avg_eur total FROM {schema}.country_avg_price')"
   ]
  },
  {
   "cell_type": "code",
   "execution_count": 98,
   "metadata": {},
   "outputs": [
    {
     "name": "stdout",
     "output_type": "stream",
     "text": [
      "<class 'pandas.core.frame.DataFrame'>\n",
      "RangeIndex: 1930 entries, 0 to 1929\n",
      "Data columns (total 3 columns):\n",
      " #   Column     Non-Null Count  Dtype         \n",
      "---  ------     --------------  -----         \n",
      " 0   iso3       1930 non-null   object        \n",
      " 1   year       1930 non-null   datetime64[ns]\n",
      " 2   env_score  1930 non-null   float64       \n",
      "dtypes: datetime64[ns](1), float64(1), object(1)\n",
      "memory usage: 45.4+ KB\n",
      "None\n",
      "<class 'pandas.core.frame.DataFrame'>\n",
      "RangeIndex: 1930 entries, 0 to 1929\n",
      "Data columns (total 3 columns):\n",
      " #   Column     Non-Null Count  Dtype         \n",
      "---  ------     --------------  -----         \n",
      " 0   iso3       1930 non-null   object        \n",
      " 1   year       1930 non-null   datetime64[ns]\n",
      " 2   gov_score  1930 non-null   float64       \n",
      "dtypes: datetime64[ns](1), float64(1), object(1)\n",
      "memory usage: 45.4+ KB\n",
      "None\n",
      "<class 'pandas.core.frame.DataFrame'>\n",
      "RangeIndex: 1930 entries, 0 to 1929\n",
      "Data columns (total 3 columns):\n",
      " #   Column     Non-Null Count  Dtype         \n",
      "---  ------     --------------  -----         \n",
      " 0   iso3       1930 non-null   object        \n",
      " 1   year       1930 non-null   datetime64[ns]\n",
      " 2   soc_score  1930 non-null   float64       \n",
      "dtypes: datetime64[ns](1), float64(1), object(1)\n",
      "memory usage: 45.4+ KB\n",
      "None\n",
      "<class 'pandas.core.frame.DataFrame'>\n",
      "RangeIndex: 742 entries, 0 to 741\n",
      "Data columns (total 3 columns):\n",
      " #   Column   Non-Null Count  Dtype  \n",
      "---  ------   --------------  -----  \n",
      " 0   iso3     716 non-null    object \n",
      " 1   item_id  742 non-null    int64  \n",
      " 2   total    729 non-null    float64\n",
      "dtypes: float64(1), int64(1), object(1)\n",
      "memory usage: 17.5+ KB\n",
      "None\n",
      "<class 'pandas.core.frame.DataFrame'>\n",
      "Int64Index: 1629 entries, 10 to 1989\n",
      "Data columns (total 3 columns):\n",
      " #   Column  Non-Null Count  Dtype         \n",
      "---  ------  --------------  -----         \n",
      " 0   iso3    1629 non-null   object        \n",
      " 1   year    1629 non-null   datetime64[ns]\n",
      " 2   total   1629 non-null   float64       \n",
      "dtypes: datetime64[ns](1), float64(1), object(1)\n",
      "memory usage: 50.9+ KB\n",
      "None\n"
     ]
    }
   ],
   "source": [
    "print(df_env.info())\n",
    "print(df_gov.info())\n",
    "print(df_soc.info())\n",
    "print(df_price.info())\n",
    "print(df_arr.info())"
   ]
  },
  {
   "cell_type": "code",
   "execution_count": 99,
   "metadata": {},
   "outputs": [],
   "source": [
    "df_arr.dropna(inplace=True)"
   ]
  },
  {
   "cell_type": "code",
   "execution_count": 100,
   "metadata": {},
   "outputs": [
    {
     "name": "stdout",
     "output_type": "stream",
     "text": [
      "  iso3       year  env_score\n",
      "0  AFG 2012-01-01   1.688525\n",
      "1  AFG 2013-01-01   1.718494\n",
      "2  AFG 2014-01-01   1.797386\n",
      "3  AFG 2015-01-01   2.006525\n",
      "4  AFG 2016-01-01   2.048780\n",
      "  iso3       year  gov_score\n",
      "0  AFG 2012-01-01   1.224490\n",
      "1  AFG 2013-01-01   1.134969\n",
      "2  AFG 2014-01-01   1.277719\n",
      "3  AFG 2015-01-01   1.078749\n",
      "4  AFG 2016-01-01   1.041890\n",
      "  iso3       year  gov_score\n",
      "0  AFG 2012-01-01   1.224490\n",
      "1  AFG 2013-01-01   1.134969\n",
      "2  AFG 2014-01-01   1.277719\n",
      "3  AFG 2015-01-01   1.078749\n",
      "4  AFG 2016-01-01   1.041890\n",
      "   iso3       year   total\n",
      "10  ALB 2012-01-01  3514.0\n",
      "11  ALB 2013-01-01  3256.0\n",
      "12  ALB 2014-01-01  3673.0\n",
      "13  ALB 2015-01-01  4131.0\n",
      "14  ALB 2016-01-01  4736.0\n"
     ]
    }
   ],
   "source": [
    "print(df_env.head())\n",
    "print(df_gov.head())\n",
    "print(df_gov.head())\n",
    "print(df_arr.head())"
   ]
  },
  {
   "attachments": {},
   "cell_type": "markdown",
   "metadata": {},
   "source": [
    "### Create Datafram with all the scores and travel data"
   ]
  },
  {
   "cell_type": "code",
   "execution_count": 81,
   "metadata": {},
   "outputs": [],
   "source": [
    "df_analysis = pd.merge(df_env, df_gov, on=['iso3', 'year'])\n",
    "df_analysis = pd.merge(df_analysis, df_soc, on=['iso3', 'year'])\n",
    "df_analysis = pd.merge(df_analysis, df_arr, on=['iso3', 'year'])"
   ]
  },
  {
   "cell_type": "code",
   "execution_count": 82,
   "metadata": {},
   "outputs": [
    {
     "data": {
      "text/html": [
       "<div>\n",
       "<style scoped>\n",
       "    .dataframe tbody tr th:only-of-type {\n",
       "        vertical-align: middle;\n",
       "    }\n",
       "\n",
       "    .dataframe tbody tr th {\n",
       "        vertical-align: top;\n",
       "    }\n",
       "\n",
       "    .dataframe thead th {\n",
       "        text-align: right;\n",
       "    }\n",
       "</style>\n",
       "<table border=\"1\" class=\"dataframe\">\n",
       "  <thead>\n",
       "    <tr style=\"text-align: right;\">\n",
       "      <th></th>\n",
       "      <th>iso3</th>\n",
       "      <th>year</th>\n",
       "      <th>env_score</th>\n",
       "      <th>gov_score</th>\n",
       "      <th>soc_score</th>\n",
       "      <th>total</th>\n",
       "    </tr>\n",
       "  </thead>\n",
       "  <tbody>\n",
       "    <tr>\n",
       "      <th>0</th>\n",
       "      <td>AGO</td>\n",
       "      <td>2012-01-01</td>\n",
       "      <td>2.163934</td>\n",
       "      <td>2.581633</td>\n",
       "      <td>2.311978</td>\n",
       "      <td>528.0</td>\n",
       "    </tr>\n",
       "    <tr>\n",
       "      <th>1</th>\n",
       "      <td>AGO</td>\n",
       "      <td>2013-01-01</td>\n",
       "      <td>2.127660</td>\n",
       "      <td>2.597137</td>\n",
       "      <td>2.545932</td>\n",
       "      <td>650.0</td>\n",
       "    </tr>\n",
       "    <tr>\n",
       "      <th>2</th>\n",
       "      <td>AGO</td>\n",
       "      <td>2014-01-01</td>\n",
       "      <td>2.156863</td>\n",
       "      <td>2.734952</td>\n",
       "      <td>2.220762</td>\n",
       "      <td>595.0</td>\n",
       "    </tr>\n",
       "    <tr>\n",
       "      <th>3</th>\n",
       "      <td>AGO</td>\n",
       "      <td>2015-01-01</td>\n",
       "      <td>2.349103</td>\n",
       "      <td>2.524272</td>\n",
       "      <td>2.706965</td>\n",
       "      <td>592.0</td>\n",
       "    </tr>\n",
       "    <tr>\n",
       "      <th>4</th>\n",
       "      <td>AGO</td>\n",
       "      <td>2016-01-01</td>\n",
       "      <td>2.373984</td>\n",
       "      <td>2.642320</td>\n",
       "      <td>2.571059</td>\n",
       "      <td>397.0</td>\n",
       "    </tr>\n",
       "  </tbody>\n",
       "</table>\n",
       "</div>"
      ],
      "text/plain": [
       "  iso3       year  env_score  gov_score  soc_score  total\n",
       "0  AGO 2012-01-01   2.163934   2.581633   2.311978  528.0\n",
       "1  AGO 2013-01-01   2.127660   2.597137   2.545932  650.0\n",
       "2  AGO 2014-01-01   2.156863   2.734952   2.220762  595.0\n",
       "3  AGO 2015-01-01   2.349103   2.524272   2.706965  592.0\n",
       "4  AGO 2016-01-01   2.373984   2.642320   2.571059  397.0"
      ]
     },
     "execution_count": 82,
     "metadata": {},
     "output_type": "execute_result"
    }
   ],
   "source": [
    "df_analysis.head()"
   ]
  },
  {
   "cell_type": "code",
   "execution_count": 103,
   "metadata": {},
   "outputs": [],
   "source": [
    "# Select specific years\n",
    "sel_years = ['2012-01-01', \n",
    "             '2013-01-01', \n",
    "             '2014-01-01', \n",
    "             '2015-01-01', \n",
    "             '2016-01-01', \n",
    "             '2017-01-01', \n",
    "             '2018-01-01', \n",
    "             '2019-01-01']\n",
    "\n",
    "# Filter the DataFrame based on the selected years\n",
    "df_analysis_bc = df_analysis[df_analysis['year'].isin(sel_years)]"
   ]
  },
  {
   "cell_type": "code",
   "execution_count": 84,
   "metadata": {},
   "outputs": [
    {
     "data": {
      "text/html": [
       "<div>\n",
       "<style scoped>\n",
       "    .dataframe tbody tr th:only-of-type {\n",
       "        vertical-align: middle;\n",
       "    }\n",
       "\n",
       "    .dataframe tbody tr th {\n",
       "        vertical-align: top;\n",
       "    }\n",
       "\n",
       "    .dataframe thead th {\n",
       "        text-align: right;\n",
       "    }\n",
       "</style>\n",
       "<table border=\"1\" class=\"dataframe\">\n",
       "  <thead>\n",
       "    <tr style=\"text-align: right;\">\n",
       "      <th></th>\n",
       "      <th>iso3</th>\n",
       "      <th>year</th>\n",
       "      <th>env_score</th>\n",
       "      <th>gov_score</th>\n",
       "      <th>soc_score</th>\n",
       "      <th>total</th>\n",
       "    </tr>\n",
       "  </thead>\n",
       "  <tbody>\n",
       "    <tr>\n",
       "      <th>0</th>\n",
       "      <td>AGO</td>\n",
       "      <td>2012-01-01</td>\n",
       "      <td>2.163934</td>\n",
       "      <td>2.581633</td>\n",
       "      <td>2.311978</td>\n",
       "      <td>528.0</td>\n",
       "    </tr>\n",
       "    <tr>\n",
       "      <th>1</th>\n",
       "      <td>AGO</td>\n",
       "      <td>2013-01-01</td>\n",
       "      <td>2.127660</td>\n",
       "      <td>2.597137</td>\n",
       "      <td>2.545932</td>\n",
       "      <td>650.0</td>\n",
       "    </tr>\n",
       "    <tr>\n",
       "      <th>2</th>\n",
       "      <td>AGO</td>\n",
       "      <td>2014-01-01</td>\n",
       "      <td>2.156863</td>\n",
       "      <td>2.734952</td>\n",
       "      <td>2.220762</td>\n",
       "      <td>595.0</td>\n",
       "    </tr>\n",
       "    <tr>\n",
       "      <th>3</th>\n",
       "      <td>AGO</td>\n",
       "      <td>2015-01-01</td>\n",
       "      <td>2.349103</td>\n",
       "      <td>2.524272</td>\n",
       "      <td>2.706965</td>\n",
       "      <td>592.0</td>\n",
       "    </tr>\n",
       "    <tr>\n",
       "      <th>4</th>\n",
       "      <td>AGO</td>\n",
       "      <td>2016-01-01</td>\n",
       "      <td>2.373984</td>\n",
       "      <td>2.642320</td>\n",
       "      <td>2.571059</td>\n",
       "      <td>397.0</td>\n",
       "    </tr>\n",
       "  </tbody>\n",
       "</table>\n",
       "</div>"
      ],
      "text/plain": [
       "  iso3       year  env_score  gov_score  soc_score  total\n",
       "0  AGO 2012-01-01   2.163934   2.581633   2.311978  528.0\n",
       "1  AGO 2013-01-01   2.127660   2.597137   2.545932  650.0\n",
       "2  AGO 2014-01-01   2.156863   2.734952   2.220762  595.0\n",
       "3  AGO 2015-01-01   2.349103   2.524272   2.706965  592.0\n",
       "4  AGO 2016-01-01   2.373984   2.642320   2.571059  397.0"
      ]
     },
     "execution_count": 84,
     "metadata": {},
     "output_type": "execute_result"
    }
   ],
   "source": [
    "df_analysis_bc.head()"
   ]
  },
  {
   "cell_type": "code",
   "execution_count": 101,
   "metadata": {},
   "outputs": [
    {
     "data": {
      "image/png": "[encoded data removed]",
      "text/plain": [
       "<Figure size 640x480 with 1 Axes>"
      ]
     },
     "metadata": {},
     "output_type": "display_data"
    }
   ],
   "source": [
    "#Visualizing the relationship between weight and mpg in a scatterplot\n",
    "df_analysis.plot('env_score', 'total', kind='scatter');"
   ]
  },
  {
   "cell_type": "code",
   "execution_count": 102,
   "metadata": {},
   "outputs": [
    {
     "data": {
      "image/png": "[encoded data removed]",
      "text/plain": [
       "<Figure size 640x480 with 1 Axes>"
      ]
     },
     "metadata": {},
     "output_type": "display_data"
    }
   ],
   "source": [
    "df_analysis_bc.plot('env_score', 'total', kind='scatter');"
   ]
  },
  {
   "attachments": {},
   "cell_type": "markdown",
   "metadata": {},
   "source": [
    "### Correlation Matrix and Heatmap"
   ]
  },
  {
   "cell_type": "code",
   "execution_count": 66,
   "metadata": {},
   "outputs": [
    {
     "data": {
      "image/png": "[encoded data removed]",
      "text/plain": [
       "<Figure size 800x600 with 2 Axes>"
      ]
     },
     "metadata": {},
     "output_type": "display_data"
    }
   ],
   "source": [
    "# Compute the correlation matrix\n",
    "corr_matrix = df_analysis[['env_score', 'gov_score', 'soc_score', 'total']].corr()\n",
    "\n",
    "# Create a heatmap\n",
    "plt.figure(figsize=(8, 6))\n",
    "sns.heatmap(corr_matrix, annot=True, cmap='coolwarm', vmin=-1, vmax=1)\n",
    "plt.title('Correlation Matrix')\n",
    "plt.show()"
   ]
  },
  {
   "attachments": {},
   "cell_type": "markdown",
   "metadata": {},
   "source": [
    "The correlation coefficient of 0.38 suggests a moderate indicates a positive relationship between tourist numbers and environmental score. It is not extremely strong but still indicates a discernible association."
   ]
  },
  {
   "cell_type": "code",
   "execution_count": 87,
   "metadata": {},
   "outputs": [
    {
     "data": {
      "image/png": "[encoded data removed]",
      "text/plain": [
       "<Figure size 800x600 with 2 Axes>"
      ]
     },
     "metadata": {},
     "output_type": "display_data"
    }
   ],
   "source": [
    "# Compute the correlation matrix\n",
    "corr_matrix = df_analysis_bc[['env_score', 'gov_score', 'soc_score', 'total']].corr()\n",
    "\n",
    "# Create a heatmap\n",
    "plt.figure(figsize=(8, 6))\n",
    "sns.heatmap(corr_matrix, annot=True, cmap='coolwarm', vmin=-1, vmax=1)\n",
    "plt.title('Correlation Matrix')\n",
    "plt.show()"
   ]
  },
  {
   "attachments": {},
   "cell_type": "markdown",
   "metadata": {},
   "source": [
    "### Simple linear regression"
   ]
  },
  {
   "cell_type": "code",
   "execution_count": 44,
   "metadata": {},
   "outputs": [],
   "source": [
    "# Import the statsmodels module\n",
    "import statsmodels.api as sm"
   ]
  },
  {
   "cell_type": "code",
   "execution_count": 67,
   "metadata": {},
   "outputs": [],
   "source": [
    "# Prepare data for modeling\n",
    "# Choose the predictor X and add a constant term\n",
    "X = df_analysis[['env_score']]\n",
    "# Our model needs an intercept so we add a column of 1s:\n",
    "X = sm.add_constant(X)\n",
    "# Define dependent variable\n",
    "y = df_analysis['total']"
   ]
  },
  {
   "cell_type": "code",
   "execution_count": 68,
   "metadata": {},
   "outputs": [
    {
     "data": {
      "text/html": [
       "<table class=\"simpletable\">\n",
       "<caption>OLS Regression Results</caption>\n",
       "<tr>\n",
       "  <th>Dep. Variable:</th>          <td>total</td>      <th>  R-squared:         </th> <td>   0.147</td> \n",
       "</tr>\n",
       "<tr>\n",
       "  <th>Model:</th>                   <td>OLS</td>       <th>  Adj. R-squared:    </th> <td>   0.146</td> \n",
       "</tr>\n",
       "<tr>\n",
       "  <th>Method:</th>             <td>Least Squares</td>  <th>  F-statistic:       </th> <td>   255.1</td> \n",
       "</tr>\n",
       "<tr>\n",
       "  <th>Date:</th>             <td>Thu, 29 Jun 2023</td> <th>  Prob (F-statistic):</th> <td>4.11e-53</td> \n",
       "</tr>\n",
       "<tr>\n",
       "  <th>Time:</th>                 <td>11:49:23</td>     <th>  Log-Likelihood:    </th> <td> -16531.</td> \n",
       "</tr>\n",
       "<tr>\n",
       "  <th>No. Observations:</th>      <td>  1487</td>      <th>  AIC:               </th> <td>3.307e+04</td>\n",
       "</tr>\n",
       "<tr>\n",
       "  <th>Df Residuals:</th>          <td>  1485</td>      <th>  BIC:               </th> <td>3.308e+04</td>\n",
       "</tr>\n",
       "<tr>\n",
       "  <th>Df Model:</th>              <td>     1</td>      <th>                     </th>     <td> </td>    \n",
       "</tr>\n",
       "<tr>\n",
       "  <th>Covariance Type:</th>      <td>nonrobust</td>    <th>                     </th>     <td> </td>    \n",
       "</tr>\n",
       "</table>\n",
       "<table class=\"simpletable\">\n",
       "<tr>\n",
       "      <td></td>         <th>coef</th>     <th>std err</th>      <th>t</th>      <th>P>|t|</th>  <th>[0.025</th>    <th>0.975]</th>  \n",
       "</tr>\n",
       "<tr>\n",
       "  <th>const</th>     <td>-8818.7662</td> <td> 1115.415</td> <td>   -7.906</td> <td> 0.000</td> <td> -1.1e+04</td> <td>-6630.810</td>\n",
       "</tr>\n",
       "<tr>\n",
       "  <th>env_score</th> <td> 3445.4473</td> <td>  215.724</td> <td>   15.972</td> <td> 0.000</td> <td> 3022.291</td> <td> 3868.604</td>\n",
       "</tr>\n",
       "</table>\n",
       "<table class=\"simpletable\">\n",
       "<tr>\n",
       "  <th>Omnibus:</th>       <td>1386.248</td> <th>  Durbin-Watson:     </th> <td>   0.259</td> \n",
       "</tr>\n",
       "<tr>\n",
       "  <th>Prob(Omnibus):</th>  <td> 0.000</td>  <th>  Jarque-Bera (JB):  </th> <td>48203.441</td>\n",
       "</tr>\n",
       "<tr>\n",
       "  <th>Skew:</th>           <td> 4.431</td>  <th>  Prob(JB):          </th> <td>    0.00</td> \n",
       "</tr>\n",
       "<tr>\n",
       "  <th>Kurtosis:</th>       <td>29.447</td>  <th>  Cond. No.          </th> <td>    14.1</td> \n",
       "</tr>\n",
       "</table><br/><br/>Notes:<br/>[1] Standard Errors assume that the covariance matrix of the errors is correctly specified."
      ],
      "text/plain": [
       "<class 'statsmodels.iolib.summary.Summary'>\n",
       "\"\"\"\n",
       "                            OLS Regression Results                            \n",
       "==============================================================================\n",
       "Dep. Variable:                  total   R-squared:                       0.147\n",
       "Model:                            OLS   Adj. R-squared:                  0.146\n",
       "Method:                 Least Squares   F-statistic:                     255.1\n",
       "Date:                Thu, 29 Jun 2023   Prob (F-statistic):           4.11e-53\n",
       "Time:                        11:49:23   Log-Likelihood:                -16531.\n",
       "No. Observations:                1487   AIC:                         3.307e+04\n",
       "Df Residuals:                    1485   BIC:                         3.308e+04\n",
       "Df Model:                           1                                         \n",
       "Covariance Type:            nonrobust                                         \n",
       "==============================================================================\n",
       "                 coef    std err          t      P>|t|      [0.025      0.975]\n",
       "------------------------------------------------------------------------------\n",
       "const      -8818.7662   1115.415     -7.906      0.000    -1.1e+04   -6630.810\n",
       "env_score   3445.4473    215.724     15.972      0.000    3022.291    3868.604\n",
       "==============================================================================\n",
       "Omnibus:                     1386.248   Durbin-Watson:                   0.259\n",
       "Prob(Omnibus):                  0.000   Jarque-Bera (JB):            48203.441\n",
       "Skew:                           4.431   Prob(JB):                         0.00\n",
       "Kurtosis:                      29.447   Cond. No.                         14.1\n",
       "==============================================================================\n",
       "\n",
       "Notes:\n",
       "[1] Standard Errors assume that the covariance matrix of the errors is correctly specified.\n",
       "\"\"\""
      ]
     },
     "execution_count": 68,
     "metadata": {},
     "output_type": "execute_result"
    }
   ],
   "source": [
    "# Create an OLS model\n",
    "model = sm.OLS(y, X)\n",
    "# use the data to calculate the intercept and slope\n",
    "results = model.fit()\n",
    "# return the output of the model\n",
    "results.summary()\n",
    "\n",
    "#Note: this can be written as sm.OLS(y,X).fit().summary()"
   ]
  },
  {
   "attachments": {},
   "cell_type": "markdown",
   "metadata": {},
   "source": [
    "Dependent Variable: The dependent variable is \"env_score,\" which is the variable being predicted or explained by the model.\n",
    "\n",
    "R-squared: The R-squared value of 0.144 represents the proportion of the variance in the dependent variable that can be explained by the independent variable(s) included in the model. In this case, approximately 14.4% of the variation in the \"env_score\" can be accounted for by the independent variable(s) included in the regression model.\n",
    "\n",
    "Model Fit: The adjusted R-squared value of 0.144 is the same as the R-squared value, indicating that no adjustments were made for the number of independent variables in the model.\n",
    "\n",
    "F-statistic: The F-statistic tests the overall significance of the regression model. In this case, the F-statistic has a value of 250.0, and the associated probability (Prob (F-statistic)) is very close to zero (3.59e-52), indicating that the regression model as a whole is statistically significant.\n",
    "\n",
    "Coefficients: The coefficients table provides information about the individual variables in the model. The \"const\" coefficient (4.0784) represents the intercept or the estimated value of the dependent variable when all independent variables are zero. The \"total\" coefficient (2.57e-05) represents the estimated change in the dependent variable for each unit increase in the \"total\" independent variable.\n",
    "\n",
    "Standard Errors: The standard errors measure the uncertainty or precision of the coefficient estimates. The \"std err\" values indicate the standard errors associated with the corresponding coefficients.\n",
    "\n",
    "t-values: The t-values assess the statistical significance of the coefficients. They are calculated by dividing the coefficient estimate by its standard error. The higher the absolute value of the t-value, the more statistically significant the coefficient. In this case, both the intercept (\"const\") and \"total\" coefficients have t-values indicating statistical significance (t > 2) as their associated p-values are very close to zero (p < 0.05).\n",
    "\n",
    "Confidence Intervals: The confidence intervals provide a range within which we can be reasonably confident that the true population parameter lies. The values in the square brackets [0.025, 0.975] represent the lower and upper bounds of the 95% confidence intervals for the corresponding coefficients."
   ]
  },
  {
   "cell_type": "code",
   "execution_count": 90,
   "metadata": {},
   "outputs": [],
   "source": [
    "# Prepare data for modeling\n",
    "# Choose the predictor X and add a constant term\n",
    "Xbc = df_analysis_bc[['env_score']]\n",
    "# Our model needs an intercept so we add a column of 1s:\n",
    "Xbc = sm.add_constant(Xbc)\n",
    "# Define dependent variable\n",
    "y = df_analysis_bc['total']"
   ]
  },
  {
   "cell_type": "code",
   "execution_count": 91,
   "metadata": {},
   "outputs": [
    {
     "data": {
      "text/html": [
       "<table class=\"simpletable\">\n",
       "<caption>OLS Regression Results</caption>\n",
       "<tr>\n",
       "  <th>Dep. Variable:</th>          <td>total</td>      <th>  R-squared:         </th> <td>   0.161</td> \n",
       "</tr>\n",
       "<tr>\n",
       "  <th>Model:</th>                   <td>OLS</td>       <th>  Adj. R-squared:    </th> <td>   0.161</td> \n",
       "</tr>\n",
       "<tr>\n",
       "  <th>Method:</th>             <td>Least Squares</td>  <th>  F-statistic:       </th> <td>   232.4</td> \n",
       "</tr>\n",
       "<tr>\n",
       "  <th>Date:</th>             <td>Thu, 29 Jun 2023</td> <th>  Prob (F-statistic):</th> <td>3.92e-48</td> \n",
       "</tr>\n",
       "<tr>\n",
       "  <th>Time:</th>                 <td>12:02:54</td>     <th>  Log-Likelihood:    </th> <td> -13546.</td> \n",
       "</tr>\n",
       "<tr>\n",
       "  <th>No. Observations:</th>      <td>  1211</td>      <th>  AIC:               </th> <td>2.710e+04</td>\n",
       "</tr>\n",
       "<tr>\n",
       "  <th>Df Residuals:</th>          <td>  1209</td>      <th>  BIC:               </th> <td>2.711e+04</td>\n",
       "</tr>\n",
       "<tr>\n",
       "  <th>Df Model:</th>              <td>     1</td>      <th>                     </th>     <td> </td>    \n",
       "</tr>\n",
       "<tr>\n",
       "  <th>Covariance Type:</th>      <td>nonrobust</td>    <th>                     </th>     <td> </td>    \n",
       "</tr>\n",
       "</table>\n",
       "<table class=\"simpletable\">\n",
       "<tr>\n",
       "      <td></td>         <th>coef</th>     <th>std err</th>      <th>t</th>      <th>P>|t|</th>  <th>[0.025</th>    <th>0.975]</th>  \n",
       "</tr>\n",
       "<tr>\n",
       "  <th>const</th>     <td>-9790.2158</td> <td> 1312.422</td> <td>   -7.460</td> <td> 0.000</td> <td>-1.24e+04</td> <td>-7215.339</td>\n",
       "</tr>\n",
       "<tr>\n",
       "  <th>env_score</th> <td> 3891.1877</td> <td>  255.240</td> <td>   15.245</td> <td> 0.000</td> <td> 3390.425</td> <td> 4391.951</td>\n",
       "</tr>\n",
       "</table>\n",
       "<table class=\"simpletable\">\n",
       "<tr>\n",
       "  <th>Omnibus:</th>       <td>1064.349</td> <th>  Durbin-Watson:     </th> <td>   0.280</td> \n",
       "</tr>\n",
       "<tr>\n",
       "  <th>Prob(Omnibus):</th>  <td> 0.000</td>  <th>  Jarque-Bera (JB):  </th> <td>28699.860</td>\n",
       "</tr>\n",
       "<tr>\n",
       "  <th>Skew:</th>           <td> 4.094</td>  <th>  Prob(JB):          </th> <td>    0.00</td> \n",
       "</tr>\n",
       "<tr>\n",
       "  <th>Kurtosis:</th>       <td>25.400</td>  <th>  Cond. No.          </th> <td>    13.9</td> \n",
       "</tr>\n",
       "</table><br/><br/>Notes:<br/>[1] Standard Errors assume that the covariance matrix of the errors is correctly specified."
      ],
      "text/plain": [
       "<class 'statsmodels.iolib.summary.Summary'>\n",
       "\"\"\"\n",
       "                            OLS Regression Results                            \n",
       "==============================================================================\n",
       "Dep. Variable:                  total   R-squared:                       0.161\n",
       "Model:                            OLS   Adj. R-squared:                  0.161\n",
       "Method:                 Least Squares   F-statistic:                     232.4\n",
       "Date:                Thu, 29 Jun 2023   Prob (F-statistic):           3.92e-48\n",
       "Time:                        12:02:54   Log-Likelihood:                -13546.\n",
       "No. Observations:                1211   AIC:                         2.710e+04\n",
       "Df Residuals:                    1209   BIC:                         2.711e+04\n",
       "Df Model:                           1                                         \n",
       "Covariance Type:            nonrobust                                         \n",
       "==============================================================================\n",
       "                 coef    std err          t      P>|t|      [0.025      0.975]\n",
       "------------------------------------------------------------------------------\n",
       "const      -9790.2158   1312.422     -7.460      0.000   -1.24e+04   -7215.339\n",
       "env_score   3891.1877    255.240     15.245      0.000    3390.425    4391.951\n",
       "==============================================================================\n",
       "Omnibus:                     1064.349   Durbin-Watson:                   0.280\n",
       "Prob(Omnibus):                  0.000   Jarque-Bera (JB):            28699.860\n",
       "Skew:                           4.094   Prob(JB):                         0.00\n",
       "Kurtosis:                      25.400   Cond. No.                         13.9\n",
       "==============================================================================\n",
       "\n",
       "Notes:\n",
       "[1] Standard Errors assume that the covariance matrix of the errors is correctly specified.\n",
       "\"\"\""
      ]
     },
     "execution_count": 91,
     "metadata": {},
     "output_type": "execute_result"
    }
   ],
   "source": [
    "# Create an OLS model\n",
    "model = sm.OLS(y, Xbc)\n",
    "# use the data to calculate the intercept and slope\n",
    "results = model.fit()\n",
    "# return the output of the model\n",
    "results.summary()\n",
    "\n",
    "#Note: this can be written as sm.OLS(y,X).fit().summary()"
   ]
  },
  {
   "attachments": {},
   "cell_type": "markdown",
   "metadata": {},
   "source": [
    "### Multiple Regression"
   ]
  },
  {
   "cell_type": "code",
   "execution_count": 69,
   "metadata": {},
   "outputs": [],
   "source": [
    "# Prepare data for modeling\n",
    "# This time, we define two independent variables as X. We name it X2 though, since X is already used above.  \n",
    "XM = df_analysis[['env_score', 'soc_score', 'gov_score']]\n",
    "XM = sm.add_constant(XM)\n",
    "# Our dependent variable stays the same\n",
    "y = df_analysis['total']"
   ]
  },
  {
   "cell_type": "code",
   "execution_count": 70,
   "metadata": {},
   "outputs": [
    {
     "data": {
      "text/html": [
       "<table class=\"simpletable\">\n",
       "<caption>OLS Regression Results</caption>\n",
       "<tr>\n",
       "  <th>Dep. Variable:</th>          <td>total</td>      <th>  R-squared:         </th> <td>   0.154</td> \n",
       "</tr>\n",
       "<tr>\n",
       "  <th>Model:</th>                   <td>OLS</td>       <th>  Adj. R-squared:    </th> <td>   0.152</td> \n",
       "</tr>\n",
       "<tr>\n",
       "  <th>Method:</th>             <td>Least Squares</td>  <th>  F-statistic:       </th> <td>   89.72</td> \n",
       "</tr>\n",
       "<tr>\n",
       "  <th>Date:</th>             <td>Thu, 29 Jun 2023</td> <th>  Prob (F-statistic):</th> <td>2.36e-53</td> \n",
       "</tr>\n",
       "<tr>\n",
       "  <th>Time:</th>                 <td>11:49:36</td>     <th>  Log-Likelihood:    </th> <td> -16525.</td> \n",
       "</tr>\n",
       "<tr>\n",
       "  <th>No. Observations:</th>      <td>  1487</td>      <th>  AIC:               </th> <td>3.306e+04</td>\n",
       "</tr>\n",
       "<tr>\n",
       "  <th>Df Residuals:</th>          <td>  1483</td>      <th>  BIC:               </th> <td>3.308e+04</td>\n",
       "</tr>\n",
       "<tr>\n",
       "  <th>Df Model:</th>              <td>     3</td>      <th>                     </th>     <td> </td>    \n",
       "</tr>\n",
       "<tr>\n",
       "  <th>Covariance Type:</th>      <td>nonrobust</td>    <th>                     </th>     <td> </td>    \n",
       "</tr>\n",
       "</table>\n",
       "<table class=\"simpletable\">\n",
       "<tr>\n",
       "      <td></td>         <th>coef</th>     <th>std err</th>      <th>t</th>      <th>P>|t|</th>  <th>[0.025</th>    <th>0.975]</th>  \n",
       "</tr>\n",
       "<tr>\n",
       "  <th>const</th>     <td>-8793.1991</td> <td> 1488.533</td> <td>   -5.907</td> <td> 0.000</td> <td>-1.17e+04</td> <td>-5873.345</td>\n",
       "</tr>\n",
       "<tr>\n",
       "  <th>env_score</th> <td> 3762.9757</td> <td>  296.708</td> <td>   12.682</td> <td> 0.000</td> <td> 3180.963</td> <td> 4344.988</td>\n",
       "</tr>\n",
       "<tr>\n",
       "  <th>soc_score</th> <td>  508.1024</td> <td>  270.376</td> <td>    1.879</td> <td> 0.060</td> <td>  -22.257</td> <td> 1038.462</td>\n",
       "</tr>\n",
       "<tr>\n",
       "  <th>gov_score</th> <td> -862.8109</td> <td>  256.758</td> <td>   -3.360</td> <td> 0.001</td> <td>-1366.458</td> <td> -359.164</td>\n",
       "</tr>\n",
       "</table>\n",
       "<table class=\"simpletable\">\n",
       "<tr>\n",
       "  <th>Omnibus:</th>       <td>1366.628</td> <th>  Durbin-Watson:     </th> <td>   0.259</td> \n",
       "</tr>\n",
       "<tr>\n",
       "  <th>Prob(Omnibus):</th>  <td> 0.000</td>  <th>  Jarque-Bera (JB):  </th> <td>44766.939</td>\n",
       "</tr>\n",
       "<tr>\n",
       "  <th>Skew:</th>           <td> 4.356</td>  <th>  Prob(JB):          </th> <td>    0.00</td> \n",
       "</tr>\n",
       "<tr>\n",
       "  <th>Kurtosis:</th>       <td>28.429</td>  <th>  Cond. No.          </th> <td>    36.3</td> \n",
       "</tr>\n",
       "</table><br/><br/>Notes:<br/>[1] Standard Errors assume that the covariance matrix of the errors is correctly specified."
      ],
      "text/plain": [
       "<class 'statsmodels.iolib.summary.Summary'>\n",
       "\"\"\"\n",
       "                            OLS Regression Results                            \n",
       "==============================================================================\n",
       "Dep. Variable:                  total   R-squared:                       0.154\n",
       "Model:                            OLS   Adj. R-squared:                  0.152\n",
       "Method:                 Least Squares   F-statistic:                     89.72\n",
       "Date:                Thu, 29 Jun 2023   Prob (F-statistic):           2.36e-53\n",
       "Time:                        11:49:36   Log-Likelihood:                -16525.\n",
       "No. Observations:                1487   AIC:                         3.306e+04\n",
       "Df Residuals:                    1483   BIC:                         3.308e+04\n",
       "Df Model:                           3                                         \n",
       "Covariance Type:            nonrobust                                         \n",
       "==============================================================================\n",
       "                 coef    std err          t      P>|t|      [0.025      0.975]\n",
       "------------------------------------------------------------------------------\n",
       "const      -8793.1991   1488.533     -5.907      0.000   -1.17e+04   -5873.345\n",
       "env_score   3762.9757    296.708     12.682      0.000    3180.963    4344.988\n",
       "soc_score    508.1024    270.376      1.879      0.060     -22.257    1038.462\n",
       "gov_score   -862.8109    256.758     -3.360      0.001   -1366.458    -359.164\n",
       "==============================================================================\n",
       "Omnibus:                     1366.628   Durbin-Watson:                   0.259\n",
       "Prob(Omnibus):                  0.000   Jarque-Bera (JB):            44766.939\n",
       "Skew:                           4.356   Prob(JB):                         0.00\n",
       "Kurtosis:                      28.429   Cond. No.                         36.3\n",
       "==============================================================================\n",
       "\n",
       "Notes:\n",
       "[1] Standard Errors assume that the covariance matrix of the errors is correctly specified.\n",
       "\"\"\""
      ]
     },
     "execution_count": 70,
     "metadata": {},
     "output_type": "execute_result"
    }
   ],
   "source": [
    "# fit model and get model summery in one step\n",
    "sm.OLS(y, XM).fit().summary()"
   ]
  },
  {
   "attachments": {},
   "cell_type": "markdown",
   "metadata": {},
   "source": [
    "Dependent Variable: The dependent variable is \"total,\" which is the variable being predicted or explained by the model.\n",
    "\n",
    "R-squared: The R-squared value of 0.151 represents the proportion of the variance in the dependent variable that can be explained by the independent variables included in the model. Approximately 15.1% of the variation in the \"total\" variable can be accounted for by the independent variables.\n",
    "\n",
    "Model Fit: The adjusted R-squared value of 0.149 suggests that the model's goodness of fit is slightly reduced when considering the number of independent variables included.\n",
    "\n",
    "F-statistic: The F-statistic tests the overall significance of the regression model. In this case, the F-statistic has a value of 87.78, and the associated probability (Prob (F-statistic)) is very close to zero (2.76e-52), indicating that the regression model as a whole is statistically significant.\n",
    "\n",
    "Coefficients: The coefficients table provides information about the individual variables in the model. The \"const\" coefficient represents the intercept or the estimated value of the dependent variable when all independent variables are zero. The coefficients for \"env_score,\" \"soc_score,\" and \"gov_score\" represent the estimated change in the dependent variable for a one-unit increase in each respective independent variable.\n",
    "\n",
    "Standard Errors: The standard errors measure the uncertainty or precision of the coefficient estimates. The \"std err\" values indicate the standard errors associated with the corresponding coefficients.\n",
    "\n",
    "t-values: The t-values assess the statistical significance of the coefficients. They are calculated by dividing the coefficient estimate by its standard error. In this case, all three independent variables (\"env_score,\" \"soc_score,\" and \"gov_score\") have t-values indicating statistical significance (t > 2) as their associated p-values are very close to zero (p < 0.05).\n",
    "\n",
    "Confidence Intervals: The confidence intervals provide a range within which we can be reasonably confident that the true population parameter lies. The values in the square brackets [0.025, 0.975] represent the lower and upper bounds of the 95% confidence intervals for the corresponding coefficients.\n",
    "\n",
    "Additional Statistics: The Omnibus, Durbin-Watson, Jarque-Bera, Skewness, and Kurtosis values provide additional information about the model's goodness-of-fit and assumptions. These statistics assess aspects such as normality, autocorrelation, and model stability.\n",
    "\n",
    "Number of Observations and Degrees of Freedom: The number of observations (1487) indicates the total number of data points used in the regression analysis. The degrees of freedom for the residuals (1483) and the model (3) represent the number of independent pieces of information available for estimating the residuals and the model parameters, respectively.\n",
    "\n",
    "Covariance Type: The covariance type is specified as \"nonrobust,\" which indicates that standard ordinary least squares (OLS) estimation methods were used, assuming homoscedasticity and no influential outliers."
   ]
  },
  {
   "cell_type": "code",
   "execution_count": 94,
   "metadata": {},
   "outputs": [],
   "source": [
    "# Prepare data for modeling\n",
    "# This time, we define two independent variables as X. We name it X2 though, since X is already used above.  \n",
    "XMbc = df_analysis_bc[['env_score', 'soc_score', 'gov_score']]\n",
    "XMbc = sm.add_constant(XMbc)\n",
    "# Our dependent variable stays the same\n",
    "y = df_analysis_bc['total']"
   ]
  },
  {
   "cell_type": "code",
   "execution_count": 96,
   "metadata": {},
   "outputs": [
    {
     "data": {
      "text/html": [
       "<table class=\"simpletable\">\n",
       "<caption>OLS Regression Results</caption>\n",
       "<tr>\n",
       "  <th>Dep. Variable:</th>          <td>total</td>      <th>  R-squared:         </th> <td>   0.169</td> \n",
       "</tr>\n",
       "<tr>\n",
       "  <th>Model:</th>                   <td>OLS</td>       <th>  Adj. R-squared:    </th> <td>   0.167</td> \n",
       "</tr>\n",
       "<tr>\n",
       "  <th>Method:</th>             <td>Least Squares</td>  <th>  F-statistic:       </th> <td>   81.95</td> \n",
       "</tr>\n",
       "<tr>\n",
       "  <th>Date:</th>             <td>Thu, 29 Jun 2023</td> <th>  Prob (F-statistic):</th> <td>2.93e-48</td> \n",
       "</tr>\n",
       "<tr>\n",
       "  <th>Time:</th>                 <td>12:04:28</td>     <th>  Log-Likelihood:    </th> <td> -13541.</td> \n",
       "</tr>\n",
       "<tr>\n",
       "  <th>No. Observations:</th>      <td>  1211</td>      <th>  AIC:               </th> <td>2.709e+04</td>\n",
       "</tr>\n",
       "<tr>\n",
       "  <th>Df Residuals:</th>          <td>  1207</td>      <th>  BIC:               </th> <td>2.711e+04</td>\n",
       "</tr>\n",
       "<tr>\n",
       "  <th>Df Model:</th>              <td>     3</td>      <th>                     </th>     <td> </td>    \n",
       "</tr>\n",
       "<tr>\n",
       "  <th>Covariance Type:</th>      <td>nonrobust</td>    <th>                     </th>     <td> </td>    \n",
       "</tr>\n",
       "</table>\n",
       "<table class=\"simpletable\">\n",
       "<tr>\n",
       "      <td></td>         <th>coef</th>     <th>std err</th>      <th>t</th>      <th>P>|t|</th>  <th>[0.025</th>    <th>0.975]</th>  \n",
       "</tr>\n",
       "<tr>\n",
       "  <th>const</th>     <td>-1.031e+04</td> <td> 1737.137</td> <td>   -5.937</td> <td> 0.000</td> <td>-1.37e+04</td> <td>-6905.723</td>\n",
       "</tr>\n",
       "<tr>\n",
       "  <th>env_score</th> <td> 4154.2788</td> <td>  351.623</td> <td>   11.815</td> <td> 0.000</td> <td> 3464.418</td> <td> 4844.140</td>\n",
       "</tr>\n",
       "<tr>\n",
       "  <th>soc_score</th> <td>  699.5308</td> <td>  318.771</td> <td>    2.194</td> <td> 0.028</td> <td>   74.124</td> <td> 1324.938</td>\n",
       "</tr>\n",
       "<tr>\n",
       "  <th>gov_score</th> <td> -938.9034</td> <td>  302.771</td> <td>   -3.101</td> <td> 0.002</td> <td>-1532.919</td> <td> -344.888</td>\n",
       "</tr>\n",
       "</table>\n",
       "<table class=\"simpletable\">\n",
       "<tr>\n",
       "  <th>Omnibus:</th>       <td>1046.829</td> <th>  Durbin-Watson:     </th> <td>   0.281</td> \n",
       "</tr>\n",
       "<tr>\n",
       "  <th>Prob(Omnibus):</th>  <td> 0.000</td>  <th>  Jarque-Bera (JB):  </th> <td>26381.077</td>\n",
       "</tr>\n",
       "<tr>\n",
       "  <th>Skew:</th>           <td> 4.017</td>  <th>  Prob(JB):          </th> <td>    0.00</td> \n",
       "</tr>\n",
       "<tr>\n",
       "  <th>Kurtosis:</th>       <td>24.407</td>  <th>  Cond. No.          </th> <td>    35.4</td> \n",
       "</tr>\n",
       "</table><br/><br/>Notes:<br/>[1] Standard Errors assume that the covariance matrix of the errors is correctly specified."
      ],
      "text/plain": [
       "<class 'statsmodels.iolib.summary.Summary'>\n",
       "\"\"\"\n",
       "                            OLS Regression Results                            \n",
       "==============================================================================\n",
       "Dep. Variable:                  total   R-squared:                       0.169\n",
       "Model:                            OLS   Adj. R-squared:                  0.167\n",
       "Method:                 Least Squares   F-statistic:                     81.95\n",
       "Date:                Thu, 29 Jun 2023   Prob (F-statistic):           2.93e-48\n",
       "Time:                        12:04:28   Log-Likelihood:                -13541.\n",
       "No. Observations:                1211   AIC:                         2.709e+04\n",
       "Df Residuals:                    1207   BIC:                         2.711e+04\n",
       "Df Model:                           3                                         \n",
       "Covariance Type:            nonrobust                                         \n",
       "==============================================================================\n",
       "                 coef    std err          t      P>|t|      [0.025      0.975]\n",
       "------------------------------------------------------------------------------\n",
       "const      -1.031e+04   1737.137     -5.937      0.000   -1.37e+04   -6905.723\n",
       "env_score   4154.2788    351.623     11.815      0.000    3464.418    4844.140\n",
       "soc_score    699.5308    318.771      2.194      0.028      74.124    1324.938\n",
       "gov_score   -938.9034    302.771     -3.101      0.002   -1532.919    -344.888\n",
       "==============================================================================\n",
       "Omnibus:                     1046.829   Durbin-Watson:                   0.281\n",
       "Prob(Omnibus):                  0.000   Jarque-Bera (JB):            26381.077\n",
       "Skew:                           4.017   Prob(JB):                         0.00\n",
       "Kurtosis:                      24.407   Cond. No.                         35.4\n",
       "==============================================================================\n",
       "\n",
       "Notes:\n",
       "[1] Standard Errors assume that the covariance matrix of the errors is correctly specified.\n",
       "\"\"\""
      ]
     },
     "execution_count": 96,
     "metadata": {},
     "output_type": "execute_result"
    }
   ],
   "source": [
    "# fit model and get model summery in one step\n",
    "sm.OLS(y, XMbc).fit().summary()"
   ]
  }
 ],
 "metadata": {
  "kernelspec": {
   "display_name": "nf_sql",
   "language": "python",
   "name": "python3"
  },
  "language_info": {
   "codemirror_mode": {
    "name": "ipython",
    "version": 3
   },
   "file_extension": ".py",
   "mimetype": "text/x-python",
   "name": "python",
   "nbconvert_exporter": "python",
   "pygments_lexer": "ipython3",
   "version": "3.9.16"
  },
  "orig_nbformat": 4
 },
 "nbformat": 4,
 "nbformat_minor": 2
}
