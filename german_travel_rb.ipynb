{
 "cells": [
  {
   "cell_type": "markdown",
   "metadata": {},
   "source": [
    "# German Residents Travel Data"
   ]
  },
  {
   "cell_type": "markdown",
   "metadata": {},
   "source": [
    "## Notebook Description\n",
    "This notebook is used to prepare and provide data on the travel behavior of German residents "
   ]
  },
  {
   "cell_type": "markdown",
   "metadata": {},
   "source": [
    "## Data Source\n",
    "DESTATIS - Statistisches Bundesamt\n",
    "Statistik über die touristische Nachfrage - Reiseverhalten \n",
    "https://www-genesis.destatis.de/genesis/online?sequenz=statistikTabellen&selectionname=45413#abreadcrumb\n"
   ]
  },
  {
   "cell_type": "markdown",
   "metadata": {},
   "source": [
    "## Imports"
   ]
  },
  {
   "cell_type": "code",
   "execution_count": 1,
   "metadata": {},
   "outputs": [],
   "source": [
    "import pandas as pd\n",
    "import matplotlib.pyplot as plt\n",
    "import sql_functions as sf\n",
    "import psycopg2"
   ]
  },
  {
   "attachments": {},
   "cell_type": "markdown",
   "metadata": {},
   "source": [
    "## DESTINATION BY CONTINENT"
   ]
  },
  {
   "cell_type": "markdown",
   "metadata": {},
   "source": [
    "### Data Loading"
   ]
  },
  {
   "cell_type": "code",
   "execution_count": 2,
   "metadata": {},
   "outputs": [],
   "source": [
    "ger_dest_cont = pd.read_csv('data/ger_dest_cont_raw.csv', delimiter=';', encoding='latin1')"
   ]
  },
  {
   "cell_type": "code",
   "execution_count": 3,
   "metadata": {},
   "outputs": [
    {
     "data": {
      "text/html": [
       "<div>\n",
       "<style scoped>\n",
       "    .dataframe tbody tr th:only-of-type {\n",
       "        vertical-align: middle;\n",
       "    }\n",
       "\n",
       "    .dataframe tbody tr th {\n",
       "        vertical-align: top;\n",
       "    }\n",
       "\n",
       "    .dataframe thead th {\n",
       "        text-align: right;\n",
       "    }\n",
       "</style>\n",
       "<table border=\"1\" class=\"dataframe\">\n",
       "  <thead>\n",
       "    <tr style=\"text-align: right;\">\n",
       "      <th></th>\n",
       "      <th>Europe</th>\n",
       "      <th>Africa</th>\n",
       "      <th>Asia</th>\n",
       "      <th>America</th>\n",
       "      <th>Australia and Oceania</th>\n",
       "    </tr>\n",
       "  </thead>\n",
       "  <tbody>\n",
       "    <tr>\n",
       "      <th>2012</th>\n",
       "      <td>71664311</td>\n",
       "      <td>2648012</td>\n",
       "      <td>3966343</td>\n",
       "      <td>4244060</td>\n",
       "      <td>x</td>\n",
       "    </tr>\n",
       "    <tr>\n",
       "      <th>2013</th>\n",
       "      <td>75218018</td>\n",
       "      <td>3085035</td>\n",
       "      <td>4278892</td>\n",
       "      <td>4528155</td>\n",
       "      <td>x</td>\n",
       "    </tr>\n",
       "    <tr>\n",
       "      <th>2014</th>\n",
       "      <td>71851324</td>\n",
       "      <td>3047756</td>\n",
       "      <td>3925565</td>\n",
       "      <td>3826949</td>\n",
       "      <td>x</td>\n",
       "    </tr>\n",
       "    <tr>\n",
       "      <th>2015</th>\n",
       "      <td>73199426</td>\n",
       "      <td>2565442</td>\n",
       "      <td>3523335</td>\n",
       "      <td>4010395</td>\n",
       "      <td>x</td>\n",
       "    </tr>\n",
       "    <tr>\n",
       "      <th>2016</th>\n",
       "      <td>79015618</td>\n",
       "      <td>2169551</td>\n",
       "      <td>5146279</td>\n",
       "      <td>4243673</td>\n",
       "      <td>x</td>\n",
       "    </tr>\n",
       "    <tr>\n",
       "      <th>2017</th>\n",
       "      <td>77013761</td>\n",
       "      <td>3882200</td>\n",
       "      <td>5421768</td>\n",
       "      <td>5356388</td>\n",
       "      <td>x</td>\n",
       "    </tr>\n",
       "    <tr>\n",
       "      <th>2018</th>\n",
       "      <td>93447192</td>\n",
       "      <td>4300153</td>\n",
       "      <td>5599372</td>\n",
       "      <td>4830714</td>\n",
       "      <td>x</td>\n",
       "    </tr>\n",
       "    <tr>\n",
       "      <th>2019</th>\n",
       "      <td>84585790</td>\n",
       "      <td>3663327</td>\n",
       "      <td>5807010</td>\n",
       "      <td>4587480</td>\n",
       "      <td>889360</td>\n",
       "    </tr>\n",
       "    <tr>\n",
       "      <th>2020</th>\n",
       "      <td>33969070</td>\n",
       "      <td>788390</td>\n",
       "      <td>1044897</td>\n",
       "      <td>1030261</td>\n",
       "      <td>x</td>\n",
       "    </tr>\n",
       "    <tr>\n",
       "      <th>2021</th>\n",
       "      <td>45505024</td>\n",
       "      <td>1098279</td>\n",
       "      <td>1037308</td>\n",
       "      <td>1026728</td>\n",
       "      <td>-</td>\n",
       "    </tr>\n",
       "  </tbody>\n",
       "</table>\n",
       "</div>"
      ],
      "text/plain": [
       "        Europe   Africa     Asia  America Australia and Oceania\n",
       "2012  71664311  2648012  3966343  4244060                     x\n",
       "2013  75218018  3085035  4278892  4528155                     x\n",
       "2014  71851324  3047756  3925565  3826949                     x\n",
       "2015  73199426  2565442  3523335  4010395                     x\n",
       "2016  79015618  2169551  5146279  4243673                     x\n",
       "2017  77013761  3882200  5421768  5356388                     x\n",
       "2018  93447192  4300153  5599372  4830714                     x\n",
       "2019  84585790  3663327  5807010  4587480                889360\n",
       "2020  33969070   788390  1044897  1030261                     x\n",
       "2021  45505024  1098279  1037308  1026728                     -"
      ]
     },
     "execution_count": 3,
     "metadata": {},
     "output_type": "execute_result"
    }
   ],
   "source": [
    "ger_dest_cont.head(10)"
   ]
  },
  {
   "cell_type": "code",
   "execution_count": 4,
   "metadata": {},
   "outputs": [
    {
     "data": {
      "text/plain": [
       "<Axes: >"
      ]
     },
     "execution_count": 4,
     "metadata": {},
     "output_type": "execute_result"
    },
    {
     "data": {
      "image/png": "[encoded data removed]",
      "text/plain": [
       "<Figure size 640x480 with 1 Axes>"
      ]
     },
     "metadata": {},
     "output_type": "display_data"
    }
   ],
   "source": [
    "ger_dest_cont.plot()"
   ]
  },
  {
   "cell_type": "code",
   "execution_count": 5,
   "metadata": {},
   "outputs": [],
   "source": [
    "#rename index to year and lower all column names\n",
    "german_dest_continent = ger_dest_cont.reset_index()\n",
    "german_dest_continent.rename(columns={'index':'year'}, inplace=True)\n",
    "german_dest_continent.rename(columns=lambda x : x.lower(), inplace=True)\n",
    "german_dest_continent.rename(columns=lambda x : x.replace(' ', '_'), inplace=True)"
   ]
  },
  {
   "cell_type": "code",
   "execution_count": 6,
   "metadata": {},
   "outputs": [],
   "source": [
    "#change the datatype of the 'year' column\n",
    "german_dest_continent['year'] = pd.to_datetime(german_dest_continent['year'], format=\"%Y\", errors='coerce')"
   ]
  },
  {
   "cell_type": "code",
   "execution_count": 7,
   "metadata": {},
   "outputs": [
    {
     "data": {
      "text/html": [
       "<div>\n",
       "<style scoped>\n",
       "    .dataframe tbody tr th:only-of-type {\n",
       "        vertical-align: middle;\n",
       "    }\n",
       "\n",
       "    .dataframe tbody tr th {\n",
       "        vertical-align: top;\n",
       "    }\n",
       "\n",
       "    .dataframe thead th {\n",
       "        text-align: right;\n",
       "    }\n",
       "</style>\n",
       "<table border=\"1\" class=\"dataframe\">\n",
       "  <thead>\n",
       "    <tr style=\"text-align: right;\">\n",
       "      <th></th>\n",
       "      <th>year</th>\n",
       "      <th>europe</th>\n",
       "      <th>africa</th>\n",
       "      <th>asia</th>\n",
       "      <th>america</th>\n",
       "      <th>australia_and_oceania</th>\n",
       "    </tr>\n",
       "  </thead>\n",
       "  <tbody>\n",
       "    <tr>\n",
       "      <th>0</th>\n",
       "      <td>2012-01-01</td>\n",
       "      <td>71664311</td>\n",
       "      <td>2648012</td>\n",
       "      <td>3966343</td>\n",
       "      <td>4244060</td>\n",
       "      <td>x</td>\n",
       "    </tr>\n",
       "    <tr>\n",
       "      <th>1</th>\n",
       "      <td>2013-01-01</td>\n",
       "      <td>75218018</td>\n",
       "      <td>3085035</td>\n",
       "      <td>4278892</td>\n",
       "      <td>4528155</td>\n",
       "      <td>x</td>\n",
       "    </tr>\n",
       "    <tr>\n",
       "      <th>2</th>\n",
       "      <td>2014-01-01</td>\n",
       "      <td>71851324</td>\n",
       "      <td>3047756</td>\n",
       "      <td>3925565</td>\n",
       "      <td>3826949</td>\n",
       "      <td>x</td>\n",
       "    </tr>\n",
       "    <tr>\n",
       "      <th>3</th>\n",
       "      <td>2015-01-01</td>\n",
       "      <td>73199426</td>\n",
       "      <td>2565442</td>\n",
       "      <td>3523335</td>\n",
       "      <td>4010395</td>\n",
       "      <td>x</td>\n",
       "    </tr>\n",
       "    <tr>\n",
       "      <th>4</th>\n",
       "      <td>2016-01-01</td>\n",
       "      <td>79015618</td>\n",
       "      <td>2169551</td>\n",
       "      <td>5146279</td>\n",
       "      <td>4243673</td>\n",
       "      <td>x</td>\n",
       "    </tr>\n",
       "    <tr>\n",
       "      <th>5</th>\n",
       "      <td>2017-01-01</td>\n",
       "      <td>77013761</td>\n",
       "      <td>3882200</td>\n",
       "      <td>5421768</td>\n",
       "      <td>5356388</td>\n",
       "      <td>x</td>\n",
       "    </tr>\n",
       "    <tr>\n",
       "      <th>6</th>\n",
       "      <td>2018-01-01</td>\n",
       "      <td>93447192</td>\n",
       "      <td>4300153</td>\n",
       "      <td>5599372</td>\n",
       "      <td>4830714</td>\n",
       "      <td>x</td>\n",
       "    </tr>\n",
       "    <tr>\n",
       "      <th>7</th>\n",
       "      <td>2019-01-01</td>\n",
       "      <td>84585790</td>\n",
       "      <td>3663327</td>\n",
       "      <td>5807010</td>\n",
       "      <td>4587480</td>\n",
       "      <td>889360</td>\n",
       "    </tr>\n",
       "    <tr>\n",
       "      <th>8</th>\n",
       "      <td>2020-01-01</td>\n",
       "      <td>33969070</td>\n",
       "      <td>788390</td>\n",
       "      <td>1044897</td>\n",
       "      <td>1030261</td>\n",
       "      <td>x</td>\n",
       "    </tr>\n",
       "    <tr>\n",
       "      <th>9</th>\n",
       "      <td>2021-01-01</td>\n",
       "      <td>45505024</td>\n",
       "      <td>1098279</td>\n",
       "      <td>1037308</td>\n",
       "      <td>1026728</td>\n",
       "      <td>-</td>\n",
       "    </tr>\n",
       "  </tbody>\n",
       "</table>\n",
       "</div>"
      ],
      "text/plain": [
       "        year    europe   africa     asia  america australia_and_oceania\n",
       "0 2012-01-01  71664311  2648012  3966343  4244060                     x\n",
       "1 2013-01-01  75218018  3085035  4278892  4528155                     x\n",
       "2 2014-01-01  71851324  3047756  3925565  3826949                     x\n",
       "3 2015-01-01  73199426  2565442  3523335  4010395                     x\n",
       "4 2016-01-01  79015618  2169551  5146279  4243673                     x\n",
       "5 2017-01-01  77013761  3882200  5421768  5356388                     x\n",
       "6 2018-01-01  93447192  4300153  5599372  4830714                     x\n",
       "7 2019-01-01  84585790  3663327  5807010  4587480                889360\n",
       "8 2020-01-01  33969070   788390  1044897  1030261                     x\n",
       "9 2021-01-01  45505024  1098279  1037308  1026728                     -"
      ]
     },
     "execution_count": 7,
     "metadata": {},
     "output_type": "execute_result"
    }
   ],
   "source": [
    "german_dest_continent"
   ]
  },
  {
   "attachments": {},
   "cell_type": "markdown",
   "metadata": {},
   "source": [
    "## DESTINATION BY COUNTRY"
   ]
  },
  {
   "cell_type": "markdown",
   "metadata": {},
   "source": [
    "### Data Loading"
   ]
  },
  {
   "cell_type": "code",
   "execution_count": 8,
   "metadata": {},
   "outputs": [],
   "source": [
    "ger_dest_country = pd.read_csv('data/ger_dest_country_raw.csv', delimiter=';', encoding='latin1')"
   ]
  },
  {
   "cell_type": "code",
   "execution_count": 9,
   "metadata": {},
   "outputs": [
    {
     "data": {
      "text/html": [
       "<div>\n",
       "<style scoped>\n",
       "    .dataframe tbody tr th:only-of-type {\n",
       "        vertical-align: middle;\n",
       "    }\n",
       "\n",
       "    .dataframe tbody tr th {\n",
       "        vertical-align: top;\n",
       "    }\n",
       "\n",
       "    .dataframe thead th {\n",
       "        text-align: right;\n",
       "    }\n",
       "</style>\n",
       "<table border=\"1\" class=\"dataframe\">\n",
       "  <thead>\n",
       "    <tr style=\"text-align: right;\">\n",
       "      <th></th>\n",
       "      <th>Belgium</th>\n",
       "      <th>Bulgaria</th>\n",
       "      <th>Denmark</th>\n",
       "      <th>Estonia</th>\n",
       "      <th>Finland</th>\n",
       "      <th>France</th>\n",
       "      <th>Greece</th>\n",
       "      <th>Ireland</th>\n",
       "      <th>Iceland</th>\n",
       "      <th>Italy</th>\n",
       "      <th>...</th>\n",
       "      <th>Slovakia</th>\n",
       "      <th>Slovenia</th>\n",
       "      <th>Spain</th>\n",
       "      <th>Czechia</th>\n",
       "      <th>Turkey</th>\n",
       "      <th>Ukraine</th>\n",
       "      <th>Hungary</th>\n",
       "      <th>United Kingdom</th>\n",
       "      <th>Cyprus</th>\n",
       "      <th>Rest of Europe</th>\n",
       "    </tr>\n",
       "  </thead>\n",
       "  <tbody>\n",
       "    <tr>\n",
       "      <th>2012</th>\n",
       "      <td>1081792</td>\n",
       "      <td>x</td>\n",
       "      <td>1990672</td>\n",
       "      <td>x</td>\n",
       "      <td>x</td>\n",
       "      <td>5525894</td>\n",
       "      <td>1371712</td>\n",
       "      <td>x</td>\n",
       "      <td>x</td>\n",
       "      <td>10734702</td>\n",
       "      <td>...</td>\n",
       "      <td>x</td>\n",
       "      <td>x</td>\n",
       "      <td>9956971</td>\n",
       "      <td>2447165</td>\n",
       "      <td>4617678</td>\n",
       "      <td>x</td>\n",
       "      <td>1157818</td>\n",
       "      <td>2188117</td>\n",
       "      <td>x</td>\n",
       "      <td>x</td>\n",
       "    </tr>\n",
       "    <tr>\n",
       "      <th>2013</th>\n",
       "      <td>1286893</td>\n",
       "      <td>532448</td>\n",
       "      <td>1656946</td>\n",
       "      <td>x</td>\n",
       "      <td>x</td>\n",
       "      <td>5222570</td>\n",
       "      <td>1907569</td>\n",
       "      <td>816946</td>\n",
       "      <td>x</td>\n",
       "      <td>10471824</td>\n",
       "      <td>...</td>\n",
       "      <td>x</td>\n",
       "      <td>x</td>\n",
       "      <td>9972999</td>\n",
       "      <td>1708549</td>\n",
       "      <td>4991780</td>\n",
       "      <td>x</td>\n",
       "      <td>1199237</td>\n",
       "      <td>4088788</td>\n",
       "      <td>x</td>\n",
       "      <td>710113</td>\n",
       "    </tr>\n",
       "    <tr>\n",
       "      <th>2014</th>\n",
       "      <td>1339362</td>\n",
       "      <td>x</td>\n",
       "      <td>2342399</td>\n",
       "      <td>x</td>\n",
       "      <td>x</td>\n",
       "      <td>5472093</td>\n",
       "      <td>2363798</td>\n",
       "      <td>608565</td>\n",
       "      <td>x</td>\n",
       "      <td>9485428</td>\n",
       "      <td>...</td>\n",
       "      <td>x</td>\n",
       "      <td>x</td>\n",
       "      <td>9143204</td>\n",
       "      <td>1632543</td>\n",
       "      <td>4893317</td>\n",
       "      <td>x</td>\n",
       "      <td>529065</td>\n",
       "      <td>2640606</td>\n",
       "      <td>x</td>\n",
       "      <td>1080462</td>\n",
       "    </tr>\n",
       "    <tr>\n",
       "      <th>2015</th>\n",
       "      <td>1169903</td>\n",
       "      <td>x</td>\n",
       "      <td>1881482</td>\n",
       "      <td>x</td>\n",
       "      <td>x</td>\n",
       "      <td>4837612</td>\n",
       "      <td>1563361</td>\n",
       "      <td>613248</td>\n",
       "      <td>x</td>\n",
       "      <td>10645721</td>\n",
       "      <td>...</td>\n",
       "      <td>x</td>\n",
       "      <td>x</td>\n",
       "      <td>10242453</td>\n",
       "      <td>2199242</td>\n",
       "      <td>4316205</td>\n",
       "      <td>x</td>\n",
       "      <td>1098884</td>\n",
       "      <td>3252563</td>\n",
       "      <td>x</td>\n",
       "      <td>859711</td>\n",
       "    </tr>\n",
       "    <tr>\n",
       "      <th>2016</th>\n",
       "      <td>1009253</td>\n",
       "      <td>1028722</td>\n",
       "      <td>1909579</td>\n",
       "      <td>x</td>\n",
       "      <td>x</td>\n",
       "      <td>5158745</td>\n",
       "      <td>2503954</td>\n",
       "      <td>684025</td>\n",
       "      <td>x</td>\n",
       "      <td>11548473</td>\n",
       "      <td>...</td>\n",
       "      <td>x</td>\n",
       "      <td>x</td>\n",
       "      <td>10392755</td>\n",
       "      <td>1854060</td>\n",
       "      <td>3344637</td>\n",
       "      <td>x</td>\n",
       "      <td>1158709</td>\n",
       "      <td>3178819</td>\n",
       "      <td>x</td>\n",
       "      <td>1034788</td>\n",
       "    </tr>\n",
       "    <tr>\n",
       "      <th>2017</th>\n",
       "      <td>1035849</td>\n",
       "      <td>x</td>\n",
       "      <td>1733186</td>\n",
       "      <td>x</td>\n",
       "      <td>x</td>\n",
       "      <td>6231466</td>\n",
       "      <td>2836539</td>\n",
       "      <td>823927</td>\n",
       "      <td>x</td>\n",
       "      <td>10972666</td>\n",
       "      <td>...</td>\n",
       "      <td>x</td>\n",
       "      <td>x</td>\n",
       "      <td>11092772</td>\n",
       "      <td>2477260</td>\n",
       "      <td>2613340</td>\n",
       "      <td>x</td>\n",
       "      <td>728394</td>\n",
       "      <td>3380327</td>\n",
       "      <td>x</td>\n",
       "      <td>745936</td>\n",
       "    </tr>\n",
       "    <tr>\n",
       "      <th>2018</th>\n",
       "      <td>1467885</td>\n",
       "      <td>718052</td>\n",
       "      <td>1938469</td>\n",
       "      <td>x</td>\n",
       "      <td>x</td>\n",
       "      <td>6143331</td>\n",
       "      <td>3297186</td>\n",
       "      <td>1119241</td>\n",
       "      <td>x</td>\n",
       "      <td>13572692</td>\n",
       "      <td>...</td>\n",
       "      <td>x</td>\n",
       "      <td>x</td>\n",
       "      <td>11671678</td>\n",
       "      <td>2630516</td>\n",
       "      <td>3815798</td>\n",
       "      <td>x</td>\n",
       "      <td>889534</td>\n",
       "      <td>4343738</td>\n",
       "      <td>x</td>\n",
       "      <td>964873</td>\n",
       "    </tr>\n",
       "    <tr>\n",
       "      <th>2019</th>\n",
       "      <td>1523551</td>\n",
       "      <td>623274</td>\n",
       "      <td>2713653</td>\n",
       "      <td>x</td>\n",
       "      <td>x</td>\n",
       "      <td>6467657</td>\n",
       "      <td>3210225</td>\n",
       "      <td>748310</td>\n",
       "      <td>x</td>\n",
       "      <td>11633147</td>\n",
       "      <td>...</td>\n",
       "      <td>x</td>\n",
       "      <td>x</td>\n",
       "      <td>10984639</td>\n",
       "      <td>2728299</td>\n",
       "      <td>3205210</td>\n",
       "      <td>x</td>\n",
       "      <td>1385049</td>\n",
       "      <td>2981999</td>\n",
       "      <td>x</td>\n",
       "      <td>715584</td>\n",
       "    </tr>\n",
       "    <tr>\n",
       "      <th>2020</th>\n",
       "      <td>500305</td>\n",
       "      <td>x</td>\n",
       "      <td>1060487</td>\n",
       "      <td>x</td>\n",
       "      <td>x</td>\n",
       "      <td>2653406</td>\n",
       "      <td>935316</td>\n",
       "      <td>x</td>\n",
       "      <td>x</td>\n",
       "      <td>4151171</td>\n",
       "      <td>...</td>\n",
       "      <td>x</td>\n",
       "      <td>x</td>\n",
       "      <td>2716432</td>\n",
       "      <td>831259</td>\n",
       "      <td>x</td>\n",
       "      <td>-</td>\n",
       "      <td>x</td>\n",
       "      <td>x</td>\n",
       "      <td>x</td>\n",
       "      <td>x</td>\n",
       "    </tr>\n",
       "    <tr>\n",
       "      <th>2021</th>\n",
       "      <td>644750</td>\n",
       "      <td>x</td>\n",
       "      <td>1328161</td>\n",
       "      <td>-</td>\n",
       "      <td>x</td>\n",
       "      <td>3383096</td>\n",
       "      <td>2042277</td>\n",
       "      <td>x</td>\n",
       "      <td>x</td>\n",
       "      <td>7551822</td>\n",
       "      <td>...</td>\n",
       "      <td>x</td>\n",
       "      <td>x</td>\n",
       "      <td>5414450</td>\n",
       "      <td>868133</td>\n",
       "      <td>1663875</td>\n",
       "      <td>x</td>\n",
       "      <td>x</td>\n",
       "      <td>x</td>\n",
       "      <td>x</td>\n",
       "      <td>x</td>\n",
       "    </tr>\n",
       "  </tbody>\n",
       "</table>\n",
       "<p>10 rows × 34 columns</p>\n",
       "</div>"
      ],
      "text/plain": [
       "      Belgium Bulgaria  Denmark Estonia Finland   France   Greece  Ireland  \\\n",
       "2012  1081792        x  1990672       x       x  5525894  1371712        x   \n",
       "2013  1286893   532448  1656946       x       x  5222570  1907569   816946   \n",
       "2014  1339362        x  2342399       x       x  5472093  2363798   608565   \n",
       "2015  1169903        x  1881482       x       x  4837612  1563361   613248   \n",
       "2016  1009253  1028722  1909579       x       x  5158745  2503954   684025   \n",
       "2017  1035849        x  1733186       x       x  6231466  2836539   823927   \n",
       "2018  1467885   718052  1938469       x       x  6143331  3297186  1119241   \n",
       "2019  1523551   623274  2713653       x       x  6467657  3210225   748310   \n",
       "2020   500305        x  1060487       x       x  2653406   935316        x   \n",
       "2021   644750        x  1328161       -       x  3383096  2042277        x   \n",
       "\n",
       "     Iceland     Italy  ...  Slovakia Slovenia     Spain  Czechia   Turkey  \\\n",
       "2012       x  10734702  ...         x        x   9956971  2447165  4617678   \n",
       "2013       x  10471824  ...         x        x   9972999  1708549  4991780   \n",
       "2014       x   9485428  ...         x        x   9143204  1632543  4893317   \n",
       "2015       x  10645721  ...         x        x  10242453  2199242  4316205   \n",
       "2016       x  11548473  ...         x        x  10392755  1854060  3344637   \n",
       "2017       x  10972666  ...         x        x  11092772  2477260  2613340   \n",
       "2018       x  13572692  ...         x        x  11671678  2630516  3815798   \n",
       "2019       x  11633147  ...         x        x  10984639  2728299  3205210   \n",
       "2020       x   4151171  ...         x        x   2716432   831259        x   \n",
       "2021       x   7551822  ...         x        x   5414450   868133  1663875   \n",
       "\n",
       "      Ukraine  Hungary  United Kingdom  Cyprus  Rest of Europe  \n",
       "2012        x  1157818         2188117       x               x  \n",
       "2013        x  1199237         4088788       x          710113  \n",
       "2014        x   529065         2640606       x         1080462  \n",
       "2015        x  1098884         3252563       x          859711  \n",
       "2016        x  1158709         3178819       x         1034788  \n",
       "2017        x   728394         3380327       x          745936  \n",
       "2018        x   889534         4343738       x          964873  \n",
       "2019        x  1385049         2981999       x          715584  \n",
       "2020        -        x               x       x               x  \n",
       "2021        x        x               x       x               x  \n",
       "\n",
       "[10 rows x 34 columns]"
      ]
     },
     "execution_count": 9,
     "metadata": {},
     "output_type": "execute_result"
    }
   ],
   "source": [
    "ger_dest_country.head(10)"
   ]
  },
  {
   "cell_type": "code",
   "execution_count": 10,
   "metadata": {},
   "outputs": [
    {
     "data": {
      "text/plain": [
       "<Axes: >"
      ]
     },
     "execution_count": 10,
     "metadata": {},
     "output_type": "execute_result"
    },
    {
     "data": {
      "image/png": "[encoded data removed]",
      "text/plain": [
       "<Figure size 640x480 with 1 Axes>"
      ]
     },
     "metadata": {},
     "output_type": "display_data"
    }
   ],
   "source": [
    "ger_dest_country.plot()"
   ]
  },
  {
   "cell_type": "code",
   "execution_count": 11,
   "metadata": {},
   "outputs": [],
   "source": [
    "#lower all column names and replace empty space\n",
    "ger_dest_country.rename(columns=lambda x : x.lower(), inplace=True)\n",
    "ger_dest_country.rename(columns=lambda x : x.replace(' ', '_'), inplace=True)"
   ]
  },
  {
   "cell_type": "code",
   "execution_count": 12,
   "metadata": {},
   "outputs": [
    {
     "data": {
      "text/plain": [
       "Index(['belgium', 'bulgaria', 'denmark', 'estonia', 'finland', 'france',\n",
       "       'greece', 'ireland', 'iceland', 'italy', 'croatia', 'latvia',\n",
       "       'lithuania', 'luxembourg', 'malta', 'netherlands', 'norway', 'austria',\n",
       "       'poland', 'portugal', 'romania', 'russian_federation', 'sweden',\n",
       "       'switzerland', 'slovakia', 'slovenia', 'spain', 'czechia', 'turkey',\n",
       "       'ukraine', 'hungary', 'united_kingdom', 'cyprus', 'rest_of_europe'],\n",
       "      dtype='object')"
      ]
     },
     "execution_count": 12,
     "metadata": {},
     "output_type": "execute_result"
    }
   ],
   "source": [
    "ger_dest_country.columns"
   ]
  },
  {
   "cell_type": "code",
   "execution_count": 13,
   "metadata": {},
   "outputs": [],
   "source": [
    "#select the country names\n",
    "country_columns = ['belgium', \n",
    "                   'bulgaria', \n",
    "                   'denmark', \n",
    "                   'estonia', \n",
    "                   'finland',\n",
    "                    'france', \n",
    "                    'greece', \n",
    "                    'ireland', \n",
    "                    'iceland', \n",
    "                    'italy', \n",
    "                    'croatia', \n",
    "                    'latvia',\n",
    "                    'lithuania', \n",
    "                    'luxembourg', \n",
    "                    'malta', \n",
    "                    'netherlands', \n",
    "                    'norway', \n",
    "                    'austria',\n",
    "                    'poland', \n",
    "                    'portugal', \n",
    "                    'romania', \n",
    "                    'russian_federation', \n",
    "                    'sweden',\n",
    "                    'switzerland', \n",
    "                    'slovakia', \n",
    "                    'slovenia', \n",
    "                    'spain', \n",
    "                    'czechia', \n",
    "                    'turkey',\n",
    "                    'ukraine', \n",
    "                    'hungary', \n",
    "                    'united_kingdom', \n",
    "                    'cyprus', \n",
    "                    'rest_of_europe']"
   ]
  },
  {
   "cell_type": "code",
   "execution_count": 14,
   "metadata": {},
   "outputs": [],
   "source": [
    "#import the list of iso3 codes\n",
    "from country_iso_dict import country_iso_dict"
   ]
  },
  {
   "cell_type": "code",
   "execution_count": 15,
   "metadata": {},
   "outputs": [],
   "source": [
    "country_iso_dict = {key.lower(): value for key, value in country_iso_dict.items()}"
   ]
  },
  {
   "cell_type": "code",
   "execution_count": 16,
   "metadata": {},
   "outputs": [],
   "source": [
    "#replace the country names with the iso3 code\n",
    "for i in country_columns:\n",
    "    ger_dest_country.rename(columns=country_iso_dict, inplace=True)"
   ]
  },
  {
   "cell_type": "code",
   "execution_count": 17,
   "metadata": {},
   "outputs": [
    {
     "data": {
      "text/plain": [
       "Index(['BEL', 'BGR', 'DNK', 'EST', 'FIN', 'FRA', 'GRC', 'IRL', 'ISL', 'ITA',\n",
       "       'HRV', 'LVA', 'LTU', 'LUX', 'MLT', 'NLD', 'NOR', 'AUT', 'POL', 'PRT',\n",
       "       'ROU', 'russian_federation', 'SWE', 'CHE', 'SVK', 'SVN', 'ESP',\n",
       "       'czechia', 'TUR', 'UKR', 'HUN', 'united_kingdom', 'CYP',\n",
       "       'rest_of_europe'],\n",
       "      dtype='object')"
      ]
     },
     "execution_count": 17,
     "metadata": {},
     "output_type": "execute_result"
    }
   ],
   "source": [
    "ger_dest_country.columns"
   ]
  },
  {
   "cell_type": "code",
   "execution_count": 18,
   "metadata": {},
   "outputs": [],
   "source": [
    "#replace the countries not in the list with the iso3 code\n",
    "ger_dest_country.rename(columns={'russian_federation':'RUS','czechia':'CZE', 'united_kingdom':'GBR'}, inplace=True)"
   ]
  },
  {
   "cell_type": "code",
   "execution_count": 19,
   "metadata": {},
   "outputs": [
    {
     "name": "stdout",
     "output_type": "stream",
     "text": [
      "<class 'pandas.core.frame.DataFrame'>\n",
      "Int64Index: 10 entries, 2012 to 2021\n",
      "Data columns (total 34 columns):\n",
      " #   Column          Non-Null Count  Dtype \n",
      "---  ------          --------------  ----- \n",
      " 0   BEL             10 non-null     int64 \n",
      " 1   BGR             10 non-null     object\n",
      " 2   DNK             10 non-null     int64 \n",
      " 3   EST             10 non-null     object\n",
      " 4   FIN             10 non-null     object\n",
      " 5   FRA             10 non-null     int64 \n",
      " 6   GRC             10 non-null     int64 \n",
      " 7   IRL             10 non-null     object\n",
      " 8   ISL             10 non-null     object\n",
      " 9   ITA             10 non-null     int64 \n",
      " 10  HRV             10 non-null     int64 \n",
      " 11  LVA             10 non-null     object\n",
      " 12  LTU             10 non-null     object\n",
      " 13  LUX             10 non-null     object\n",
      " 14  MLT             10 non-null     object\n",
      " 15  NLD             10 non-null     int64 \n",
      " 16  NOR             10 non-null     object\n",
      " 17  AUT             10 non-null     int64 \n",
      " 18  POL             10 non-null     int64 \n",
      " 19  PRT             10 non-null     int64 \n",
      " 20  ROU             10 non-null     object\n",
      " 21  RUS             10 non-null     object\n",
      " 22  SWE             10 non-null     object\n",
      " 23  CHE             10 non-null     int64 \n",
      " 24  SVK             10 non-null     object\n",
      " 25  SVN             10 non-null     object\n",
      " 26  ESP             10 non-null     int64 \n",
      " 27  CZE             10 non-null     int64 \n",
      " 28  TUR             10 non-null     object\n",
      " 29  UKR             10 non-null     object\n",
      " 30  HUN             10 non-null     object\n",
      " 31  GBR             10 non-null     object\n",
      " 32  CYP             10 non-null     object\n",
      " 33  rest_of_europe  10 non-null     object\n",
      "dtypes: int64(13), object(21)\n",
      "memory usage: 2.7+ KB\n"
     ]
    }
   ],
   "source": [
    "ger_dest_country.info()"
   ]
  },
  {
   "cell_type": "code",
   "execution_count": 20,
   "metadata": {},
   "outputs": [],
   "source": [
    "#change the datatype from the country columns in float\n",
    "col_num = ['BEL', 'BGR', 'DNK', 'EST', 'FIN', 'FRA', 'GRC', 'IRL',\n",
    "       'ISL', 'ITA', 'HRV', 'LVA', 'LTU', 'LUX', 'MLT', 'NLD', 'NOR', 'AUT',\n",
    "       'POL', 'PRT', 'ROU', 'RUS', 'SWE', 'CHE', 'SVK', 'SVN', 'ESP', 'CZE',\n",
    "       'TUR', 'UKR', 'HUN', 'GBR', 'CYP', 'rest_of_europe']\n",
    "\n",
    "for i in col_num:\n",
    "    ger_dest_country[i] = pd.to_numeric(ger_dest_country[i], downcast='float', errors='coerce')"
   ]
  },
  {
   "cell_type": "code",
   "execution_count": 21,
   "metadata": {},
   "outputs": [],
   "source": [
    "#transpose the columns to rows\n",
    "german_destination = ger_dest_country.transpose().reset_index()"
   ]
  },
  {
   "cell_type": "code",
   "execution_count": 22,
   "metadata": {},
   "outputs": [],
   "source": [
    "#rename the new index to iso3\n",
    "german_destination.rename(columns={'index':'iso3'}, inplace=True)"
   ]
  },
  {
   "cell_type": "code",
   "execution_count": 23,
   "metadata": {},
   "outputs": [],
   "source": [
    "#transform the dataset in the right shape\n",
    "df_melted = german_destination.melt(id_vars='iso3', var_name='year', value_name='tourists')"
   ]
  },
  {
   "cell_type": "code",
   "execution_count": 24,
   "metadata": {},
   "outputs": [
    {
     "name": "stdout",
     "output_type": "stream",
     "text": [
      "<class 'pandas.core.frame.DataFrame'>\n",
      "RangeIndex: 340 entries, 0 to 339\n",
      "Data columns (total 3 columns):\n",
      " #   Column    Non-Null Count  Dtype  \n",
      "---  ------    --------------  -----  \n",
      " 0   iso3      340 non-null    object \n",
      " 1   year      340 non-null    object \n",
      " 2   tourists  200 non-null    float32\n",
      "dtypes: float32(1), object(2)\n",
      "memory usage: 6.8+ KB\n"
     ]
    }
   ],
   "source": [
    "df_melted.info()"
   ]
  },
  {
   "cell_type": "code",
   "execution_count": 25,
   "metadata": {},
   "outputs": [],
   "source": [
    "#change datatype from the column year to datetime\n",
    "df_melted['year'] = pd.to_datetime(df_melted['year'], format=\"%Y\", errors='coerce')"
   ]
  },
  {
   "cell_type": "code",
   "execution_count": 26,
   "metadata": {},
   "outputs": [],
   "source": [
    "german_dest_country = df_melted.dropna()"
   ]
  },
  {
   "cell_type": "code",
   "execution_count": 27,
   "metadata": {},
   "outputs": [
    {
     "data": {
      "text/html": [
       "<div>\n",
       "<style scoped>\n",
       "    .dataframe tbody tr th:only-of-type {\n",
       "        vertical-align: middle;\n",
       "    }\n",
       "\n",
       "    .dataframe tbody tr th {\n",
       "        vertical-align: top;\n",
       "    }\n",
       "\n",
       "    .dataframe thead th {\n",
       "        text-align: right;\n",
       "    }\n",
       "</style>\n",
       "<table border=\"1\" class=\"dataframe\">\n",
       "  <thead>\n",
       "    <tr style=\"text-align: right;\">\n",
       "      <th></th>\n",
       "      <th>iso3</th>\n",
       "      <th>year</th>\n",
       "      <th>tourists</th>\n",
       "    </tr>\n",
       "  </thead>\n",
       "  <tbody>\n",
       "    <tr>\n",
       "      <th>0</th>\n",
       "      <td>BEL</td>\n",
       "      <td>2012-01-01</td>\n",
       "      <td>1081792.0</td>\n",
       "    </tr>\n",
       "    <tr>\n",
       "      <th>2</th>\n",
       "      <td>DNK</td>\n",
       "      <td>2012-01-01</td>\n",
       "      <td>1990672.0</td>\n",
       "    </tr>\n",
       "    <tr>\n",
       "      <th>5</th>\n",
       "      <td>FRA</td>\n",
       "      <td>2012-01-01</td>\n",
       "      <td>5525894.0</td>\n",
       "    </tr>\n",
       "    <tr>\n",
       "      <th>6</th>\n",
       "      <td>GRC</td>\n",
       "      <td>2012-01-01</td>\n",
       "      <td>1371712.0</td>\n",
       "    </tr>\n",
       "    <tr>\n",
       "      <th>9</th>\n",
       "      <td>ITA</td>\n",
       "      <td>2012-01-01</td>\n",
       "      <td>10734702.0</td>\n",
       "    </tr>\n",
       "    <tr>\n",
       "      <th>...</th>\n",
       "      <td>...</td>\n",
       "      <td>...</td>\n",
       "      <td>...</td>\n",
       "    </tr>\n",
       "    <tr>\n",
       "      <th>328</th>\n",
       "      <td>SWE</td>\n",
       "      <td>2021-01-01</td>\n",
       "      <td>520825.0</td>\n",
       "    </tr>\n",
       "    <tr>\n",
       "      <th>329</th>\n",
       "      <td>CHE</td>\n",
       "      <td>2021-01-01</td>\n",
       "      <td>1577465.0</td>\n",
       "    </tr>\n",
       "    <tr>\n",
       "      <th>332</th>\n",
       "      <td>ESP</td>\n",
       "      <td>2021-01-01</td>\n",
       "      <td>5414450.0</td>\n",
       "    </tr>\n",
       "    <tr>\n",
       "      <th>333</th>\n",
       "      <td>CZE</td>\n",
       "      <td>2021-01-01</td>\n",
       "      <td>868133.0</td>\n",
       "    </tr>\n",
       "    <tr>\n",
       "      <th>334</th>\n",
       "      <td>TUR</td>\n",
       "      <td>2021-01-01</td>\n",
       "      <td>1663875.0</td>\n",
       "    </tr>\n",
       "  </tbody>\n",
       "</table>\n",
       "<p>200 rows × 3 columns</p>\n",
       "</div>"
      ],
      "text/plain": [
       "    iso3       year    tourists\n",
       "0    BEL 2012-01-01   1081792.0\n",
       "2    DNK 2012-01-01   1990672.0\n",
       "5    FRA 2012-01-01   5525894.0\n",
       "6    GRC 2012-01-01   1371712.0\n",
       "9    ITA 2012-01-01  10734702.0\n",
       "..   ...        ...         ...\n",
       "328  SWE 2021-01-01    520825.0\n",
       "329  CHE 2021-01-01   1577465.0\n",
       "332  ESP 2021-01-01   5414450.0\n",
       "333  CZE 2021-01-01    868133.0\n",
       "334  TUR 2021-01-01   1663875.0\n",
       "\n",
       "[200 rows x 3 columns]"
      ]
     },
     "execution_count": 27,
     "metadata": {},
     "output_type": "execute_result"
    }
   ],
   "source": [
    "german_dest_country"
   ]
  },
  {
   "attachments": {},
   "cell_type": "markdown",
   "metadata": {},
   "source": [
    "## TRANSPORT MODE"
   ]
  },
  {
   "cell_type": "markdown",
   "metadata": {},
   "source": [
    "### Data Loading"
   ]
  },
  {
   "cell_type": "code",
   "execution_count": 28,
   "metadata": {},
   "outputs": [],
   "source": [
    "ger_trans = pd.read_csv('data/ger_transport_raw.csv', delimiter=';', encoding='latin1')"
   ]
  },
  {
   "cell_type": "code",
   "execution_count": 29,
   "metadata": {},
   "outputs": [
    {
     "data": {
      "text/html": [
       "<div>\n",
       "<style scoped>\n",
       "    .dataframe tbody tr th:only-of-type {\n",
       "        vertical-align: middle;\n",
       "    }\n",
       "\n",
       "    .dataframe tbody tr th {\n",
       "        vertical-align: top;\n",
       "    }\n",
       "\n",
       "    .dataframe thead th {\n",
       "        text-align: right;\n",
       "    }\n",
       "</style>\n",
       "<table border=\"1\" class=\"dataframe\">\n",
       "  <thead>\n",
       "    <tr style=\"text-align: right;\">\n",
       "      <th></th>\n",
       "      <th>Airplane</th>\n",
       "      <th>Ship</th>\n",
       "      <th>Train</th>\n",
       "      <th>Bus</th>\n",
       "      <th>Motor vehicle</th>\n",
       "      <th>Other means of transport</th>\n",
       "    </tr>\n",
       "  </thead>\n",
       "  <tbody>\n",
       "    <tr>\n",
       "      <th>2012</th>\n",
       "      <td>40754905</td>\n",
       "      <td>3366728</td>\n",
       "      <td>34819832</td>\n",
       "      <td>11878291</td>\n",
       "      <td>149725223</td>\n",
       "      <td>6979006</td>\n",
       "    </tr>\n",
       "    <tr>\n",
       "      <th>2013</th>\n",
       "      <td>41735644</td>\n",
       "      <td>3141468</td>\n",
       "      <td>34662822</td>\n",
       "      <td>14340007</td>\n",
       "      <td>149111016</td>\n",
       "      <td>5591062</td>\n",
       "    </tr>\n",
       "    <tr>\n",
       "      <th>2014</th>\n",
       "      <td>39370171</td>\n",
       "      <td>2947322</td>\n",
       "      <td>34110002</td>\n",
       "      <td>11952531</td>\n",
       "      <td>144536865</td>\n",
       "      <td>3993056</td>\n",
       "    </tr>\n",
       "    <tr>\n",
       "      <th>2015</th>\n",
       "      <td>39885520</td>\n",
       "      <td>2787698</td>\n",
       "      <td>32311342</td>\n",
       "      <td>15863473</td>\n",
       "      <td>152227500</td>\n",
       "      <td>4800413</td>\n",
       "    </tr>\n",
       "    <tr>\n",
       "      <th>2016</th>\n",
       "      <td>43856798</td>\n",
       "      <td>2976491</td>\n",
       "      <td>38957292</td>\n",
       "      <td>16591207</td>\n",
       "      <td>147231057</td>\n",
       "      <td>6035232</td>\n",
       "    </tr>\n",
       "    <tr>\n",
       "      <th>2017</th>\n",
       "      <td>45972060</td>\n",
       "      <td>3507190</td>\n",
       "      <td>35025166</td>\n",
       "      <td>14383199</td>\n",
       "      <td>139804287</td>\n",
       "      <td>4885207</td>\n",
       "    </tr>\n",
       "    <tr>\n",
       "      <th>2018</th>\n",
       "      <td>49138652</td>\n",
       "      <td>3987513</td>\n",
       "      <td>37168879</td>\n",
       "      <td>13239594</td>\n",
       "      <td>156575466</td>\n",
       "      <td>7769007</td>\n",
       "    </tr>\n",
       "    <tr>\n",
       "      <th>2019</th>\n",
       "      <td>43326257</td>\n",
       "      <td>4150904</td>\n",
       "      <td>41222411</td>\n",
       "      <td>12361317</td>\n",
       "      <td>153776487</td>\n",
       "      <td>5680510</td>\n",
       "    </tr>\n",
       "    <tr>\n",
       "      <th>2020</th>\n",
       "      <td>11565999</td>\n",
       "      <td>913470</td>\n",
       "      <td>21921470</td>\n",
       "      <td>2396251</td>\n",
       "      <td>106579346</td>\n",
       "      <td>2785876</td>\n",
       "    </tr>\n",
       "    <tr>\n",
       "      <th>2021</th>\n",
       "      <td>15356393</td>\n",
       "      <td>1472621</td>\n",
       "      <td>30627940</td>\n",
       "      <td>4675576</td>\n",
       "      <td>122135673</td>\n",
       "      <td>3890087</td>\n",
       "    </tr>\n",
       "  </tbody>\n",
       "</table>\n",
       "</div>"
      ],
      "text/plain": [
       "      Airplane     Ship     Train       Bus  Motor vehicle  \\\n",
       "2012  40754905  3366728  34819832  11878291      149725223   \n",
       "2013  41735644  3141468  34662822  14340007      149111016   \n",
       "2014  39370171  2947322  34110002  11952531      144536865   \n",
       "2015  39885520  2787698  32311342  15863473      152227500   \n",
       "2016  43856798  2976491  38957292  16591207      147231057   \n",
       "2017  45972060  3507190  35025166  14383199      139804287   \n",
       "2018  49138652  3987513  37168879  13239594      156575466   \n",
       "2019  43326257  4150904  41222411  12361317      153776487   \n",
       "2020  11565999   913470  21921470   2396251      106579346   \n",
       "2021  15356393  1472621  30627940   4675576      122135673   \n",
       "\n",
       "      Other means of transport  \n",
       "2012                   6979006  \n",
       "2013                   5591062  \n",
       "2014                   3993056  \n",
       "2015                   4800413  \n",
       "2016                   6035232  \n",
       "2017                   4885207  \n",
       "2018                   7769007  \n",
       "2019                   5680510  \n",
       "2020                   2785876  \n",
       "2021                   3890087  "
      ]
     },
     "execution_count": 29,
     "metadata": {},
     "output_type": "execute_result"
    }
   ],
   "source": [
    "ger_trans"
   ]
  },
  {
   "cell_type": "code",
   "execution_count": 30,
   "metadata": {},
   "outputs": [
    {
     "data": {
      "text/plain": [
       "<Axes: >"
      ]
     },
     "execution_count": 30,
     "metadata": {},
     "output_type": "execute_result"
    },
    {
     "data": {
      "image/png": "[encoded data removed]",
      "text/plain": [
       "<Figure size 640x480 with 1 Axes>"
      ]
     },
     "metadata": {},
     "output_type": "display_data"
    }
   ],
   "source": [
    "ger_trans.plot()"
   ]
  },
  {
   "cell_type": "code",
   "execution_count": 31,
   "metadata": {},
   "outputs": [],
   "source": [
    "german_transport = ger_trans.reset_index()"
   ]
  },
  {
   "cell_type": "code",
   "execution_count": 32,
   "metadata": {},
   "outputs": [],
   "source": [
    "german_transport.rename(columns={'index':'year'}, inplace=True)\n",
    "german_transport.rename(columns=lambda x : x.lower(), inplace=True)\n",
    "german_transport.rename(columns=lambda x : x.replace(' ', '_'), inplace=True)"
   ]
  },
  {
   "cell_type": "code",
   "execution_count": 33,
   "metadata": {},
   "outputs": [],
   "source": [
    "german_transport['year'] = pd.to_datetime(german_transport['year'], format=\"%Y\", errors='coerce')"
   ]
  },
  {
   "cell_type": "code",
   "execution_count": 34,
   "metadata": {},
   "outputs": [
    {
     "data": {
      "text/html": [
       "<div>\n",
       "<style scoped>\n",
       "    .dataframe tbody tr th:only-of-type {\n",
       "        vertical-align: middle;\n",
       "    }\n",
       "\n",
       "    .dataframe tbody tr th {\n",
       "        vertical-align: top;\n",
       "    }\n",
       "\n",
       "    .dataframe thead th {\n",
       "        text-align: right;\n",
       "    }\n",
       "</style>\n",
       "<table border=\"1\" class=\"dataframe\">\n",
       "  <thead>\n",
       "    <tr style=\"text-align: right;\">\n",
       "      <th></th>\n",
       "      <th>year</th>\n",
       "      <th>airplane</th>\n",
       "      <th>ship</th>\n",
       "      <th>train</th>\n",
       "      <th>bus</th>\n",
       "      <th>motor_vehicle</th>\n",
       "      <th>other_means_of_transport</th>\n",
       "    </tr>\n",
       "  </thead>\n",
       "  <tbody>\n",
       "    <tr>\n",
       "      <th>0</th>\n",
       "      <td>2012-01-01</td>\n",
       "      <td>40754905</td>\n",
       "      <td>3366728</td>\n",
       "      <td>34819832</td>\n",
       "      <td>11878291</td>\n",
       "      <td>149725223</td>\n",
       "      <td>6979006</td>\n",
       "    </tr>\n",
       "    <tr>\n",
       "      <th>1</th>\n",
       "      <td>2013-01-01</td>\n",
       "      <td>41735644</td>\n",
       "      <td>3141468</td>\n",
       "      <td>34662822</td>\n",
       "      <td>14340007</td>\n",
       "      <td>149111016</td>\n",
       "      <td>5591062</td>\n",
       "    </tr>\n",
       "    <tr>\n",
       "      <th>2</th>\n",
       "      <td>2014-01-01</td>\n",
       "      <td>39370171</td>\n",
       "      <td>2947322</td>\n",
       "      <td>34110002</td>\n",
       "      <td>11952531</td>\n",
       "      <td>144536865</td>\n",
       "      <td>3993056</td>\n",
       "    </tr>\n",
       "    <tr>\n",
       "      <th>3</th>\n",
       "      <td>2015-01-01</td>\n",
       "      <td>39885520</td>\n",
       "      <td>2787698</td>\n",
       "      <td>32311342</td>\n",
       "      <td>15863473</td>\n",
       "      <td>152227500</td>\n",
       "      <td>4800413</td>\n",
       "    </tr>\n",
       "    <tr>\n",
       "      <th>4</th>\n",
       "      <td>2016-01-01</td>\n",
       "      <td>43856798</td>\n",
       "      <td>2976491</td>\n",
       "      <td>38957292</td>\n",
       "      <td>16591207</td>\n",
       "      <td>147231057</td>\n",
       "      <td>6035232</td>\n",
       "    </tr>\n",
       "    <tr>\n",
       "      <th>5</th>\n",
       "      <td>2017-01-01</td>\n",
       "      <td>45972060</td>\n",
       "      <td>3507190</td>\n",
       "      <td>35025166</td>\n",
       "      <td>14383199</td>\n",
       "      <td>139804287</td>\n",
       "      <td>4885207</td>\n",
       "    </tr>\n",
       "    <tr>\n",
       "      <th>6</th>\n",
       "      <td>2018-01-01</td>\n",
       "      <td>49138652</td>\n",
       "      <td>3987513</td>\n",
       "      <td>37168879</td>\n",
       "      <td>13239594</td>\n",
       "      <td>156575466</td>\n",
       "      <td>7769007</td>\n",
       "    </tr>\n",
       "    <tr>\n",
       "      <th>7</th>\n",
       "      <td>2019-01-01</td>\n",
       "      <td>43326257</td>\n",
       "      <td>4150904</td>\n",
       "      <td>41222411</td>\n",
       "      <td>12361317</td>\n",
       "      <td>153776487</td>\n",
       "      <td>5680510</td>\n",
       "    </tr>\n",
       "    <tr>\n",
       "      <th>8</th>\n",
       "      <td>2020-01-01</td>\n",
       "      <td>11565999</td>\n",
       "      <td>913470</td>\n",
       "      <td>21921470</td>\n",
       "      <td>2396251</td>\n",
       "      <td>106579346</td>\n",
       "      <td>2785876</td>\n",
       "    </tr>\n",
       "    <tr>\n",
       "      <th>9</th>\n",
       "      <td>2021-01-01</td>\n",
       "      <td>15356393</td>\n",
       "      <td>1472621</td>\n",
       "      <td>30627940</td>\n",
       "      <td>4675576</td>\n",
       "      <td>122135673</td>\n",
       "      <td>3890087</td>\n",
       "    </tr>\n",
       "  </tbody>\n",
       "</table>\n",
       "</div>"
      ],
      "text/plain": [
       "        year  airplane     ship     train       bus  motor_vehicle  \\\n",
       "0 2012-01-01  40754905  3366728  34819832  11878291      149725223   \n",
       "1 2013-01-01  41735644  3141468  34662822  14340007      149111016   \n",
       "2 2014-01-01  39370171  2947322  34110002  11952531      144536865   \n",
       "3 2015-01-01  39885520  2787698  32311342  15863473      152227500   \n",
       "4 2016-01-01  43856798  2976491  38957292  16591207      147231057   \n",
       "5 2017-01-01  45972060  3507190  35025166  14383199      139804287   \n",
       "6 2018-01-01  49138652  3987513  37168879  13239594      156575466   \n",
       "7 2019-01-01  43326257  4150904  41222411  12361317      153776487   \n",
       "8 2020-01-01  11565999   913470  21921470   2396251      106579346   \n",
       "9 2021-01-01  15356393  1472621  30627940   4675576      122135673   \n",
       "\n",
       "   other_means_of_transport  \n",
       "0                   6979006  \n",
       "1                   5591062  \n",
       "2                   3993056  \n",
       "3                   4800413  \n",
       "4                   6035232  \n",
       "5                   4885207  \n",
       "6                   7769007  \n",
       "7                   5680510  \n",
       "8                   2785876  \n",
       "9                   3890087  "
      ]
     },
     "execution_count": 34,
     "metadata": {},
     "output_type": "execute_result"
    }
   ],
   "source": [
    "german_transport"
   ]
  },
  {
   "cell_type": "code",
   "execution_count": 35,
   "metadata": {},
   "outputs": [
    {
     "name": "stdout",
     "output_type": "stream",
     "text": [
      "<class 'pandas.core.frame.DataFrame'>\n",
      "RangeIndex: 10 entries, 0 to 9\n",
      "Data columns (total 7 columns):\n",
      " #   Column                    Non-Null Count  Dtype         \n",
      "---  ------                    --------------  -----         \n",
      " 0   year                      10 non-null     datetime64[ns]\n",
      " 1   airplane                  10 non-null     int64         \n",
      " 2   ship                      10 non-null     int64         \n",
      " 3   train                     10 non-null     int64         \n",
      " 4   bus                       10 non-null     int64         \n",
      " 5   motor_vehicle             10 non-null     int64         \n",
      " 6   other_means_of_transport  10 non-null     int64         \n",
      "dtypes: datetime64[ns](1), int64(6)\n",
      "memory usage: 688.0 bytes\n"
     ]
    }
   ],
   "source": [
    "german_transport.info()"
   ]
  },
  {
   "attachments": {},
   "cell_type": "markdown",
   "metadata": {},
   "source": [
    "## DOMESTIC AND FOREIGN TOURISM"
   ]
  },
  {
   "cell_type": "markdown",
   "metadata": {},
   "source": [
    "### Data Loading"
   ]
  },
  {
   "cell_type": "code",
   "execution_count": 36,
   "metadata": {},
   "outputs": [],
   "source": [
    "ger_in_out = pd.read_csv('data/ger_dest_in_out_raw.csv', delimiter=';', encoding='latin1')"
   ]
  },
  {
   "cell_type": "code",
   "execution_count": 37,
   "metadata": {},
   "outputs": [
    {
     "data": {
      "text/html": [
       "<div>\n",
       "<style scoped>\n",
       "    .dataframe tbody tr th:only-of-type {\n",
       "        vertical-align: middle;\n",
       "    }\n",
       "\n",
       "    .dataframe tbody tr th {\n",
       "        vertical-align: top;\n",
       "    }\n",
       "\n",
       "    .dataframe thead th {\n",
       "        text-align: right;\n",
       "    }\n",
       "</style>\n",
       "<table border=\"1\" class=\"dataframe\">\n",
       "  <thead>\n",
       "    <tr style=\"text-align: right;\">\n",
       "      <th></th>\n",
       "      <th>Domestic territory</th>\n",
       "      <th>Foreign countries</th>\n",
       "    </tr>\n",
       "  </thead>\n",
       "  <tbody>\n",
       "    <tr>\n",
       "      <th>2012</th>\n",
       "      <td>164795239</td>\n",
       "      <td>82728747</td>\n",
       "    </tr>\n",
       "    <tr>\n",
       "      <th>2013</th>\n",
       "      <td>161123466</td>\n",
       "      <td>87458553</td>\n",
       "    </tr>\n",
       "    <tr>\n",
       "      <th>2014</th>\n",
       "      <td>153901939</td>\n",
       "      <td>83008008</td>\n",
       "    </tr>\n",
       "    <tr>\n",
       "      <th>2015</th>\n",
       "      <td>164138592</td>\n",
       "      <td>83737354</td>\n",
       "    </tr>\n",
       "    <tr>\n",
       "      <th>2016</th>\n",
       "      <td>164682477</td>\n",
       "      <td>90965601</td>\n",
       "    </tr>\n",
       "    <tr>\n",
       "      <th>2017</th>\n",
       "      <td>151175053</td>\n",
       "      <td>92402056</td>\n",
       "    </tr>\n",
       "    <tr>\n",
       "      <th>2018</th>\n",
       "      <td>159337582</td>\n",
       "      <td>108541530</td>\n",
       "    </tr>\n",
       "    <tr>\n",
       "      <th>2019</th>\n",
       "      <td>160984920</td>\n",
       "      <td>99532966</td>\n",
       "    </tr>\n",
       "    <tr>\n",
       "      <th>2020</th>\n",
       "      <td>109295843</td>\n",
       "      <td>36866570</td>\n",
       "    </tr>\n",
       "    <tr>\n",
       "      <th>2021</th>\n",
       "      <td>129490949</td>\n",
       "      <td>48667340</td>\n",
       "    </tr>\n",
       "  </tbody>\n",
       "</table>\n",
       "</div>"
      ],
      "text/plain": [
       "      Domestic territory  Foreign countries\n",
       "2012           164795239           82728747\n",
       "2013           161123466           87458553\n",
       "2014           153901939           83008008\n",
       "2015           164138592           83737354\n",
       "2016           164682477           90965601\n",
       "2017           151175053           92402056\n",
       "2018           159337582          108541530\n",
       "2019           160984920           99532966\n",
       "2020           109295843           36866570\n",
       "2021           129490949           48667340"
      ]
     },
     "execution_count": 37,
     "metadata": {},
     "output_type": "execute_result"
    }
   ],
   "source": [
    "ger_in_out"
   ]
  },
  {
   "cell_type": "code",
   "execution_count": 38,
   "metadata": {},
   "outputs": [
    {
     "data": {
      "text/plain": [
       "<Axes: >"
      ]
     },
     "execution_count": 38,
     "metadata": {},
     "output_type": "execute_result"
    },
    {
     "data": {
      "image/png": "[encoded data removed]",
      "text/plain": [
       "<Figure size 640x480 with 1 Axes>"
      ]
     },
     "metadata": {},
     "output_type": "display_data"
    }
   ],
   "source": [
    "ger_in_out.plot()"
   ]
  },
  {
   "cell_type": "code",
   "execution_count": 39,
   "metadata": {},
   "outputs": [
    {
     "name": "stdout",
     "output_type": "stream",
     "text": [
      "<class 'pandas.core.frame.DataFrame'>\n",
      "Int64Index: 10 entries, 2012 to 2021\n",
      "Data columns (total 2 columns):\n",
      " #   Column              Non-Null Count  Dtype\n",
      "---  ------              --------------  -----\n",
      " 0   Domestic territory  10 non-null     int64\n",
      " 1   Foreign countries   10 non-null     int64\n",
      "dtypes: int64(2)\n",
      "memory usage: 240.0 bytes\n"
     ]
    }
   ],
   "source": [
    "ger_in_out.info()"
   ]
  },
  {
   "cell_type": "code",
   "execution_count": 40,
   "metadata": {},
   "outputs": [],
   "source": [
    "german_in_out = ger_in_out.reset_index()"
   ]
  },
  {
   "cell_type": "code",
   "execution_count": 41,
   "metadata": {},
   "outputs": [],
   "source": [
    "german_in_out.rename(columns={'index':'year'}, inplace=True)\n",
    "german_in_out.rename(columns=lambda x : x.lower(), inplace=True)\n",
    "german_in_out.rename(columns=lambda x : x.replace(' ', '_'), inplace=True)"
   ]
  },
  {
   "cell_type": "code",
   "execution_count": 42,
   "metadata": {},
   "outputs": [],
   "source": [
    "german_in_out['year'] = pd.to_datetime(german_in_out['year'], format=\"%Y\", errors='coerce')"
   ]
  },
  {
   "cell_type": "code",
   "execution_count": 43,
   "metadata": {},
   "outputs": [
    {
     "name": "stdout",
     "output_type": "stream",
     "text": [
      "<class 'pandas.core.frame.DataFrame'>\n",
      "RangeIndex: 10 entries, 0 to 9\n",
      "Data columns (total 3 columns):\n",
      " #   Column              Non-Null Count  Dtype         \n",
      "---  ------              --------------  -----         \n",
      " 0   year                10 non-null     datetime64[ns]\n",
      " 1   domestic_territory  10 non-null     int64         \n",
      " 2   foreign_countries   10 non-null     int64         \n",
      "dtypes: datetime64[ns](1), int64(2)\n",
      "memory usage: 368.0 bytes\n"
     ]
    }
   ],
   "source": [
    "german_in_out.info()"
   ]
  },
  {
   "cell_type": "markdown",
   "metadata": {},
   "source": [
    "## Save Dataframes"
   ]
  },
  {
   "cell_type": "code",
   "execution_count": 44,
   "metadata": {},
   "outputs": [],
   "source": [
    "german_dest_continent.to_csv('data/german_dest_continent.csv')\n",
    "german_dest_country.to_csv('data/german_dest_country.csv')\n",
    "german_transport.to_csv('data/german_transport.csv')\n",
    "german_in_out.to_csv('data/german_in_out.csv')"
   ]
  },
  {
   "attachments": {},
   "cell_type": "markdown",
   "metadata": {},
   "source": [
    "## Upload to server"
   ]
  },
  {
   "cell_type": "code",
   "execution_count": null,
   "metadata": {},
   "outputs": [
    {
     "name": "stdout",
     "output_type": "stream",
     "text": [
      "<class 'pandas.core.frame.DataFrame'>\n",
      "RangeIndex: 10 entries, 0 to 9\n",
      "Data columns (total 6 columns):\n",
      " #   Column                 Non-Null Count  Dtype         \n",
      "---  ------                 --------------  -----         \n",
      " 0   year                   10 non-null     datetime64[ns]\n",
      " 1   europe                 10 non-null     int64         \n",
      " 2   africa                 10 non-null     int64         \n",
      " 3   asia                   10 non-null     int64         \n",
      " 4   america                10 non-null     int64         \n",
      " 5   australia_and_oceania  10 non-null     object        \n",
      "dtypes: datetime64[ns](1), int64(4), object(1)\n",
      "memory usage: 608.0+ bytes\n",
      "None\n",
      "<class 'pandas.core.frame.DataFrame'>\n",
      "Int64Index: 200 entries, 0 to 334\n",
      "Data columns (total 3 columns):\n",
      " #   Column    Non-Null Count  Dtype         \n",
      "---  ------    --------------  -----         \n",
      " 0   iso3      200 non-null    object        \n",
      " 1   year      200 non-null    datetime64[ns]\n",
      " 2   tourists  200 non-null    float32       \n",
      "dtypes: datetime64[ns](1), float32(1), object(1)\n",
      "memory usage: 5.5+ KB\n",
      "None\n",
      "<class 'pandas.core.frame.DataFrame'>\n",
      "RangeIndex: 10 entries, 0 to 9\n",
      "Data columns (total 7 columns):\n",
      " #   Column                    Non-Null Count  Dtype         \n",
      "---  ------                    --------------  -----         \n",
      " 0   year                      10 non-null     datetime64[ns]\n",
      " 1   airplane                  10 non-null     int64         \n",
      " 2   ship                      10 non-null     int64         \n",
      " 3   train                     10 non-null     int64         \n",
      " 4   bus                       10 non-null     int64         \n",
      " 5   motor_vehicle             10 non-null     int64         \n",
      " 6   other_means_of_transport  10 non-null     int64         \n",
      "dtypes: datetime64[ns](1), int64(6)\n",
      "memory usage: 688.0 bytes\n",
      "None\n",
      "<class 'pandas.core.frame.DataFrame'>\n",
      "RangeIndex: 10 entries, 0 to 9\n",
      "Data columns (total 3 columns):\n",
      " #   Column              Non-Null Count  Dtype         \n",
      "---  ------              --------------  -----         \n",
      " 0   year                10 non-null     datetime64[ns]\n",
      " 1   domestic_territory  10 non-null     int64         \n",
      " 2   foreign_countries   10 non-null     int64         \n",
      "dtypes: datetime64[ns](1), int64(2)\n",
      "memory usage: 368.0 bytes\n",
      "None\n"
     ]
    }
   ],
   "source": [
    "#Check before upload\n",
    "print(german_dest_continent.info())\n",
    "print(german_dest_country.info())\n",
    "print(german_transport.info())\n",
    "print(german_in_out.info())"
   ]
  },
  {
   "cell_type": "code",
   "execution_count": null,
   "metadata": {},
   "outputs": [],
   "source": [
    "schema = 'capstone_travel_index'\n",
    "engine = sf.get_engine()"
   ]
  },
  {
   "cell_type": "code",
   "execution_count": null,
   "metadata": {},
   "outputs": [
    {
     "name": "stdout",
     "output_type": "stream",
     "text": [
      "The german_in_out table was imported successfully.\n"
     ]
    }
   ],
   "source": [
    "# table_name = 'german_in_out'\n",
    "\n",
    "# if engine!=None:\n",
    "#     try:\n",
    "#         german_in_out.to_sql(name=table_name, # Name of SQL table\n",
    "#                         con=engine, # Engine or connection\n",
    "#                         if_exists='replace', # Drop the table before inserting new values \n",
    "#                         schema=schema, # Use schmea that was defined earlier\n",
    "#                         index=False, # Write DataFrame index as a column\n",
    "#                         chunksize=5000, # Specify the number of rows in each batch to be written at a time\n",
    "#                         method='multi') # Pass multiple values in a single INSERT clause\n",
    "#         print(f\"The {table_name} table was imported successfully.\")\n",
    "#     # Error handling\n",
    "#     except (Exception, psycopg2.DatabaseError) as error:\n",
    "#         print(error)\n",
    "#         engine = None"
   ]
  }
 ],
 "metadata": {
  "kernelspec": {
   "display_name": "nf_muesli",
   "language": "python",
   "name": "python3"
  },
  "language_info": {
   "codemirror_mode": {
    "name": "ipython",
    "version": 3
   },
   "file_extension": ".py",
   "mimetype": "text/x-python",
   "name": "python",
   "nbconvert_exporter": "python",
   "pygments_lexer": "ipython3",
   "version": "3.9.16"
  },
  "orig_nbformat": 4
 },
 "nbformat": 4,
 "nbformat_minor": 2
}
